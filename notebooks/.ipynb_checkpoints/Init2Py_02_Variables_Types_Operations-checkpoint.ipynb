{
 "cells": [
  {
   "cell_type": "code",
   "execution_count": null,
   "metadata": {},
   "outputs": [],
   "source": [
    "## Lecture 1: Introducing Python\n",
    "    \n",
    "\n",
    "### <center> <b> <span style=\"color:blue;\"> Introducing-Python </span> </b></center>"
   ]
  },
  {
   "cell_type": "markdown",
   "metadata": {
    "id": "dbWWPvGhTELF"
   },
   "source": [
    "### <center> <b> <span style=\"color:blue;\"> Variables, Types & Operations </span> </b></center>"
   ]
  },
  {
   "cell_type": "markdown",
   "metadata": {
    "id": "aHOJAzhJUObm"
   },
   "source": [
    "Once we have *data types*, we need *variables* to stock our data.\n",
    "    In reality, Python doesn't offer the notion of variable, but rather the notion of *objects reference*. While the objet is not  modifiable (like integers, flots, etc.), there is no significant difference.\n",
    "        In this Notebook, we discuss some important lines around the use of variables in Python."
   ]
  },
  {
   "cell_type": "markdown",
   "metadata": {
    "id": "Hf8s19kkUObz"
   },
   "source": [
    "#  <left> <b> <span style=\"color:orange;\"> 0. Define a variable</span> </b></left>\n",
    "\n",
    "In Python, a variable is a programming objet that allows to stock an\n",
    "information in computer's  memory by assigning a symbolic name. A variable is\n",
    "defined by using the mathematical operator `=` either by a direct attribution of its value, or by anattribution from a value of another variable. Examples :"
   ]
  },
  {
   "cell_type": "markdown",
   "metadata": {
    "id": "1XtDNGDvUOb1"
   },
   "source": [
    "## <left> <b> <span style=\"color:brown;\"> 0.0 Direct assignment </span> </b></left>"
   ]
  },
  {
   "cell_type": "code",
   "execution_count": 1,
   "metadata": {
    "executionInfo": {
     "elapsed": 5,
     "status": "ok",
     "timestamp": 1713629033282,
     "user": {
      "displayName": "Kanigui Frejus Soro",
      "userId": "11393731695353443540"
     },
     "user_tz": -120
    },
    "id": "TPsVwXJTUOb3"
   },
   "outputs": [],
   "source": [
    "x = 86  # define a variable named x and assign it the value 86"
   ]
  },
  {
   "cell_type": "code",
   "execution_count": 2,
   "metadata": {
    "executionInfo": {
     "elapsed": 6,
     "status": "ok",
     "timestamp": 1713629038403,
     "user": {
      "displayName": "Kanigui Frejus Soro",
      "userId": "11393731695353443540"
     },
     "user_tz": -120
    },
    "id": "LGFBV404UOb5"
   },
   "outputs": [],
   "source": [
    "y = 4.8134  # define a variable named y and assign it the value 4.8134\n"
   ]
  },
  {
   "cell_type": "code",
   "execution_count": 3,
   "metadata": {
    "executionInfo": {
     "elapsed": 322,
     "status": "ok",
     "timestamp": 1713629043757,
     "user": {
      "displayName": "Kanigui Frejus Soro",
      "userId": "11393731695353443540"
     },
     "user_tz": -120
    },
    "id": "F_BxxSHeUOb5"
   },
   "outputs": [],
   "source": [
    "salutation = \"How are you ?\" # define a variable named x and assign it the value \" How are you ?\""
   ]
  },
  {
   "cell_type": "markdown",
   "metadata": {
    "id": "FT1AxvMCx5CY"
   },
   "source": []
  },
  {
   "cell_type": "markdown",
   "metadata": {
    "id": "zEHz3asPUOb6"
   },
   "source": [
    "## <left> <b> <span style=\"color:brown;\"> 0.1 Display</span> </b></left>\n",
    "\n",
    "To display the values of the three defined variables, one uses the function `print()`- on which we will come back later while talking about *functions objects in Python*."
   ]
  },
  {
   "cell_type": "code",
   "execution_count": null,
   "metadata": {
    "colab": {
     "base_uri": "https://localhost:8080/"
    },
    "executionInfo": {
     "elapsed": 416,
     "status": "ok",
     "timestamp": 1660991919089,
     "user": {
      "displayName": "Kouassi Cyrille Kouassi",
      "userId": "16700886710403535099"
     },
     "user_tz": 0
    },
    "id": "0InQACGpUOb7",
    "outputId": "2eb61d4c-bc12-4dcc-817b-758321d1eedc"
   },
   "outputs": [
    {
     "name": "stdout",
     "output_type": "stream",
     "text": [
      "86\n"
     ]
    }
   ],
   "source": [
    "print(x)"
   ]
  },
  {
   "cell_type": "code",
   "execution_count": null,
   "metadata": {
    "id": "iRdo7biXJ8eZ"
   },
   "outputs": [],
   "source": []
  },
  {
   "cell_type": "code",
   "execution_count": null,
   "metadata": {
    "id": "HFwgbdGaJ9yj"
   },
   "outputs": [],
   "source": []
  },
  {
   "cell_type": "code",
   "execution_count": null,
   "metadata": {
    "id": "6q7v4hliKARh"
   },
   "outputs": [],
   "source": []
  },
  {
   "cell_type": "code",
   "execution_count": null,
   "metadata": {
    "id": "ywmd-Xl6KA9F"
   },
   "outputs": [],
   "source": []
  },
  {
   "cell_type": "code",
   "execution_count": null,
   "metadata": {
    "id": "1nKxyUehKBD1"
   },
   "outputs": [],
   "source": []
  },
  {
   "cell_type": "code",
   "execution_count": null,
   "metadata": {
    "id": "YF8DzqvRKBJg"
   },
   "outputs": [],
   "source": []
  },
  {
   "cell_type": "code",
   "execution_count": null,
   "metadata": {
    "id": "NqAmd3ZdKBPo"
   },
   "outputs": [],
   "source": []
  },
  {
   "cell_type": "code",
   "execution_count": null,
   "metadata": {
    "id": "ZytJ9V9cKBV2"
   },
   "outputs": [],
   "source": []
  },
  {
   "cell_type": "code",
   "execution_count": null,
   "metadata": {
    "colab": {
     "base_uri": "https://localhost:8080/"
    },
    "executionInfo": {
     "elapsed": 415,
     "status": "ok",
     "timestamp": 1660991945166,
     "user": {
      "displayName": "Kouassi Cyrille Kouassi",
      "userId": "16700886710403535099"
     },
     "user_tz": 0
    },
    "id": "wT02fq0FUOb_",
    "outputId": "d04416c3-d934-41f4-ec02-0fc902e5ce06"
   },
   "outputs": [
    {
     "name": "stdout",
     "output_type": "stream",
     "text": [
      "4.8134\n"
     ]
    }
   ],
   "source": [
    "print(y)"
   ]
  },
  {
   "cell_type": "code",
   "execution_count": null,
   "metadata": {
    "colab": {
     "base_uri": "https://localhost:8080/"
    },
    "executionInfo": {
     "elapsed": 425,
     "status": "ok",
     "timestamp": 1660991947813,
     "user": {
      "displayName": "Kouassi Cyrille Kouassi",
      "userId": "16700886710403535099"
     },
     "user_tz": 0
    },
    "id": "maU6TveuUOcA",
    "outputId": "e6d0d126-1526-4370-b586-11062eace796"
   },
   "outputs": [
    {
     "name": "stdout",
     "output_type": "stream",
     "text": [
      "How are you ?\n"
     ]
    }
   ],
   "source": [
    "print(salutation)"
   ]
  },
  {
   "cell_type": "markdown",
   "metadata": {
    "id": "gS4gs4HNUOcC"
   },
   "source": [
    "To display the three values on the same line, we use one print function by separating the variables with commas:\n"
   ]
  },
  {
   "cell_type": "code",
   "execution_count": null,
   "metadata": {
    "colab": {
     "base_uri": "https://localhost:8080/"
    },
    "executionInfo": {
     "elapsed": 485,
     "status": "ok",
     "timestamp": 1660991968311,
     "user": {
      "displayName": "Kouassi Cyrille Kouassi",
      "userId": "16700886710403535099"
     },
     "user_tz": 0
    },
    "id": "TaNFF6kuUOcD",
    "outputId": "8514adea-d912-4e92-9498-b7448240930a"
   },
   "outputs": [
    {
     "name": "stdout",
     "output_type": "stream",
     "text": [
      "86 4.8134 How are you ?\n"
     ]
    }
   ],
   "source": [
    "print(x,y,salutation)"
   ]
  },
  {
   "cell_type": "markdown",
   "metadata": {
    "id": "zmNBeMIKUOcG"
   },
   "source": [
    "## <left> <b> <span style=\"color:brown;\"> 0.2 Multiple assignment </span> </b></left>\n",
    "\n",
    "The presented examples fall within the framework of what we've called  `direct attribution`. A `multiple attribution` is one case of `direct attribution`that consist to attribuate a same value to many variables in the same line of code. Example :"
   ]
  },
  {
   "cell_type": "code",
   "execution_count": null,
   "metadata": {
    "id": "hkXJg7jZUOcH"
   },
   "outputs": [],
   "source": [
    "x = y = 7 # x and y simultaneously take the same value 7."
   ]
  },
  {
   "cell_type": "markdown",
   "metadata": {
    "id": "kim9IIwJUOcH"
   },
   "source": [
    "## <left> <b> <span style=\"color:brown;\"> 0.3 Parallel assignment </span> </b></left>\n",
    "A `parallel assignment` consists to define multiple  variables by using one equality symbol. Example :"
   ]
  },
  {
   "cell_type": "code",
   "execution_count": null,
   "metadata": {
    "id": "XknS8csEUOcJ"
   },
   "outputs": [],
   "source": [
    "x, y = 4, 8.33 # One define two variables x and y whose values are respectively 4 and 8.33."
   ]
  },
  {
   "cell_type": "code",
   "execution_count": null,
   "metadata": {
    "colab": {
     "base_uri": "https://localhost:8080/",
     "height": 132
    },
    "executionInfo": {
     "elapsed": 550,
     "status": "error",
     "timestamp": 1660993047361,
     "user": {
      "displayName": "Kouassi Cyrille Kouassi",
      "userId": "16700886710403535099"
     },
     "user_tz": 0
    },
    "id": "WyD8XblGUOcJ",
    "outputId": "ed463ca8-7033-4fc9-80a1-067006868dd9"
   },
   "outputs": [
    {
     "ename": "SyntaxError",
     "evalue": "ignored",
     "output_type": "error",
     "traceback": [
      "\u001b[0;36m  File \u001b[0;32m\"<ipython-input-23-fb62d8027857>\"\u001b[0;36m, line \u001b[0;32m2\u001b[0m\n\u001b[0;31m    2dd= 2\u001b[0m\n\u001b[0m      ^\u001b[0m\n\u001b[0;31mSyntaxError\u001b[0m\u001b[0;31m:\u001b[0m invalid syntax\n"
     ]
    }
   ],
   "source": [
    "## <left> <b> <span style=\"color:brown;\"> 0.2 Assignment error  </span> </b></left>\n",
    "2dd= 2"
   ]
  },
  {
   "cell_type": "markdown",
   "metadata": {
    "id": "Q6HLgFpPUOcL",
    "outputId": "35b665fa-4104-41bf-bcd3-7263b0cb94e7"
   },
   "source": [
    "This leads us to briefly talk about admissibles variable names in Python."
   ]
  },
  {
   "cell_type": "markdown",
   "metadata": {
    "id": "digc9fLcUOcT"
   },
   "source": [
    "##  <left> <b> <span style=\"color:brown;\">0.4 Naming conventions </span> </b></left>"
   ]
  },
  {
   "cell_type": "markdown",
   "metadata": {
    "id": "GRGZv0AUUOcV"
   },
   "source": [
    "Naming conventions of different elements of code are important because they give additional informations to developers regarding the nature of certain attributes or certain variables. One must keep in mind some principles regarding variable names.\n",
    "The convention for variable names is the following:\n",
    "\n",
    "   - They must only contain alphanumerical characters (a-z, A-Z, 0-9) and  underscore character` _`.\n",
    "   - Variable names can start with `_` , `$` , or by a letter;\n",
    "   - Variable names can be in  miniature or in uppercase;\n",
    "   - Variable names can start with a digit;\n",
    "   - Blank spaces are not allowed in Variable names;\n",
    "   - The reserved words like `if`, `else` , etc., can't be used as variable names;\n",
    "\n",
    "\n",
    "<left> <b> <span style=\"color:brown;\"> The good programmer always does his best to choose as relevant variable names as possible. </span> </b></left>"
   ]
  },
  {
   "cell_type": "markdown",
   "metadata": {
    "id": "bofqUjNiUOcW"
   },
   "source": [
    "In Python, there are **33** reserved words whose list is below given:"
   ]
  },
  {
   "cell_type": "markdown",
   "metadata": {
    "id": "FT1kqw3UUOcY"
   },
   "source": [
    "|             |                  |                  |                  |                  |\n",
    "|-------------|------------------|------------------|------------------|------------------|\n",
    "|``and``      | ``elif``         | ``if``           | ``or``           | ``yield``        |\n",
    "|``as``       | ``else``         | ``import``       | ``pass``         |                  |\n",
    "|``assert``   | ``except``       | ``in``           | ``raise``        |                  |  \n",
    "|``break``    | ``False``        | ``is``           | ``return``       |                  |\n",
    "|``class``    | ``finally``      | ``lambda``       | ``True``         |                  |\n",
    "|``continue`` | ``for``          | ``None``         | ``try``          |                  |\n",
    "|``def``      | ``from``         | ``nonlocal``     | ``while``        |                  |\n",
    "|``del``      | ``global``       | ``not``          | ``with``         |                  |"
   ]
  },
  {
   "cell_type": "markdown",
   "metadata": {
    "id": "waG7S-3XUOcY"
   },
   "source": [
    "### <left> <b> <span style=\"color:red;\"> Note</span> </b></left>\n",
    "\n",
    "You can always obtain the list of keywords in your present Python version by typing\n",
    "`import keyword ; print(keyword.kwlist)` in a python environnement."
   ]
  },
  {
   "cell_type": "code",
   "execution_count": null,
   "metadata": {
    "colab": {
     "base_uri": "https://localhost:8080/"
    },
    "executionInfo": {
     "elapsed": 520,
     "status": "ok",
     "timestamp": 1660993514977,
     "user": {
      "displayName": "Kouassi Cyrille Kouassi",
      "userId": "16700886710403535099"
     },
     "user_tz": 0
    },
    "id": "Iw7Cx_glUOcZ",
    "outputId": "a7264f07-d64d-4fe0-8c33-69cb91276b6d"
   },
   "outputs": [
    {
     "name": "stdout",
     "output_type": "stream",
     "text": [
      "['False', 'None', 'True', 'and', 'as', 'assert', 'async', 'await', 'break', 'class', 'continue', 'def', 'del', 'elif', 'else', 'except', 'finally', 'for', 'from', 'global', 'if', 'import', 'in', 'is', 'lambda', 'nonlocal', 'not', 'or', 'pass', 'raise', 'return', 'try', 'while', 'with', 'yield']\n"
     ]
    }
   ],
   "source": [
    "import keyword ; print(keyword.kwlist)"
   ]
  },
  {
   "cell_type": "markdown",
   "metadata": {
    "id": "CsNq5kanUOca"
   },
   "source": [
    "**Remark**: Python is case sensitive, thus, variable names `Age` and `age` are distincts. Depending on the language, there is a [naming convention](https://en.wikipedia.org/wiki/Naming_convention_(programming)#Python_and_Ruby) for the variables which is recommended.\n",
    "\n",
    "- `UpperCamelCase` for class names;\n",
    "\n",
    "- `CAPITALIZED_WITH_UNDERSCORES` for constants;\n",
    "\n",
    "- `lowercase_separated_by_underscores` or `snake_case` for the other variables."
   ]
  },
  {
   "cell_type": "markdown",
   "metadata": {
    "id": "U2xHcxAgUOca"
   },
   "source": [
    "****\n",
    "**A fundamental exercise  : exchanging the content of two variables**\n",
    "\n",
    "> One supposes that the variables `x` and `y` have respectively the values of integers $\\alpha$ and $\\beta$. One would like to exchange the content of these variables.\n",
    "\n",
    "\n",
    ">   - a. First method : suggest a method that uses a auxiliary variable `tmp`.\n",
    "       ```python\n",
    "          tmp = x\n",
    "          x = y\n",
    "          y = tmp\n",
    "       ```\n",
    ">   - b. Second method : One performs the sequence of the following instructions:\n",
    "       ```python\n",
    "          x = x + y; y = x - y; x = x - y  \n",
    "       ```\n",
    "       \n",
    ">   - c. Third method (the most « pythonic ») : Use a parallel attribution .\n",
    "      ```python\n",
    "         x, y = y, x\n",
    "      ```   \n",
    "****"
   ]
  },
  {
   "cell_type": "code",
   "execution_count": null,
   "metadata": {
    "colab": {
     "base_uri": "https://localhost:8080/"
    },
    "executionInfo": {
     "elapsed": 381,
     "status": "ok",
     "timestamp": 1660995076179,
     "user": {
      "displayName": "Kouassi Cyrille Kouassi",
      "userId": "16700886710403535099"
     },
     "user_tz": 0
    },
    "id": "lluuII6i9bO7",
    "outputId": "80aa70e4-a581-49ed-85bc-cf9d76150525"
   },
   "outputs": [
    {
     "name": "stdout",
     "output_type": "stream",
     "text": [
      "9 6\n"
     ]
    }
   ],
   "source": [
    "x,y =6,9\n",
    "x,y=y,x\n",
    "print(x,y)"
   ]
  },
  {
   "cell_type": "markdown",
   "metadata": {
    "id": "ljpJuja2UOca"
   },
   "source": [
    "### <left> <b> <span style=\"color:red;\"> First method </span> </b></left>"
   ]
  },
  {
   "cell_type": "code",
   "execution_count": null,
   "metadata": {
    "colab": {
     "base_uri": "https://localhost:8080/"
    },
    "executionInfo": {
     "elapsed": 20,
     "status": "ok",
     "timestamp": 1660954872706,
     "user": {
      "displayName": "Kouassi Cyrille Kouassi",
      "userId": "16700886710403535099"
     },
     "user_tz": 0
    },
    "id": "7GKADryQUOcb",
    "outputId": "687883ec-7b3b-4ca4-a58c-5e8f5e127d74"
   },
   "outputs": [
    {
     "name": "stdout",
     "output_type": "stream",
     "text": [
      "5 4\n",
      "================================================\n",
      "\t\n",
      "4 5\n"
     ]
    }
   ],
   "source": [
    "x = 5\n",
    "y = 4\n",
    "print(x,y)\n",
    "print(\"================================================\")\n",
    "print('\\t')\n",
    "\n",
    "tmp = x\n",
    "x = y\n",
    "y = tmp\n",
    "print(x,y)"
   ]
  },
  {
   "cell_type": "markdown",
   "metadata": {
    "id": "y39wJW3uUOcc"
   },
   "source": [
    "### <left> <b> <span style=\"color:red;\"> Second method </span> </b></left>"
   ]
  },
  {
   "cell_type": "code",
   "execution_count": null,
   "metadata": {
    "colab": {
     "base_uri": "https://localhost:8080/"
    },
    "executionInfo": {
     "elapsed": 903,
     "status": "ok",
     "timestamp": 1660954873594,
     "user": {
      "displayName": "Kouassi Cyrille Kouassi",
      "userId": "16700886710403535099"
     },
     "user_tz": 0
    },
    "id": "E0JZDkqoUOcc",
    "outputId": "2357273b-752d-4af3-8403-0f355c756be6"
   },
   "outputs": [
    {
     "name": "stdout",
     "output_type": "stream",
     "text": [
      "7 9\n",
      "================================================\n",
      "\t\n",
      "9 7\n"
     ]
    }
   ],
   "source": [
    "x = 7\n",
    "y = 9\n",
    "print(x,y)\n",
    "print(\"================================================\")\n",
    "print('\\t')\n",
    "\n",
    "\n",
    "x = x + y; y = x - y; x = x - y\n",
    "print(x,y)"
   ]
  },
  {
   "cell_type": "markdown",
   "metadata": {
    "id": "Hyl7xIqgUOcd"
   },
   "source": [
    "### <left> <b> <span style=\"color:red;\"> Third method </span> </b></left>"
   ]
  },
  {
   "cell_type": "code",
   "execution_count": null,
   "metadata": {
    "colab": {
     "base_uri": "https://localhost:8080/"
    },
    "executionInfo": {
     "elapsed": 18,
     "status": "ok",
     "timestamp": 1660954873596,
     "user": {
      "displayName": "Kouassi Cyrille Kouassi",
      "userId": "16700886710403535099"
     },
     "user_tz": 0
    },
    "id": "UTVGan3eUOce",
    "outputId": "ec6d5400-f755-416e-ea47-eb13c9b140c6"
   },
   "outputs": [
    {
     "name": "stdout",
     "output_type": "stream",
     "text": [
      "90 15\n",
      "================================================\n",
      "\t\n",
      "15 90\n"
     ]
    }
   ],
   "source": [
    "x = 90\n",
    "y = 15\n",
    "print(x,y)\n",
    "print(\"================================================\")\n",
    "print('\\t')\n",
    "\n",
    "\n",
    "x, y = y, x\n",
    "print(x,y)"
   ]
  },
  {
   "cell_type": "code",
   "execution_count": null,
   "metadata": {
    "id": "7g_m3-9jUOcf"
   },
   "outputs": [],
   "source": [
    "x1=12"
   ]
  },
  {
   "cell_type": "markdown",
   "metadata": {
    "id": "gl_PgOPUUOch"
   },
   "source": [
    "Please note that to delete a variable, one disposes the function `del`. Let us delete the variable `x` with `del x`"
   ]
  },
  {
   "cell_type": "code",
   "execution_count": null,
   "metadata": {
    "id": "YbaPtKwpUOci"
   },
   "outputs": [],
   "source": [
    "del x1"
   ]
  },
  {
   "cell_type": "markdown",
   "metadata": {
    "id": "cGPeOMN4UOcj"
   },
   "source": [
    "Let us check that the variable `x` does not existe anymore."
   ]
  },
  {
   "cell_type": "code",
   "execution_count": null,
   "metadata": {
    "colab": {
     "base_uri": "https://localhost:8080/",
     "height": 167
    },
    "executionInfo": {
     "elapsed": 427,
     "status": "error",
     "timestamp": 1660995285914,
     "user": {
      "displayName": "Kouassi Cyrille Kouassi",
      "userId": "16700886710403535099"
     },
     "user_tz": 0
    },
    "id": "okNd-nsMUOcj",
    "outputId": "af51d279-20a0-419f-8e5b-b0b81698dbe8"
   },
   "outputs": [
    {
     "ename": "NameError",
     "evalue": "ignored",
     "output_type": "error",
     "traceback": [
      "\u001b[0;31m---------------------------------------------------------------------------\u001b[0m",
      "\u001b[0;31mNameError\u001b[0m                                 Traceback (most recent call last)",
      "\u001b[0;32m<ipython-input-45-1fdd22afb09e>\u001b[0m in \u001b[0;36m<module>\u001b[0;34m\u001b[0m\n\u001b[0;32m----> 1\u001b[0;31m \u001b[0mprint\u001b[0m\u001b[0;34m(\u001b[0m\u001b[0mx1\u001b[0m\u001b[0;34m)\u001b[0m\u001b[0;34m\u001b[0m\u001b[0;34m\u001b[0m\u001b[0m\n\u001b[0m",
      "\u001b[0;31mNameError\u001b[0m: name 'x1' is not defined"
     ]
    }
   ],
   "source": [
    "print(x1)"
   ]
  },
  {
   "cell_type": "markdown",
   "metadata": {
    "id": "5a4908d-UOcn"
   },
   "source": [
    "#  <left> <b> <span style=\"color:orange;\"> 1. Type of a variable </span> </b></left>\n",
    "\n",
    "\n",
    "The type of a variable correspond to its nature. There are many other types of variables (integer numbers, real numbers, string, etc). The types of variables comonly used are integers (int) , real numbers (float), strings (str).\n",
    "\n",
    "The basic types are:\n",
    "\n",
    "   - Numerical types:\n",
    "      - integers `int`\n",
    "      - Reals `float`\n",
    "      - Booleans `bool`: `True`, `False`,\n",
    "\n",
    "   \n",
    "   - Strings : `str`\n",
    "      - Between (simple, double or triple) single quotation mark `'` or quotes `\"` : `'Calvin'`, `\"Calvin'n'Hobbes\"`,\n",
    "       `'''Two\\nlines'''`, `\"\"\"'Why?' did he ask.\"\"\"`\n",
    "       \n",
    "Complex types like\n",
    "   - None\n",
    "   - Complexes`complex`:`1+2j`, `5.1j`, `complex(-3.14)`, `complex('j')`\n",
    "also exist but will only be seen later during the course.   "
   ]
  },
  {
   "cell_type": "markdown",
   "metadata": {
    "id": "HAJcSs4cUOco"
   },
   "source": [
    "Python is a language whith dynamical typography,i.e it directly recognize the type of a variable when its value is indicated. Thus, opposite to others programming languages like C, there is no mandatory declaration of a type during the creation of a  variable.\n",
    "\n",
    "Examples :"
   ]
  },
  {
   "cell_type": "code",
   "execution_count": null,
   "metadata": {
    "id": "lyZwO6U3UOcp"
   },
   "outputs": [],
   "source": [
    "x = 2 # integer (int)\n",
    "x = 2. # real (float with decimal points)\n",
    "x = '2' # String (str)"
   ]
  },
  {
   "cell_type": "markdown",
   "metadata": {
    "id": "fDvMkR3jUOcq"
   },
   "source": [
    "To know the type of a variable, one uses the function `type()`."
   ]
  },
  {
   "cell_type": "code",
   "execution_count": null,
   "metadata": {
    "colab": {
     "base_uri": "https://localhost:8080/"
    },
    "executionInfo": {
     "elapsed": 819,
     "status": "ok",
     "timestamp": 1660996124877,
     "user": {
      "displayName": "Kouassi Cyrille Kouassi",
      "userId": "16700886710403535099"
     },
     "user_tz": 0
    },
    "id": "uaWyzvsPUOcq",
    "outputId": "7e1d1a73-4a90-4a14-cfb6-dd242bd80a41"
   },
   "outputs": [
    {
     "data": {
      "text/plain": [
       "int"
      ]
     },
     "execution_count": 47,
     "metadata": {},
     "output_type": "execute_result"
    }
   ],
   "source": [
    "i = 123\n",
    "type(i) # returns <type 'int'>"
   ]
  },
  {
   "cell_type": "code",
   "execution_count": null,
   "metadata": {
    "colab": {
     "base_uri": "https://localhost:8080/"
    },
    "executionInfo": {
     "elapsed": 372,
     "status": "ok",
     "timestamp": 1660996191838,
     "user": {
      "displayName": "Kouassi Cyrille Kouassi",
      "userId": "16700886710403535099"
     },
     "user_tz": 0
    },
    "id": "GQcUFTCHUOcs",
    "outputId": "fba0dc95-74b5-4db0-e087-1e051066c1e5"
   },
   "outputs": [
    {
     "data": {
      "text/plain": [
       "True"
      ]
     },
     "execution_count": 48,
     "metadata": {},
     "output_type": "execute_result"
    }
   ],
   "source": [
    "type(i) is int # returns True"
   ]
  },
  {
   "cell_type": "code",
   "execution_count": null,
   "metadata": {
    "colab": {
     "base_uri": "https://localhost:8080/"
    },
    "executionInfo": {
     "elapsed": 419,
     "status": "ok",
     "timestamp": 1660996195965,
     "user": {
      "displayName": "Kouassi Cyrille Kouassi",
      "userId": "16700886710403535099"
     },
     "user_tz": 0
    },
    "id": "Q5TIie80UOcs",
    "outputId": "d756005a-6991-49ce-e2ee-6129b186b366"
   },
   "outputs": [
    {
     "data": {
      "text/plain": [
       "float"
      ]
     },
     "execution_count": 49,
     "metadata": {},
     "output_type": "execute_result"
    }
   ],
   "source": [
    "k = 123.456\n",
    "type(k) # returns <type 'float'>"
   ]
  },
  {
   "cell_type": "code",
   "execution_count": null,
   "metadata": {
    "colab": {
     "base_uri": "https://localhost:8080/"
    },
    "executionInfo": {
     "elapsed": 420,
     "status": "ok",
     "timestamp": 1660996198401,
     "user": {
      "displayName": "Kouassi Cyrille Kouassi",
      "userId": "16700886710403535099"
     },
     "user_tz": 0
    },
    "id": "9d3IymDDUOct",
    "outputId": "d5b0e881-fa17-49ff-ac32-1f3ba1817a06"
   },
   "outputs": [
    {
     "data": {
      "text/plain": [
       "True"
      ]
     },
     "execution_count": 50,
     "metadata": {},
     "output_type": "execute_result"
    }
   ],
   "source": [
    "type(k) is float # returns True"
   ]
  },
  {
   "cell_type": "code",
   "execution_count": null,
   "metadata": {
    "colab": {
     "base_uri": "https://localhost:8080/"
    },
    "executionInfo": {
     "elapsed": 419,
     "status": "ok",
     "timestamp": 1660996393993,
     "user": {
      "displayName": "Kouassi Cyrille Kouassi",
      "userId": "16700886710403535099"
     },
     "user_tz": 0
    },
    "id": "aUs4GdM1UOcu",
    "outputId": "ab1742d8-b016-4255-f269-862dfaec4636"
   },
   "outputs": [
    {
     "data": {
      "text/plain": [
       "str"
      ]
     },
     "execution_count": 55,
     "metadata": {},
     "output_type": "execute_result"
    }
   ],
   "source": [
    "m = \"ABCD\"\n",
    "type(m) # returns <type 'str'>"
   ]
  },
  {
   "cell_type": "code",
   "execution_count": null,
   "metadata": {
    "colab": {
     "base_uri": "https://localhost:8080/"
    },
    "executionInfo": {
     "elapsed": 516,
     "status": "ok",
     "timestamp": 1660996203722,
     "user": {
      "displayName": "Kouassi Cyrille Kouassi",
      "userId": "16700886710403535099"
     },
     "user_tz": 0
    },
    "id": "F1nb_sDOUOcv",
    "outputId": "a05e82b3-8076-4e80-a7d9-bbd5275ae558"
   },
   "outputs": [
    {
     "data": {
      "text/plain": [
       "True"
      ]
     },
     "execution_count": 52,
     "metadata": {},
     "output_type": "execute_result"
    }
   ],
   "source": [
    "type(m) is str # returns True"
   ]
  },
  {
   "cell_type": "markdown",
   "metadata": {
    "id": "e0dDXaKXUOcw"
   },
   "source": [
    "#  <left> <b> <span style=\"color:orange;\"> 2. Converting  types (typecasting) </span> </b></left>\n",
    "\n",
    "It is important to remark that strings are always defined with quotes. With simple quotes, we have chains whose type is char whereas with double quotes, we obtain chains whose type is string. Please also note that even if a variable is defined with numbers, when they are between quotes, python treats that variable as a chain of characters. However, there are functions to convert a variable from a type to another one when that conversion is allowed. See the following examples.\n",
    "\n",
    "* When it is possible, one datatype can be converted to another datatype.\n",
    "  * convert a **`int`** to **`str`**:    **`str(4)`** => \"4\"\n",
    "  * convert a **`str`** to **`int`**:    **`int(\"4\")`** => 4\n",
    "  * convert a **`float`** to **`int`**:    **`int(4.8)`** => 4\n",
    "  * convert a **`bool`**: **`bool(\"\"), bool(0.0), bool(0)`** => **`False`**. All the remainder returns **`True`**"
   ]
  },
  {
   "cell_type": "code",
   "execution_count": null,
   "metadata": {
    "colab": {
     "base_uri": "https://localhost:8080/"
    },
    "executionInfo": {
     "elapsed": 402,
     "status": "ok",
     "timestamp": 1661008626646,
     "user": {
      "displayName": "Kouassi Cyrille Kouassi",
      "userId": "16700886710403535099"
     },
     "user_tz": 0
    },
    "id": "0aVWo7SYUOcw",
    "outputId": "733ca750-9699-479a-e542-4becff552cb7"
   },
   "outputs": [
    {
     "name": "stdout",
     "output_type": "stream",
     "text": [
      "2\n",
      "================================================\n",
      "\t\n",
      "2\n",
      "================================================\n",
      "\t\n",
      "2.0\n"
     ]
    }
   ],
   "source": [
    "#Converting a string into an integer.\n",
    "\n",
    "x='2'\n",
    "print(x)\n",
    "print(\"================================================\")\n",
    "print('\\t')\n",
    "\n",
    "\n",
    "x = int(x)\n",
    "print(x)\n",
    "print(\"================================================\")\n",
    "print('\\t')\n",
    "\n",
    "\n",
    "\n",
    "x = float(x)\n",
    "print(x)"
   ]
  },
  {
   "cell_type": "code",
   "execution_count": null,
   "metadata": {
    "colab": {
     "base_uri": "https://localhost:8080/"
    },
    "executionInfo": {
     "elapsed": 619,
     "status": "ok",
     "timestamp": 1661008629114,
     "user": {
      "displayName": "Kouassi Cyrille Kouassi",
      "userId": "16700886710403535099"
     },
     "user_tz": 0
    },
    "id": "J6vWQ0y7UOcy",
    "outputId": "e8336eb2-1364-48d7-9544-3adf1233882e"
   },
   "outputs": [
    {
     "name": "stdout",
     "output_type": "stream",
     "text": [
      "2.4756\n"
     ]
    }
   ],
   "source": [
    "#Converting an numerical type into a string\n",
    "\n",
    "y = 2.4756\n",
    "\n",
    "y = str(y)\n",
    "\n",
    "print(y)"
   ]
  },
  {
   "cell_type": "code",
   "execution_count": null,
   "metadata": {
    "colab": {
     "base_uri": "https://localhost:8080/"
    },
    "executionInfo": {
     "elapsed": 414,
     "status": "ok",
     "timestamp": 1661008631384,
     "user": {
      "displayName": "Kouassi Cyrille Kouassi",
      "userId": "16700886710403535099"
     },
     "user_tz": 0
    },
    "id": "-ZbYJTGuIuLJ",
    "outputId": "000d1730-6280-4885-9c92-69289d5c7a7f"
   },
   "outputs": [
    {
     "data": {
      "text/plain": [
       "str"
      ]
     },
     "execution_count": 73,
     "metadata": {},
     "output_type": "execute_result"
    }
   ],
   "source": [
    "type(y)"
   ]
  },
  {
   "cell_type": "code",
   "execution_count": null,
   "metadata": {
    "colab": {
     "base_uri": "https://localhost:8080/"
    },
    "executionInfo": {
     "elapsed": 17,
     "status": "ok",
     "timestamp": 1661008632766,
     "user": {
      "displayName": "Kouassi Cyrille Kouassi",
      "userId": "16700886710403535099"
     },
     "user_tz": 0
    },
    "id": "4r_ZSRnFUOcz",
    "outputId": "dffd48b7-f2ac-4cbb-fb1d-ff29ce55cc3d"
   },
   "outputs": [
    {
     "name": "stdout",
     "output_type": "stream",
     "text": [
      "False False False\n",
      "True True True True\n"
     ]
    },
    {
     "data": {
      "text/plain": [
       "('True', 'False', 1, 0, 1.0, 0.0)"
      ]
     },
     "execution_count": 74,
     "metadata": {},
     "output_type": "execute_result"
    }
   ],
   "source": [
    "print(bool(\"\"), bool(0.0), bool(0))\n",
    "print(bool(\"0\"), bool(-1.2), bool(-10), bool(\"hi\"))\n",
    "str(True), str(False), int(True), int(False), float(True), float(False)"
   ]
  },
  {
   "cell_type": "code",
   "execution_count": null,
   "metadata": {
    "colab": {
     "base_uri": "https://localhost:8080/"
    },
    "executionInfo": {
     "elapsed": 447,
     "status": "ok",
     "timestamp": 1660997126578,
     "user": {
      "displayName": "Kouassi Cyrille Kouassi",
      "userId": "16700886710403535099"
     },
     "user_tz": 0
    },
    "id": "oSFw1sA0UOc1",
    "outputId": "948957bc-3ea6-497b-b555-b9aea84cf1e1"
   },
   "outputs": [
    {
     "data": {
      "text/plain": [
       "(4, 3.5, '3.5', True, True, False)"
      ]
     },
     "execution_count": 60,
     "metadata": {},
     "output_type": "execute_result"
    }
   ],
   "source": [
    "int(4.9), float(\"3.5\"), str(3.5), bool(4.2), bool(-2), bool(0)"
   ]
  },
  {
   "cell_type": "markdown",
   "metadata": {
    "id": "PHROLE5aUOc2"
   },
   "source": [
    "In conclusion, one can notice that all numerical variables numériques are convertible in string but a variable is only convertible in numerical type when its value is only made of digits."
   ]
  },
  {
   "cell_type": "code",
   "execution_count": null,
   "metadata": {
    "colab": {
     "base_uri": "https://localhost:8080/",
     "height": 201
    },
    "executionInfo": {
     "elapsed": 319,
     "status": "error",
     "timestamp": 1650191005189,
     "user": {
      "displayName": "Anna Dione",
      "userId": "02418215105406967609"
     },
     "user_tz": 0
    },
    "id": "9TKoBdxqUOc3",
    "outputId": "1dcad2f9-b350-4db6-da43-58a57be1dbf5"
   },
   "outputs": [
    {
     "ename": "ValueError",
     "evalue": "ignored",
     "output_type": "error",
     "traceback": [
      "\u001b[0;31m---------------------------------------------------------------------------\u001b[0m",
      "\u001b[0;31mValueError\u001b[0m                                Traceback (most recent call last)",
      "\u001b[0;32m<ipython-input-2-5f80618002c4>\u001b[0m in \u001b[0;36m<module>\u001b[0;34m()\u001b[0m\n\u001b[1;32m      1\u001b[0m \u001b[0mA\u001b[0m \u001b[0;34m=\u001b[0m \u001b[0;34m\"One tries\"\u001b[0m\u001b[0;34m\u001b[0m\u001b[0;34m\u001b[0m\u001b[0m\n\u001b[0;32m----> 2\u001b[0;31m \u001b[0mA\u001b[0m \u001b[0;34m=\u001b[0m \u001b[0mint\u001b[0m\u001b[0;34m(\u001b[0m\u001b[0mA\u001b[0m\u001b[0;34m)\u001b[0m\u001b[0;34m\u001b[0m\u001b[0;34m\u001b[0m\u001b[0m\n\u001b[0m\u001b[1;32m      3\u001b[0m \u001b[0mA\u001b[0m\u001b[0;34m\u001b[0m\u001b[0;34m\u001b[0m\u001b[0m\n",
      "\u001b[0;31mValueError\u001b[0m: invalid literal for int() with base 10: 'One tries'"
     ]
    }
   ],
   "source": [
    "A = \"One tries\"\n",
    "A = int(A)\n",
    "A"
   ]
  },
  {
   "cell_type": "markdown",
   "metadata": {
    "id": "MHRLCD3lUOc4"
   },
   "source": [
    "#  <left> <b> <span style=\"color:orange;\"> 3. Methods associated to variables </span> </b></left>\n",
    "\n",
    "To any created variable in python, is associated a set of attributes (ex : type) but also a package of methods, i.e a set of processing and opérations achievable with that variable. To display the package of methods associated to a variable, one uses the command `dir()`. Example :"
   ]
  },
  {
   "cell_type": "code",
   "execution_count": null,
   "metadata": {
    "id": "VHRe-4EmUOc6"
   },
   "outputs": [],
   "source": [
    "x = 2.5 # Define a numerical variable x\n",
    "\n",
    "y = 'my text' # Define a string y."
   ]
  },
  {
   "cell_type": "code",
   "execution_count": null,
   "metadata": {
    "colab": {
     "base_uri": "https://localhost:8080/"
    },
    "executionInfo": {
     "elapsed": 530,
     "status": "ok",
     "timestamp": 1661008728019,
     "user": {
      "displayName": "Kouassi Cyrille Kouassi",
      "userId": "16700886710403535099"
     },
     "user_tz": 0
    },
    "id": "mEPejZODsIgy",
    "outputId": "e44be3b3-b90d-4fb9-fb9d-fdb6c6b9078e"
   },
   "outputs": [
    {
     "data": {
      "text/plain": [
       "bool"
      ]
     },
     "execution_count": 76,
     "metadata": {},
     "output_type": "execute_result"
    }
   ],
   "source": [
    "u=True\n",
    "type(u)\n"
   ]
  },
  {
   "cell_type": "code",
   "execution_count": null,
   "metadata": {
    "colab": {
     "base_uri": "https://localhost:8080/"
    },
    "executionInfo": {
     "elapsed": 388,
     "status": "ok",
     "timestamp": 1661008730444,
     "user": {
      "displayName": "Kouassi Cyrille Kouassi",
      "userId": "16700886710403535099"
     },
     "user_tz": 0
    },
    "id": "DAou38MfsXNc",
    "outputId": "963c8680-4d75-4eeb-d6c0-602343374adb"
   },
   "outputs": [
    {
     "data": {
      "text/plain": [
       "['__abs__',\n",
       " '__add__',\n",
       " '__and__',\n",
       " '__bool__',\n",
       " '__ceil__',\n",
       " '__class__',\n",
       " '__delattr__',\n",
       " '__dir__',\n",
       " '__divmod__',\n",
       " '__doc__',\n",
       " '__eq__',\n",
       " '__float__',\n",
       " '__floor__',\n",
       " '__floordiv__',\n",
       " '__format__',\n",
       " '__ge__',\n",
       " '__getattribute__',\n",
       " '__getnewargs__',\n",
       " '__gt__',\n",
       " '__hash__',\n",
       " '__index__',\n",
       " '__init__',\n",
       " '__init_subclass__',\n",
       " '__int__',\n",
       " '__invert__',\n",
       " '__le__',\n",
       " '__lshift__',\n",
       " '__lt__',\n",
       " '__mod__',\n",
       " '__mul__',\n",
       " '__ne__',\n",
       " '__neg__',\n",
       " '__new__',\n",
       " '__or__',\n",
       " '__pos__',\n",
       " '__pow__',\n",
       " '__radd__',\n",
       " '__rand__',\n",
       " '__rdivmod__',\n",
       " '__reduce__',\n",
       " '__reduce_ex__',\n",
       " '__repr__',\n",
       " '__rfloordiv__',\n",
       " '__rlshift__',\n",
       " '__rmod__',\n",
       " '__rmul__',\n",
       " '__ror__',\n",
       " '__round__',\n",
       " '__rpow__',\n",
       " '__rrshift__',\n",
       " '__rshift__',\n",
       " '__rsub__',\n",
       " '__rtruediv__',\n",
       " '__rxor__',\n",
       " '__setattr__',\n",
       " '__sizeof__',\n",
       " '__str__',\n",
       " '__sub__',\n",
       " '__subclasshook__',\n",
       " '__truediv__',\n",
       " '__trunc__',\n",
       " '__xor__',\n",
       " 'bit_length',\n",
       " 'conjugate',\n",
       " 'denominator',\n",
       " 'from_bytes',\n",
       " 'imag',\n",
       " 'numerator',\n",
       " 'real',\n",
       " 'to_bytes']"
      ]
     },
     "execution_count": 77,
     "metadata": {},
     "output_type": "execute_result"
    }
   ],
   "source": [
    "dir(u)"
   ]
  },
  {
   "cell_type": "markdown",
   "metadata": {
    "id": "dNCMs7P_UOc6"
   },
   "source": [
    "To display the package of methods associated to each of these variables, ones does:\n"
   ]
  },
  {
   "cell_type": "code",
   "execution_count": null,
   "metadata": {
    "colab": {
     "base_uri": "https://localhost:8080/"
    },
    "executionInfo": {
     "elapsed": 434,
     "status": "ok",
     "timestamp": 1661008734540,
     "user": {
      "displayName": "Kouassi Cyrille Kouassi",
      "userId": "16700886710403535099"
     },
     "user_tz": 0
    },
    "id": "yZ4m3vf9UOc7",
    "outputId": "34fe0da9-abc2-457c-fa30-16ddaa50d4fe"
   },
   "outputs": [
    {
     "name": "stdout",
     "output_type": "stream",
     "text": [
      "['__abs__', '__add__', '__bool__', '__class__', '__delattr__', '__dir__', '__divmod__', '__doc__', '__eq__', '__float__', '__floordiv__', '__format__', '__ge__', '__getattribute__', '__getformat__', '__getnewargs__', '__gt__', '__hash__', '__init__', '__init_subclass__', '__int__', '__le__', '__lt__', '__mod__', '__mul__', '__ne__', '__neg__', '__new__', '__pos__', '__pow__', '__radd__', '__rdivmod__', '__reduce__', '__reduce_ex__', '__repr__', '__rfloordiv__', '__rmod__', '__rmul__', '__round__', '__rpow__', '__rsub__', '__rtruediv__', '__set_format__', '__setattr__', '__sizeof__', '__str__', '__sub__', '__subclasshook__', '__truediv__', '__trunc__', 'as_integer_ratio', 'conjugate', 'fromhex', 'hex', 'imag', 'is_integer', 'real']\n"
     ]
    }
   ],
   "source": [
    "print(dir(x))"
   ]
  },
  {
   "cell_type": "code",
   "execution_count": null,
   "metadata": {
    "colab": {
     "base_uri": "https://localhost:8080/"
    },
    "executionInfo": {
     "elapsed": 12,
     "status": "ok",
     "timestamp": 1661008735046,
     "user": {
      "displayName": "Kouassi Cyrille Kouassi",
      "userId": "16700886710403535099"
     },
     "user_tz": 0
    },
    "id": "AwV1TtOoUOc7",
    "outputId": "4275ca6a-caf0-4f1d-b7e7-2bd9390dd541"
   },
   "outputs": [
    {
     "name": "stdout",
     "output_type": "stream",
     "text": [
      "['__add__', '__class__', '__contains__', '__delattr__', '__dir__', '__doc__', '__eq__', '__format__', '__ge__', '__getattribute__', '__getitem__', '__getnewargs__', '__gt__', '__hash__', '__init__', '__init_subclass__', '__iter__', '__le__', '__len__', '__lt__', '__mod__', '__mul__', '__ne__', '__new__', '__reduce__', '__reduce_ex__', '__repr__', '__rmod__', '__rmul__', '__setattr__', '__sizeof__', '__str__', '__subclasshook__', 'capitalize', 'casefold', 'center', 'count', 'encode', 'endswith', 'expandtabs', 'find', 'format', 'format_map', 'index', 'isalnum', 'isalpha', 'isascii', 'isdecimal', 'isdigit', 'isidentifier', 'islower', 'isnumeric', 'isprintable', 'isspace', 'istitle', 'isupper', 'join', 'ljust', 'lower', 'lstrip', 'maketrans', 'partition', 'replace', 'rfind', 'rindex', 'rjust', 'rpartition', 'rsplit', 'rstrip', 'split', 'splitlines', 'startswith', 'strip', 'swapcase', 'title', 'translate', 'upper', 'zfill']\n"
     ]
    }
   ],
   "source": [
    "print(dir(y))"
   ]
  },
  {
   "cell_type": "markdown",
   "metadata": {
    "id": "dO3XwGJgUOc8"
   },
   "source": [
    "One can also do`name_of_the_variable.` followed by `TAB`."
   ]
  },
  {
   "cell_type": "markdown",
   "metadata": {
    "id": "j3YUvNiDUOc8"
   },
   "source": [
    "Thus, to obtain help on a specified method, one uses the function `help()` in the following way : `help(x.Methodname)` where Methodname is the name of the considered method. For example, for a numerical variable with type `float`, there is exist a method called `conjugate`.\n",
    "To obtain help on this particular method, one does:\n",
    "`print(help(x.conjugate))`"
   ]
  },
  {
   "cell_type": "code",
   "execution_count": null,
   "metadata": {
    "colab": {
     "base_uri": "https://localhost:8080/"
    },
    "executionInfo": {
     "elapsed": 417,
     "status": "ok",
     "timestamp": 1661008803890,
     "user": {
      "displayName": "Kouassi Cyrille Kouassi",
      "userId": "16700886710403535099"
     },
     "user_tz": 0
    },
    "id": "AT18NqdyUOc9",
    "outputId": "f10fa5d1-959e-4930-80b6-1224bcd07032"
   },
   "outputs": [
    {
     "name": "stdout",
     "output_type": "stream",
     "text": [
      "Help on built-in function conjugate:\n",
      "\n",
      "conjugate() method of builtins.float instance\n",
      "    Return self, the complex conjugate of any float.\n",
      "\n",
      "None\n"
     ]
    }
   ],
   "source": [
    "print(help(x.conjugate))"
   ]
  },
  {
   "cell_type": "markdown",
   "metadata": {
    "id": "rpE4uYRuUOc-"
   },
   "source": [
    "To display help on all the functions associated to the variable x, one simply does:\n"
   ]
  },
  {
   "cell_type": "code",
   "execution_count": null,
   "metadata": {
    "colab": {
     "base_uri": "https://localhost:8080/"
    },
    "executionInfo": {
     "elapsed": 428,
     "status": "ok",
     "timestamp": 1661008806179,
     "user": {
      "displayName": "Kouassi Cyrille Kouassi",
      "userId": "16700886710403535099"
     },
     "user_tz": 0
    },
    "id": "eywtL2_lUOc_",
    "outputId": "75f092c7-b616-4539-ec74-0f639b5ed6d1"
   },
   "outputs": [
    {
     "name": "stdout",
     "output_type": "stream",
     "text": [
      "Help on float object:\n",
      "\n",
      "class float(object)\n",
      " |  float(x=0, /)\n",
      " |  \n",
      " |  Convert a string or number to a floating point number, if possible.\n",
      " |  \n",
      " |  Methods defined here:\n",
      " |  \n",
      " |  __abs__(self, /)\n",
      " |      abs(self)\n",
      " |  \n",
      " |  __add__(self, value, /)\n",
      " |      Return self+value.\n",
      " |  \n",
      " |  __bool__(self, /)\n",
      " |      self != 0\n",
      " |  \n",
      " |  __divmod__(self, value, /)\n",
      " |      Return divmod(self, value).\n",
      " |  \n",
      " |  __eq__(self, value, /)\n",
      " |      Return self==value.\n",
      " |  \n",
      " |  __float__(self, /)\n",
      " |      float(self)\n",
      " |  \n",
      " |  __floordiv__(self, value, /)\n",
      " |      Return self//value.\n",
      " |  \n",
      " |  __format__(self, format_spec, /)\n",
      " |      Formats the float according to format_spec.\n",
      " |  \n",
      " |  __ge__(self, value, /)\n",
      " |      Return self>=value.\n",
      " |  \n",
      " |  __getattribute__(self, name, /)\n",
      " |      Return getattr(self, name).\n",
      " |  \n",
      " |  __getnewargs__(self, /)\n",
      " |  \n",
      " |  __gt__(self, value, /)\n",
      " |      Return self>value.\n",
      " |  \n",
      " |  __hash__(self, /)\n",
      " |      Return hash(self).\n",
      " |  \n",
      " |  __int__(self, /)\n",
      " |      int(self)\n",
      " |  \n",
      " |  __le__(self, value, /)\n",
      " |      Return self<=value.\n",
      " |  \n",
      " |  __lt__(self, value, /)\n",
      " |      Return self<value.\n",
      " |  \n",
      " |  __mod__(self, value, /)\n",
      " |      Return self%value.\n",
      " |  \n",
      " |  __mul__(self, value, /)\n",
      " |      Return self*value.\n",
      " |  \n",
      " |  __ne__(self, value, /)\n",
      " |      Return self!=value.\n",
      " |  \n",
      " |  __neg__(self, /)\n",
      " |      -self\n",
      " |  \n",
      " |  __pos__(self, /)\n",
      " |      +self\n",
      " |  \n",
      " |  __pow__(self, value, mod=None, /)\n",
      " |      Return pow(self, value, mod).\n",
      " |  \n",
      " |  __radd__(self, value, /)\n",
      " |      Return value+self.\n",
      " |  \n",
      " |  __rdivmod__(self, value, /)\n",
      " |      Return divmod(value, self).\n",
      " |  \n",
      " |  __repr__(self, /)\n",
      " |      Return repr(self).\n",
      " |  \n",
      " |  __rfloordiv__(self, value, /)\n",
      " |      Return value//self.\n",
      " |  \n",
      " |  __rmod__(self, value, /)\n",
      " |      Return value%self.\n",
      " |  \n",
      " |  __rmul__(self, value, /)\n",
      " |      Return value*self.\n",
      " |  \n",
      " |  __round__(self, ndigits=None, /)\n",
      " |      Return the Integral closest to x, rounding half toward even.\n",
      " |      \n",
      " |      When an argument is passed, work like built-in round(x, ndigits).\n",
      " |  \n",
      " |  __rpow__(self, value, mod=None, /)\n",
      " |      Return pow(value, self, mod).\n",
      " |  \n",
      " |  __rsub__(self, value, /)\n",
      " |      Return value-self.\n",
      " |  \n",
      " |  __rtruediv__(self, value, /)\n",
      " |      Return value/self.\n",
      " |  \n",
      " |  __str__(self, /)\n",
      " |      Return str(self).\n",
      " |  \n",
      " |  __sub__(self, value, /)\n",
      " |      Return self-value.\n",
      " |  \n",
      " |  __truediv__(self, value, /)\n",
      " |      Return self/value.\n",
      " |  \n",
      " |  __trunc__(self, /)\n",
      " |      Return the Integral closest to x between 0 and x.\n",
      " |  \n",
      " |  as_integer_ratio(self, /)\n",
      " |      Return integer ratio.\n",
      " |      \n",
      " |      Return a pair of integers, whose ratio is exactly equal to the original float\n",
      " |      and with a positive denominator.\n",
      " |      \n",
      " |      Raise OverflowError on infinities and a ValueError on NaNs.\n",
      " |      \n",
      " |      >>> (10.0).as_integer_ratio()\n",
      " |      (10, 1)\n",
      " |      >>> (0.0).as_integer_ratio()\n",
      " |      (0, 1)\n",
      " |      >>> (-.25).as_integer_ratio()\n",
      " |      (-1, 4)\n",
      " |  \n",
      " |  conjugate(self, /)\n",
      " |      Return self, the complex conjugate of any float.\n",
      " |  \n",
      " |  hex(self, /)\n",
      " |      Return a hexadecimal representation of a floating-point number.\n",
      " |      \n",
      " |      >>> (-0.1).hex()\n",
      " |      '-0x1.999999999999ap-4'\n",
      " |      >>> 3.14159.hex()\n",
      " |      '0x1.921f9f01b866ep+1'\n",
      " |  \n",
      " |  is_integer(self, /)\n",
      " |      Return True if the float is an integer.\n",
      " |  \n",
      " |  ----------------------------------------------------------------------\n",
      " |  Class methods defined here:\n",
      " |  \n",
      " |  __getformat__(typestr, /) from builtins.type\n",
      " |      You probably don't want to use this function.\n",
      " |      \n",
      " |        typestr\n",
      " |          Must be 'double' or 'float'.\n",
      " |      \n",
      " |      It exists mainly to be used in Python's test suite.\n",
      " |      \n",
      " |      This function returns whichever of 'unknown', 'IEEE, big-endian' or 'IEEE,\n",
      " |      little-endian' best describes the format of floating point numbers used by the\n",
      " |      C type named by typestr.\n",
      " |  \n",
      " |  __set_format__(typestr, fmt, /) from builtins.type\n",
      " |      You probably don't want to use this function.\n",
      " |      \n",
      " |        typestr\n",
      " |          Must be 'double' or 'float'.\n",
      " |        fmt\n",
      " |          Must be one of 'unknown', 'IEEE, big-endian' or 'IEEE, little-endian',\n",
      " |          and in addition can only be one of the latter two if it appears to\n",
      " |          match the underlying C reality.\n",
      " |      \n",
      " |      It exists mainly to be used in Python's test suite.\n",
      " |      \n",
      " |      Override the automatic determination of C-level floating point type.\n",
      " |      This affects how floats are converted to and from binary strings.\n",
      " |  \n",
      " |  fromhex(string, /) from builtins.type\n",
      " |      Create a floating-point number from a hexadecimal string.\n",
      " |      \n",
      " |      >>> float.fromhex('0x1.ffffp10')\n",
      " |      2047.984375\n",
      " |      >>> float.fromhex('-0x1p-1074')\n",
      " |      -5e-324\n",
      " |  \n",
      " |  ----------------------------------------------------------------------\n",
      " |  Static methods defined here:\n",
      " |  \n",
      " |  __new__(*args, **kwargs) from builtins.type\n",
      " |      Create and return a new object.  See help(type) for accurate signature.\n",
      " |  \n",
      " |  ----------------------------------------------------------------------\n",
      " |  Data descriptors defined here:\n",
      " |  \n",
      " |  imag\n",
      " |      the imaginary part of a complex number\n",
      " |  \n",
      " |  real\n",
      " |      the real part of a complex number\n",
      "\n",
      "None\n"
     ]
    }
   ],
   "source": [
    "print(help(x))"
   ]
  },
  {
   "cell_type": "markdown",
   "metadata": {
    "id": "9A3OermqUOdA"
   },
   "source": [
    "#  <left> <b> <span style=\"color:orange;\"> 3. Operations on numerical types </span> </b></left>"
   ]
  },
  {
   "cell_type": "markdown",
   "metadata": {
    "id": "z8dW093nUOdB"
   },
   "source": [
    "Two big categories [of operators](https://fr.wikibooks.org/wiki/Programmation_Python/Op%C3%A9rateurs) are used in Python to define the variables et the instructions. It is about arithmetical operators and logical ones.\n",
    "The first ones allow to perform common mathematical operations whereas the second ones allow to make comparisons of values.\n",
    "A boolean value is a logical evaluation that represents one of the two following possibilities : true or false. The\n",
    "boolean values are the result of the evaluation of logical expressions and they are used to make choices inside a programme (make this action when this condition is satisfied)."
   ]
  },
  {
   "cell_type": "markdown",
   "metadata": {
    "id": "BrwFMt9iUOdB"
   },
   "source": [
    "## <left> <b> <span style=\"color:brown;\"> 3.0 The arithmetical operators </span> </b></left>\n",
    "\n",
    "\n",
    "   \n",
    "|  Operations    $\\quad \\qquad$        | Operator in Python \t  $\\qquad$          | Examples          |\n",
    "|-------------:|:------------------:|------------------:|\n",
    "| Addition $ \\qquad \\qquad$     |       $+ \\quad \\qquad$            |  $x = 2 + 3$          |\n",
    "| Substraction $\\qquad \\quad$     |    $- \\quad \\qquad$      |   $z = x -y$      |                 \n",
    "| Multiplication $\\qquad \\quad$  |  $* \\quad \\qquad$      |   $y=3*x$         |\n",
    "| Division (real quotient )  $\\qquad \\quad$        | $/\\quad \\qquad$  | $5/2=2.5 $ |\n",
    "| Division (integer quotient)  $\\qquad \\quad$         |$//\\quad \\qquad$  | $5//2=2$|\n",
    "| Power $\\qquad \\quad$          | $**\\quad \\qquad$ | $x^{**}2=x*x$ |\n",
    "| Remainder of the division (modulo) $\\qquad \\quad$          | $\\% \\quad \\qquad$  |$17\\%3 =2$  |\n",
    "| Incremented addition     $\\qquad \\quad$       | $+$$=\\quad \\qquad$ | ($x$$+$$=$$4$ ) $\\iff$ $x=x+4$|\n",
    "| Incremented Substraction    $\\qquad \\quad$       | $-$$=\\quad \\qquad$ | ($x$$-$$=$$4$ ) $\\iff$ $x=x-4$|"
   ]
  },
  {
   "cell_type": "markdown",
   "metadata": {
    "id": "dbJ14eDLUOdB"
   },
   "source": [
    "### <left> <b> <span style=\"color:red;\"> Some examples </span> </b></left>\n"
   ]
  },
  {
   "cell_type": "code",
   "execution_count": null,
   "metadata": {
    "colab": {
     "base_uri": "https://localhost:8080/"
    },
    "executionInfo": {
     "elapsed": 385,
     "status": "ok",
     "timestamp": 1661008828452,
     "user": {
      "displayName": "Kouassi Cyrille Kouassi",
      "userId": "16700886710403535099"
     },
     "user_tz": 0
    },
    "id": "3QaNI6INUOdC",
    "outputId": "21c0878f-3c1c-4574-af32-1b9bf3176db5"
   },
   "outputs": [
    {
     "name": "stdout",
     "output_type": "stream",
     "text": [
      "20\n",
      "------------------------\n",
      "7\n",
      "------------------------\n",
      "5.0\n",
      "------------------------\n",
      "0\n",
      "------------------------\n",
      "100\n",
      "------------------------\n",
      "14\n",
      "10\n"
     ]
    }
   ],
   "source": [
    "print(10 + 10)\n",
    "print('------------------------')\n",
    "\n",
    "\n",
    "print(10 - 3)\n",
    "print('------------------------')\n",
    "\n",
    "print(10 / 2)\n",
    "print('------------------------')\n",
    "\n",
    "\n",
    "print(10 % 2)\n",
    "print('------------------------')\n",
    "\n",
    "print(10 ** 2)\n",
    "print('------------------------')\n",
    "\n",
    "x = 10\n",
    "y = x + 4\n",
    "x += 9\n",
    "x -= 9\n",
    "print(y)\n",
    "print(x)"
   ]
  },
  {
   "cell_type": "code",
   "execution_count": null,
   "metadata": {
    "id": "xBjFjbFt3EZx"
   },
   "outputs": [],
   "source": []
  },
  {
   "cell_type": "markdown",
   "metadata": {
    "id": "qYFniRSxUOdC"
   },
   "source": [
    "## <left> <b> <span style=\"color:brown;\"> 3.1 The logical operators  </span> </b></left>\n",
    "\n",
    "\n",
    "|  Operations    $\\quad \\qquad$        | Operator en Python \t  $\\qquad$          | Description          |\n",
    "|-------------:|:------------------:|------------------:|\n",
    "| Equality $ \\qquad \\qquad$     |       $== \\quad \\qquad$            |    is equal to        |\n",
    "    | Inequality $\\qquad \\quad$     |    $!=$ (or $<>$) $\\quad \\qquad$      |   is different to      |                 \n",
    "| Strict inferiority $\\qquad \\quad$  |  $< \\quad \\qquad$      |   less than        |\n",
    "| Strict superiority  $\\qquad \\quad$        | $>\\quad \\qquad$  | greater than |\n",
    "| Large inferiority  $\\qquad \\quad$         |$<=\\quad \\qquad$  | less than or equal to|\n",
    "| Large superiority $\\qquad \\quad$          | $>=\\quad \\qquad$ | greater than or equal to |\n",
    "| Inclusion(belonging) $\\qquad \\quad$          | `in`  $ \\quad \\qquad $  |belongs to (`in`) |\n",
    "| Exclusion (non belonging)  $\\qquad \\quad$       | `not in`$\\quad \\qquad$ |does not belong to (`excluded`) |\n",
    "| Logical`And`   $\\qquad \\quad$       | `and` $\\quad \\qquad$ | Comparisons logical `And` |\n",
    "| Logical `Or`   $\\qquad \\quad$       | `or` $\\quad \\qquad$ | Comparisons logical`Or`|\n",
    "| Logical `Not`   $\\qquad \\quad$       | `not`$\\quad \\qquad$ | Assesses the opposite value|"
   ]
  },
  {
   "cell_type": "markdown",
   "metadata": {
    "id": "_-dhALMsUOdD"
   },
   "source": [
    "<left> <b> <span style=\"color:red;\">Assigning is not comparing !</span> </b></left>\n",
    "It is important to understant that the instruction of assignment `« = »` does not have the same meaning than the equality symbol `« = »` in mathematics. For example, the first is not symmetrical, whereas is the second : exchanging the order of elements in an instruction of assignment will inevitably produce an error in the interpreter."
   ]
  },
  {
   "cell_type": "markdown",
   "metadata": {
    "id": "nbHhJqt6UOdE"
   },
   "source": [
    "We will see the utility of these operators as the sessions progress. They always return booleans et allow in this case to do  tests. They appear in the writing process of loops, in iterative sturctures and conditional structures."
   ]
  },
  {
   "cell_type": "markdown",
   "metadata": {
    "id": "Xf6llJfiUOdE"
   },
   "source": [
    "To access the complete list of standard operators in python and their equivalent functions, see [this page](https://docs.python.org/2/library/operator.html). One can also visit [this page](http://www.tutorialspoint.com/python/python_basic_operators.htm) for some examples of using standard operators."
   ]
  },
  {
   "cell_type": "code",
   "execution_count": null,
   "metadata": {
    "id": "y218U_yX16Ym"
   },
   "outputs": [],
   "source": []
  }
 ],
 "metadata": {
  "colab": {
   "provenance": []
  },
  "kernelspec": {
   "display_name": "Python 3 (ipykernel)",
   "language": "python",
   "name": "python3"
  },
  "language_info": {
   "codemirror_mode": {
    "name": "ipython",
    "version": 3
   },
   "file_extension": ".py",
   "mimetype": "text/x-python",
   "name": "python",
   "nbconvert_exporter": "python",
   "pygments_lexer": "ipython3",
   "version": "3.11.2"
  },
  "varInspector": {
   "cols": {
    "lenName": 16,
    "lenType": 16,
    "lenVar": 40
   },
   "kernels_config": {
    "python": {
     "delete_cmd_postfix": "",
     "delete_cmd_prefix": "del ",
     "library": "var_list.py",
     "varRefreshCmd": "print(var_dic_list())"
    },
    "r": {
     "delete_cmd_postfix": ") ",
     "delete_cmd_prefix": "rm(",
     "library": "var_list.r",
     "varRefreshCmd": "cat(var_dic_list()) "
    }
   },
   "types_to_exclude": [
    "module",
    "function",
    "builtin_function_or_method",
    "instance",
    "_Feature"
   ],
   "window_display": false
  }
 },
 "nbformat": 4,
 "nbformat_minor": 1
}
