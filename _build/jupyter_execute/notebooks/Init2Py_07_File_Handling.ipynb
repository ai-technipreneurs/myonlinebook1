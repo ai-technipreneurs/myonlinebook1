{
 "cells": [
  {
   "cell_type": "markdown",
   "metadata": {
    "id": "LiB7--51rPAn"
   },
   "source": [
    "<center>\n",
    "    <a href=\"https://www.aims-senegal.org/\" ><img src=\"aimssn_logo.png\" style=\"float:center; max-width: 600px; display: inline\" alt=\"AIMS-SN\"/> </a>\n",
    "    </center>\n",
    "    \n",
    "#    <center> <b> <span style=\"color:orange;\" >  `Python for Scientific Computing and Software Engineering ` </span> </b></center>\n",
    "\n",
    "\n",
    "## <center> <b> <span style=\"color:orange;\"> An Initiation to Programming using Python (Init2Py) </span> </b></center>\n",
    "\n",
    "### <center> <b> <span style=\"color:blue;\"> File Handling </span> </b></center>"
   ]
  },
  {
   "cell_type": "markdown",
   "metadata": {
    "id": "FVSAhIsTrPAu"
   },
   "source": [
    "# File handling\n",
    "\n",
    "\n",
    "Based on Lecture Materials presented at the African Institute for Mathematical Sciences, South Africa (AIMS-ZA) by Yaé Ulrich Gaba and Jeff Sanders in January 2016 and Mohau Mateyisi in January 2015.\n",
    "\n",
    "**Instructor: [Yaé Ulrich Gaba](https://github.com/gabayae), [Institut de Mathématiques et de Sciences Physiques](http://imsp-benin.com/home/)**"
   ]
  },
  {
   "cell_type": "markdown",
   "metadata": {
    "id": "XY7M5XDyrPAv"
   },
   "source": [
    "Cool! We’ve come to the last chapter of this lesson before the projects. In\n",
    "this chapter, we’ll look at how to work with external files.\n",
    "\n",
    "\n",
    "In the first chapter, we learned how to get input from users using the\n",
    "input() function. However, in some cases, getting users to enter data\n",
    "into our program may not be practical, especially if our program needs to\n",
    "work with large amounts of data. In cases like this, a more convenient\n",
    "way is to prepare the needed information as an external file and get our\n",
    "programs to read the information from the file. In this chapter, we are\n",
    "going to learn to do that.\n",
    "\n",
    "A file is some information or data which stays in the computer storage devices. You already know about different kinds\n",
    "of file , like your music files, video files, text files. Python gives you easy ways to manipulate these files. Generally\n",
    "we divide files in two categories, text file and binary file. Text files are simple text where as the binary files contain\n",
    "binary data which is only readable by computer."
   ]
  },
  {
   "cell_type": "markdown",
   "metadata": {
    "id": "pFldw3BArPAw"
   },
   "source": [
    "## File opening\n",
    "\n",
    "To open a file we use *open()* function. It requires ``two arguments``, first the **file path** or **file name**, second which **mode** it\n",
    "should open. Modes are like\n",
    "\n",
    "1. ``r`` -> open read only, you can read the file but can not edit / delete anything inside;\n",
    "2. ``w`` -> open with write power, means if the file exists then delete all content and open it to write;\n",
    "3. ``a`` -> open in append mode.\n",
    "\n",
    "\n",
    "The default mode is read only, ie if you do not provide any mode it will open the file as read only. Let us open a file:\n",
    "let’s first create a text file with the\n",
    "following lines:\n",
    "\n",
    "                Learn Python in One Day and Learn It Well\n",
    "                Python for Beginners with Hands-on Project\n",
    "                The only book you need to start coding in Python immediately\n",
    "                http://www.learncodingfast.com/python\n",
    "                \n",
    "\n",
    "Save this text file as ``love.txt``."
   ]
  },
  {
   "cell_type": "code",
   "execution_count": 1,
   "metadata": {
    "colab": {
     "base_uri": "https://localhost:8080/",
     "height": 158
    },
    "executionInfo": {
     "elapsed": 9,
     "status": "error",
     "timestamp": 1713705484792,
     "user": {
      "displayName": "Kanigui Frejus Soro",
      "userId": "11393731695353443540"
     },
     "user_tz": -120
    },
    "id": "fd_VvMf9rPAx",
    "outputId": "58c50934-d382-4f2d-88d1-9d2d1a424cf9"
   },
   "outputs": [
    {
     "ename": "FileNotFoundError",
     "evalue": "[Errno 2] No such file or directory: 'love.text'",
     "output_type": "error",
     "traceback": [
      "\u001b[0;31m---------------------------------------------------------------------------\u001b[0m",
      "\u001b[0;31mFileNotFoundError\u001b[0m                         Traceback (most recent call last)",
      "\u001b[0;32m<ipython-input-1-64cc564912d3>\u001b[0m in \u001b[0;36m<cell line: 1>\u001b[0;34m()\u001b[0m\n\u001b[0;32m----> 1\u001b[0;31m \u001b[0mfobj\u001b[0m \u001b[0;34m=\u001b[0m \u001b[0mopen\u001b[0m\u001b[0;34m(\u001b[0m\u001b[0;34m\"love.text\"\u001b[0m\u001b[0;34m)\u001b[0m\u001b[0;34m\u001b[0m\u001b[0;34m\u001b[0m\u001b[0m\n\u001b[0m\u001b[1;32m      2\u001b[0m \u001b[0mfobj\u001b[0m\u001b[0;34m\u001b[0m\u001b[0;34m\u001b[0m\u001b[0m\n",
      "\u001b[0;31mFileNotFoundError\u001b[0m: [Errno 2] No such file or directory: 'love.text'"
     ]
    }
   ],
   "source": [
    "fobj = open(\"love.text\")\n",
    "fobj"
   ]
  },
  {
   "cell_type": "markdown",
   "metadata": {
    "id": "tAfk_qFUrPAz"
   },
   "source": [
    "## Closing a file\n",
    "\n",
    "After opening a file one should always close the opened file. We use method *close()* for this."
   ]
  },
  {
   "cell_type": "code",
   "execution_count": null,
   "metadata": {
    "colab": {
     "base_uri": "https://localhost:8080/",
     "height": 201
    },
    "executionInfo": {
     "elapsed": 369,
     "status": "error",
     "timestamp": 1641479145018,
     "user": {
      "displayName": "Bahati Chadrack Kilongo",
      "photoUrl": "https://lh3.googleusercontent.com/a-/AOh14GjWnS1OlwN1PX9ji1UCLdN8XHx2RIlikHmCtP0J=s64",
      "userId": "09603649212836048418"
     },
     "user_tz": 0
    },
    "id": "WpqA5dbtrPA0",
    "outputId": "cb972426-6206-4c38-a81c-75aee1f2dc06"
   },
   "outputs": [
    {
     "ename": "FileNotFoundError",
     "evalue": "ignored",
     "output_type": "error",
     "traceback": [
      "\u001b[0;31m---------------------------------------------------------------------------\u001b[0m",
      "\u001b[0;31mFileNotFoundError\u001b[0m                         Traceback (most recent call last)",
      "\u001b[0;32m<ipython-input-2-84d5318bfb15>\u001b[0m in \u001b[0;36m<module>\u001b[0;34m()\u001b[0m\n\u001b[0;32m----> 1\u001b[0;31m \u001b[0mfobj\u001b[0m \u001b[0;34m=\u001b[0m \u001b[0mopen\u001b[0m\u001b[0;34m(\u001b[0m\u001b[0;34m\"love.txt\"\u001b[0m\u001b[0;34m)\u001b[0m\u001b[0;34m\u001b[0m\u001b[0;34m\u001b[0m\u001b[0m\n\u001b[0m\u001b[1;32m      2\u001b[0m \u001b[0mfobj\u001b[0m\u001b[0;34m\u001b[0m\u001b[0;34m\u001b[0m\u001b[0m\n\u001b[1;32m      3\u001b[0m \u001b[0mfobj\u001b[0m\u001b[0;34m.\u001b[0m\u001b[0mclose\u001b[0m\u001b[0;34m(\u001b[0m\u001b[0;34m)\u001b[0m\u001b[0;34m\u001b[0m\u001b[0;34m\u001b[0m\u001b[0m\n",
      "\u001b[0;31mFileNotFoundError\u001b[0m: [Errno 2] No such file or directory: 'love.txt'"
     ]
    }
   ],
   "source": [
    "fobj = open(\"love.txt\")\n",
    "fobj\n",
    "fobj.close()"
   ]
  },
  {
   "cell_type": "markdown",
   "metadata": {
    "id": "nnhYYVwurPA0"
   },
   "source": [
    "**Important**: Important\n",
    "\n",
    "Always make sure you *explicitly* close each open file, once its job is done and you have no reason to keep it open.\n",
    "Because - There is an upper limit to the number of files a program can open. If you exceed that limit, there is no reliable\n",
    "way of recovery, so the program could crash. - Each open file consumes some main-memory for the data-structures\n",
    "associated with it, like file descriptor/handle or file locks etc. So you could essentially end-up wasting lots of memory\n",
    "if you have more files open that are not useful or usable. - Open files always stand a chance of corruption and data\n",
    "loss."
   ]
  },
  {
   "cell_type": "markdown",
   "metadata": {
    "id": "yTkHlbEPrPA1"
   },
   "source": [
    "## Reading a file\n",
    "\n",
    "To read the whole file at once use the *read()* method. Let’s first create a text file with the\n",
    "following lines:\n",
    "\n",
    "\n",
    "\n",
    "                            I love Python\n",
    "                            Pradeepto loves KDE\n",
    "                            Sankarshan loves Openoffice\n",
    "                            \n",
    "Save this text file as ``sample.txt``."
   ]
  },
  {
   "cell_type": "code",
   "execution_count": null,
   "metadata": {
    "id": "nWIZC868rPA2"
   },
   "outputs": [],
   "source": [
    "fobj = open(\"sample.txt\")\n",
    "fobj.read()"
   ]
  },
  {
   "cell_type": "markdown",
   "metadata": {
    "id": "69UiJPzgrPA3"
   },
   "source": [
    "If you call `read()` again it will return empty string as it already read the whole file. `readline()` can help you to read one line each time from the file."
   ]
  },
  {
   "cell_type": "code",
   "execution_count": null,
   "metadata": {
    "id": "EJ61VQ_LrPA6"
   },
   "outputs": [],
   "source": [
    "fobj = open(\"sample.txt\")\n",
    "fobj.readline()"
   ]
  },
  {
   "cell_type": "code",
   "execution_count": null,
   "metadata": {
    "id": "M9phy6wlrPA6"
   },
   "outputs": [],
   "source": [
    "fobj.readline()"
   ]
  },
  {
   "cell_type": "markdown",
   "metadata": {
    "id": "ButKH6QDrPA6"
   },
   "source": [
    "To read all the lines in a list we use `readlines()` method."
   ]
  },
  {
   "cell_type": "code",
   "execution_count": null,
   "metadata": {
    "id": "-JZK15sZrPA7"
   },
   "outputs": [],
   "source": [
    "fobj = open(\"sample.txt\")\n",
    "fobj.readlines()"
   ]
  },
  {
   "cell_type": "markdown",
   "metadata": {
    "id": "LMJ206PcrPA8"
   },
   "source": [
    "You can even loop through the lines in a file object."
   ]
  },
  {
   "cell_type": "code",
   "execution_count": null,
   "metadata": {
    "id": "5A_o_gOhrPA8"
   },
   "outputs": [],
   "source": [
    "fobj = open(\"sample.txt\")\n",
    "for x in fobj:\n",
    "    print(x, end=' ')\n",
    "fobj.close()"
   ]
  },
  {
   "cell_type": "markdown",
   "metadata": {
    "id": "rXJRwiBzrPA9"
   },
   "source": [
    "Let us write a program which will take the file name as the input from the user and show the content of the file in the\n",
    "console."
   ]
  },
  {
   "cell_type": "code",
   "execution_count": null,
   "metadata": {
    "colab": {
     "base_uri": "https://localhost:8080/",
     "height": 236
    },
    "executionInfo": {
     "elapsed": 29042,
     "status": "error",
     "timestamp": 1641479797507,
     "user": {
      "displayName": "Bahati Chadrack Kilongo",
      "photoUrl": "https://lh3.googleusercontent.com/a-/AOh14GjWnS1OlwN1PX9ji1UCLdN8XHx2RIlikHmCtP0J=s64",
      "userId": "09603649212836048418"
     },
     "user_tz": 0
    },
    "id": "OUJQFgkbrPA-",
    "outputId": "9c82f074-6c8d-419d-e9af-becf5a788ccf"
   },
   "outputs": [
    {
     "name": "stdout",
     "output_type": "stream",
     "text": [
      "Enter the file name: /home/students-asn10/simplestast/.git\n"
     ]
    },
    {
     "ename": "FileNotFoundError",
     "evalue": "ignored",
     "output_type": "error",
     "traceback": [
      "\u001b[0;31m---------------------------------------------------------------------------\u001b[0m",
      "\u001b[0;31mFileNotFoundError\u001b[0m                         Traceback (most recent call last)",
      "\u001b[0;32m<ipython-input-10-2a93d70ba756>\u001b[0m in \u001b[0;36m<module>\u001b[0;34m()\u001b[0m\n\u001b[1;32m      1\u001b[0m \u001b[0mname\u001b[0m \u001b[0;34m=\u001b[0m \u001b[0minput\u001b[0m\u001b[0;34m(\u001b[0m\u001b[0;34m\"Enter the file name: \"\u001b[0m\u001b[0;34m)\u001b[0m\u001b[0;34m\u001b[0m\u001b[0;34m\u001b[0m\u001b[0m\n\u001b[0;32m----> 2\u001b[0;31m \u001b[0mfobj\u001b[0m \u001b[0;34m=\u001b[0m \u001b[0mopen\u001b[0m\u001b[0;34m(\u001b[0m\u001b[0mname\u001b[0m\u001b[0;34m)\u001b[0m\u001b[0;34m\u001b[0m\u001b[0;34m\u001b[0m\u001b[0m\n\u001b[0m\u001b[1;32m      3\u001b[0m \u001b[0mprint\u001b[0m\u001b[0;34m(\u001b[0m\u001b[0mfobj\u001b[0m\u001b[0;34m.\u001b[0m\u001b[0mread\u001b[0m\u001b[0;34m(\u001b[0m\u001b[0;34m)\u001b[0m\u001b[0;34m)\u001b[0m\u001b[0;34m\u001b[0m\u001b[0;34m\u001b[0m\u001b[0m\n\u001b[1;32m      4\u001b[0m \u001b[0mfobj\u001b[0m\u001b[0;34m.\u001b[0m\u001b[0mclose\u001b[0m\u001b[0;34m(\u001b[0m\u001b[0;34m)\u001b[0m\u001b[0;34m\u001b[0m\u001b[0;34m\u001b[0m\u001b[0m\n",
      "\u001b[0;31mFileNotFoundError\u001b[0m: [Errno 2] No such file or directory: '/home/students-asn10/simplestast/.git'"
     ]
    }
   ],
   "source": [
    "name = input(\"Enter the file name: \")\n",
    "fobj = open(name)\n",
    "print(fobj.read())\n",
    "fobj.close()\n"
   ]
  },
  {
   "cell_type": "markdown",
   "metadata": {
    "id": "jwtET6aFrPA-"
   },
   "source": [
    "In the last line you can see that we closed the file object with the help of *close()* method."
   ]
  },
  {
   "cell_type": "markdown",
   "metadata": {
    "id": "m3XYZ4inrPA_"
   },
   "source": [
    "## Writing in a file\n",
    "\n",
    "Let us open a file then we will write some random text into it by using the *write()* method."
   ]
  },
  {
   "cell_type": "code",
   "execution_count": null,
   "metadata": {
    "id": "0ZYkNVhrrPA_"
   },
   "outputs": [],
   "source": [
    "fobj = open(\"ircnicks.txt\", 'w')\n",
    "fobj.write('powerpork\\n')\n",
    "fobj.write('indrag\\n')\n",
    "fobj.write('mishti\\n')\n",
    "fobj.write('sankarshan')\n",
    "fobj.close()"
   ]
  },
  {
   "cell_type": "markdown",
   "metadata": {
    "id": "MKxSMWuJrPBA"
   },
   "source": [
    "Now read the file we just created."
   ]
  },
  {
   "cell_type": "code",
   "execution_count": null,
   "metadata": {
    "id": "LGi2PwrlrPBA"
   },
   "outputs": [],
   "source": [
    "fobj = open('ircnicks.txt')\n",
    "s = fobj.read()\n",
    "print(s)"
   ]
  },
  {
   "cell_type": "markdown",
   "metadata": {
    "id": "5ABQbVTJrPBB"
   },
   "source": [
    "Suppose you are given a list of students and their respective  marks and you want to write a file in which the first column contains the students names and the second column contains their respective marks. That is your file must look like this:\n",
    "\n",
    "   ### Students Names $\\quad\\quad\\quad$       Marks\n",
    "        Thabo                90\n",
    "        Wilfrid              90.1\n",
    "        Liu                  99.99\n",
    "        Marc                 100"
   ]
  },
  {
   "cell_type": "code",
   "execution_count": null,
   "metadata": {
    "id": "BV1fmrIkrPBB"
   },
   "outputs": [],
   "source": [
    "std = open('StudentsMarks.txt', 'w')                   # Create a file named StudentsMarks.txt for writing\n",
    "std.write(\"Students' Mark \\t  Marks \\n\")               # the tab character \\t create a huge space between the first and the second column\n",
    "std.write('Thabo \\t ' + str(90) +'\\n')                 # convert numbers into strings before writing to a file\n",
    "std.write('Wilfrid \\t ' + str(90.1) +'\\n')            #  don't forget to go to the next line with the end of line character \\n\n",
    "std.write('Liu \\t ' + str(99.99)  + '\\n')\n",
    "std.write('Marc  \\t ' + str(100))\n",
    "\n",
    "std.close()"
   ]
  },
  {
   "cell_type": "markdown",
   "metadata": {
    "id": "nMSmqRjSrPBC"
   },
   "source": [
    "## Exercises\n",
    "\n",
    "1. Investigate the available methods on a variable of type *file* on a given.\n",
    "\n",
    "2. Write write a program that reads a file where each line contains a number and returns a\n",
    ">list containing the square of those numbers\n",
    "\n",
    "3. Write a pogram that receives as command line parameter the name of a file and counts\n",
    ">the number of lines of that file.\n",
    "\n",
    "4. Write a program that reads a file where each line contains a number and print the sum of\n",
    ">all the numbers.\n",
    "\n",
    "5. Write a program that reads a file and writes another file that is the line by line reversal.\n",
    ">That is the first line of the new file is the last line the former and so on.\n"
   ]
  },
  {
   "cell_type": "markdown",
   "metadata": {
    "id": "pkfwkzIurPBC"
   },
   "source": [
    "## Exercise\n",
    "\n",
    "1. Creta a ``my_data.txt`` file in the following format:\n",
    "\n",
    "                    Name:..........  \n",
    "                    Coutry:.........\n",
    "                    University:..............\n",
    "                    Expertise:...........\n",
    "                    Planed Career:.........\n",
    "                    \n",
    "2. Write a python function `` I_copy_files`` that asks the user to input a file name and returns another file\n",
    "   which is a copy of the previous one. Test your function on the file ``my_data.txt``.\n",
    "                    "
   ]
  },
  {
   "cell_type": "code",
   "execution_count": null,
   "metadata": {
    "id": "gyDiRiUurPBC"
   },
   "outputs": [],
   "source": []
  }
 ],
 "metadata": {
  "colab": {
   "provenance": []
  },
  "kernelspec": {
   "display_name": "Python 3",
   "language": "python",
   "name": "python3"
  },
  "language_info": {
   "codemirror_mode": {
    "name": "ipython",
    "version": 3
   },
   "file_extension": ".py",
   "mimetype": "text/x-python",
   "name": "python",
   "nbconvert_exporter": "python",
   "pygments_lexer": "ipython3",
   "version": "3.8.10"
  },
  "toc": {
   "base_numbering": 1,
   "nav_menu": {},
   "number_sections": true,
   "sideBar": true,
   "skip_h1_title": false,
   "title_cell": "Table of Contents",
   "title_sidebar": "Contents",
   "toc_cell": false,
   "toc_position": {},
   "toc_section_display": true,
   "toc_window_display": false
  },
  "varInspector": {
   "cols": {
    "lenName": 16,
    "lenType": 16,
    "lenVar": 40
   },
   "kernels_config": {
    "python": {
     "delete_cmd_postfix": "",
     "delete_cmd_prefix": "del ",
     "library": "var_list.py",
     "varRefreshCmd": "print(var_dic_list())"
    },
    "r": {
     "delete_cmd_postfix": ") ",
     "delete_cmd_prefix": "rm(",
     "library": "var_list.r",
     "varRefreshCmd": "cat(var_dic_list()) "
    }
   },
   "types_to_exclude": [
    "module",
    "function",
    "builtin_function_or_method",
    "instance",
    "_Feature"
   ],
   "window_display": false
  }
 },
 "nbformat": 4,
 "nbformat_minor": 0
}