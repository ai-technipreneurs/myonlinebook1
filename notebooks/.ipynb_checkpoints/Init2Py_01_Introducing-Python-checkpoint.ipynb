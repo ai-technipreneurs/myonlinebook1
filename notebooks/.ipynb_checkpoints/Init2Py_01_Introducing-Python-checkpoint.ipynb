{
 "cells": [
  {
   "cell_type": "markdown",
   "metadata": {
    "id": "VjFwLPis4NwR"
   },
   "source": [
    "## Lecture 0: Introducing Python\n",
    "    \n",
    "\n",
    "### <center> <b> <span style=\"color:blue;\"> Introducing-Python </span> </b></center>"
   ]
  },
  {
   "cell_type": "markdown",
   "metadata": {
    "id": "Gmu1wzFO4Nwg"
   },
   "source": [
    "Welcome to the exciting world of programming. Before we dive into the nuts and bolts of Python programming, let us first answer a few questions."
   ]
  },
  {
   "cell_type": "markdown",
   "metadata": {
    "id": "DOGJUTZQ4Nwh"
   },
   "source": [
    "**What is Python?**\n",
    "\n",
    "Python is a widely used high-level programming language created by\n",
    "Guido van Rossum in the late 1980s. The language places strong\n",
    "emphasis on\n",
    "\n",
    "       * code readability and\n",
    "       * simplicity,\n",
    "making it possible for programmers to develop applications rapidly.\n",
    "\n",
    "Like all high level programming languages, Python code resembles the\n",
    "English language which computers are unable to understand. Codes that\n",
    "we write in Python have to be interpreted by a special program known as\n",
    "the Python interpreter"
   ]
  },
  {
   "cell_type": "markdown",
   "metadata": {
    "id": "YtuCUiOw4Nwj"
   },
   "source": [
    "**Why Learn Python?**\n",
    "\n",
    "There are a large number of high level programming languages available,\n",
    "such as C, C++, and Java. The good news is all high level programming\n",
    "languages are very similar to one another. What differs is mainly the\n",
    "syntax, the libraries available and the way we access those libraries.\n",
    "If you are new to programming, Python is a great place to start. One of\n",
    "the key features of Python is its simplicity, making it the ideal language\n",
    "for beginners to learn. Most programs in Python require considerably\n",
    "fewer lines of code to perform the same task compared to other\n",
    "languages such as C. This leads to fewer programming errors and\n",
    "reduces the development time needed.\n",
    "\n",
    "Python can be used for a large variety of tasks,\n",
    "such as for desktop applications, database applications, network\n",
    "programming, game programming and even mobile development. Last\n",
    "but not least, Python is a cross platform language, which means that\n",
    "code written for one operating system, such as Windows, will work well\n",
    "on Mac OS or Linux without making any changes to the Python code.\n"
   ]
  },
  {
   "cell_type": "markdown",
   "metadata": {
    "id": "-bb1UxH14Nwk"
   },
   "source": [
    "**Convinced that Python is THE language to learn? Let’s get started...**\n",
    "\n",
    "  The course is meant to be interactive and you are welcome to ask questions any time during the lecture."
   ]
  },
  {
   "cell_type": "markdown",
   "metadata": {
    "id": "cviTk4FW4Nwn"
   },
   "source": [
    "### The objectives of this course are those to enable learners to:\n",
    "\n",
    "* master programming as a powerful tool a scientist must;\n",
    "* use wisely programming concepts;\n",
    "* have an innovative spirit, easy understanding of analysing and optimizing codings;\n",
    "* have introduction to object-oriented programming concepts with Python;\n",
    "* develop the speed and efficiency in programming;\n",
    "* devellop spirit of sharing codes and controling program versions with Git;\n",
    "* develop software that solve daily life-based problems."
   ]
  },
  {
   "cell_type": "markdown",
   "metadata": {
    "collapsed": true,
    "id": "Av5HD89z4Nwp"
   },
   "source": [
    "### Python environments"
   ]
  },
  {
   "cell_type": "markdown",
   "metadata": {
    "id": "C5Z3xPfr4Nwr"
   },
   "source": [
    "Two main ways that you can run python programs:\n",
    "\n",
    "* you can create executable scripts.\n",
    "* you can run Jupyter notebook.\n",
    "\n"
   ]
  },
  {
   "cell_type": "markdown",
   "metadata": {
    "id": "qnLfpCTQ4Nws"
   },
   "source": [
    "Jupyter is an alternative to the built-in Python interpreter with some nice features.\n",
    "Jupyter notebook gives you interactive access to the python interpreter from within a browser window, and it allows you to save your commands as a <font color=\"red\">\"notebook\" </font> .\n"
   ]
  },
  {
   "cell_type": "markdown",
   "metadata": {
    "id": "RZuGWIe24Nwt"
   },
   "source": [
    "Let's give the built-in interpreter a spin just this once.  Open a **Terminal** window, which starts your default shell.  \n",
    "\n",
    "Type    <font color=\"CornflowerBlue \"> python </font>\n",
    "\n",
    "\n",
    "And you should see python start up.  Type   <font color=\"CornflowerBlue \"> print (\"This is ging to be amazing\") </font>\n",
    "\n",
    "\n",
    "Escape from python with     <font color=\"CornflowerBlue \"> \"quit()\" </font>"
   ]
  },
  {
   "cell_type": "markdown",
   "metadata": {
    "id": "J0WDkoZN4Nwu"
   },
   "source": [
    "### Navigating in Jupyter notebook"
   ]
  },
  {
   "cell_type": "markdown",
   "metadata": {
    "id": "BDWfvY3N4Nwu"
   },
   "source": [
    "Lets run our first python program in the input cell below:\n",
    "\n",
    "* To feed our lines of code to the python interpreter one at a time when you press:  \n",
    "\n",
    "\n",
    "#### <font color=\"CornflowerBlue \">Shift-ENTER or Ctrl-ENTER  </font>\n",
    "\n",
    "\n",
    "\n",
    "* To get space to enter  multi-line commands on a cell you hit:\n",
    "#### <font color=\"CornflowerBlue \"> ENTER  </font>\n"
   ]
  },
  {
   "cell_type": "code",
   "execution_count": 1,
   "metadata": {
    "ExecuteTime": {
     "end_time": "2020-11-18T10:45:10.084227Z",
     "start_time": "2020-11-18T10:45:10.072696Z"
    },
    "colab": {
     "base_uri": "https://localhost:8080/"
    },
    "executionInfo": {
     "elapsed": 7,
     "status": "ok",
     "timestamp": 1701819261860,
     "user": {
      "displayName": "Amina Salifu",
      "userId": "04467439292254188525"
     },
     "user_tz": 300
    },
    "id": "fON80UQD4Nwv",
    "outputId": "7187b892-08ac-4170-c0b0-35e7a798144f"
   },
   "outputs": [
    {
     "name": "stdout",
     "output_type": "stream",
     "text": [
      "hello world\n"
     ]
    }
   ],
   "source": [
    "print (\"hello world\")"
   ]
  },
  {
   "cell_type": "code",
   "execution_count": 2,
   "metadata": {
    "colab": {
     "base_uri": "https://localhost:8080/"
    },
    "executionInfo": {
     "elapsed": 473,
     "status": "ok",
     "timestamp": 1701819380821,
     "user": {
      "displayName": "Amina Salifu",
      "userId": "04467439292254188525"
     },
     "user_tz": 300
    },
    "id": "MzjLc9mp-Mn5",
    "outputId": "b3d8cf46-3b38-413f-aa03-e8e5e25b3f1e"
   },
   "outputs": [
    {
     "name": "stdout",
     "output_type": "stream",
     "text": [
      "hello world\n"
     ]
    }
   ],
   "source": [
    "print (\"hello world\")"
   ]
  },
  {
   "cell_type": "code",
   "execution_count": 3,
   "metadata": {
    "ExecuteTime": {
     "end_time": "2020-11-18T10:45:20.896945Z",
     "start_time": "2020-11-18T10:45:20.891532Z"
    },
    "colab": {
     "base_uri": "https://localhost:8080/"
    },
    "executionInfo": {
     "elapsed": 420,
     "status": "ok",
     "timestamp": 1701819399635,
     "user": {
      "displayName": "Amina Salifu",
      "userId": "04467439292254188525"
     },
     "user_tz": 300
    },
    "id": "KrwpLOKn4Nwy",
    "outputId": "bb8f4302-d527-43f3-ce3c-88b04b2f3df2"
   },
   "outputs": [
    {
     "name": "stdout",
     "output_type": "stream",
     "text": [
      "Food is very nice\n"
     ]
    }
   ],
   "source": [
    "print (\"Food is very nice\") #eat me"
   ]
  },
  {
   "cell_type": "code",
   "execution_count": 4,
   "metadata": {
    "ExecuteTime": {
     "end_time": "2020-11-18T10:45:52.381239Z",
     "start_time": "2020-11-18T10:45:52.355009Z"
    },
    "colab": {
     "base_uri": "https://localhost:8080/"
    },
    "executionInfo": {
     "elapsed": 457,
     "status": "ok",
     "timestamp": 1701819416220,
     "user": {
      "displayName": "Amina Salifu",
      "userId": "04467439292254188525"
     },
     "user_tz": 300
    },
    "id": "Mj2SdAyV4Nwz",
    "outputId": "178cca6b-5b5b-4294-fc70-4a369cab0843"
   },
   "outputs": [
    {
     "name": "stdout",
     "output_type": "stream",
     "text": [
      "food is very nice\n"
     ]
    }
   ],
   "source": [
    "print (\"food is very nice\")\n",
    "#you'll get a fairly harmless error message,because you didn't put your comment after a hash."
   ]
  },
  {
   "cell_type": "markdown",
   "metadata": {
    "id": "lmKxlLU-4Nw0"
   },
   "source": [
    "### Executing code in files"
   ]
  },
  {
   "cell_type": "code",
   "execution_count": 5,
   "metadata": {
    "ExecuteTime": {
     "end_time": "2020-11-18T10:49:54.021084Z",
     "start_time": "2020-11-18T10:49:38.536142Z"
    },
    "colab": {
     "base_uri": "https://localhost:8080/",
     "height": 488
    },
    "executionInfo": {
     "elapsed": 398,
     "status": "error",
     "timestamp": 1701819460337,
     "user": {
      "displayName": "Amina Salifu",
      "userId": "04467439292254188525"
     },
     "user_tz": 300
    },
    "id": "ncLuQeNV4Nw0",
    "outputId": "9a8b6a68-c8b7-49a3-990d-1ac227f34c0d"
   },
   "outputs": [
    {
     "ename": "Exception",
     "evalue": "ignored",
     "output_type": "error",
     "traceback": [
      "\u001b[0;31m---------------------------------------------------------------------------\u001b[0m",
      "\u001b[0;31mOSError\u001b[0m                                   Traceback (most recent call last)",
      "\u001b[0;32m/usr/local/lib/python3.10/dist-packages/IPython/core/magics/execution.py\u001b[0m in \u001b[0;36mrun\u001b[0;34m(self, parameter_s, runner, file_finder)\u001b[0m\n\u001b[1;32m    713\u001b[0m             \u001b[0mfpath\u001b[0m \u001b[0;34m=\u001b[0m \u001b[0marg_lst\u001b[0m\u001b[0;34m[\u001b[0m\u001b[0;36m0\u001b[0m\u001b[0;34m]\u001b[0m\u001b[0;34m\u001b[0m\u001b[0;34m\u001b[0m\u001b[0m\n\u001b[0;32m--> 714\u001b[0;31m             \u001b[0mfilename\u001b[0m \u001b[0;34m=\u001b[0m \u001b[0mfile_finder\u001b[0m\u001b[0;34m(\u001b[0m\u001b[0mfpath\u001b[0m\u001b[0;34m)\u001b[0m\u001b[0;34m\u001b[0m\u001b[0;34m\u001b[0m\u001b[0m\n\u001b[0m\u001b[1;32m    715\u001b[0m         \u001b[0;32mexcept\u001b[0m \u001b[0mIndexError\u001b[0m\u001b[0;34m:\u001b[0m\u001b[0;34m\u001b[0m\u001b[0;34m\u001b[0m\u001b[0m\n",
      "\u001b[0;32m/usr/local/lib/python3.10/dist-packages/IPython/utils/path.py\u001b[0m in \u001b[0;36mget_py_filename\u001b[0;34m(name, force_win32)\u001b[0m\n\u001b[1;32m    108\u001b[0m     \u001b[0;32melse\u001b[0m\u001b[0;34m:\u001b[0m\u001b[0;34m\u001b[0m\u001b[0;34m\u001b[0m\u001b[0m\n\u001b[0;32m--> 109\u001b[0;31m         \u001b[0;32mraise\u001b[0m \u001b[0mIOError\u001b[0m\u001b[0;34m(\u001b[0m\u001b[0;34m'File `%r` not found.'\u001b[0m \u001b[0;34m%\u001b[0m \u001b[0mname\u001b[0m\u001b[0;34m)\u001b[0m\u001b[0;34m\u001b[0m\u001b[0;34m\u001b[0m\u001b[0m\n\u001b[0m\u001b[1;32m    110\u001b[0m \u001b[0;34m\u001b[0m\u001b[0m\n",
      "\u001b[0;31mOSError\u001b[0m: File `'hello.py'` not found.",
      "\nDuring handling of the above exception, another exception occurred:\n",
      "\u001b[0;31mException\u001b[0m                                 Traceback (most recent call last)",
      "\u001b[0;32m<ipython-input-5-3d9491cd4688>\u001b[0m in \u001b[0;36m<cell line: 1>\u001b[0;34m()\u001b[0m\n\u001b[0;32m----> 1\u001b[0;31m \u001b[0mget_ipython\u001b[0m\u001b[0;34m(\u001b[0m\u001b[0;34m)\u001b[0m\u001b[0;34m.\u001b[0m\u001b[0mrun_line_magic\u001b[0m\u001b[0;34m(\u001b[0m\u001b[0;34m'run'\u001b[0m\u001b[0;34m,\u001b[0m \u001b[0;34m'hello.py'\u001b[0m\u001b[0;34m)\u001b[0m\u001b[0;34m\u001b[0m\u001b[0;34m\u001b[0m\u001b[0m\n\u001b[0m",
      "\u001b[0;32m/usr/local/lib/python3.10/dist-packages/IPython/core/interactiveshell.py\u001b[0m in \u001b[0;36mrun_line_magic\u001b[0;34m(self, magic_name, line, _stack_depth)\u001b[0m\n\u001b[1;32m   2416\u001b[0m                 \u001b[0mkwargs\u001b[0m\u001b[0;34m[\u001b[0m\u001b[0;34m'local_ns'\u001b[0m\u001b[0;34m]\u001b[0m \u001b[0;34m=\u001b[0m \u001b[0mself\u001b[0m\u001b[0;34m.\u001b[0m\u001b[0mget_local_scope\u001b[0m\u001b[0;34m(\u001b[0m\u001b[0mstack_depth\u001b[0m\u001b[0;34m)\u001b[0m\u001b[0;34m\u001b[0m\u001b[0;34m\u001b[0m\u001b[0m\n\u001b[1;32m   2417\u001b[0m             \u001b[0;32mwith\u001b[0m \u001b[0mself\u001b[0m\u001b[0;34m.\u001b[0m\u001b[0mbuiltin_trap\u001b[0m\u001b[0;34m:\u001b[0m\u001b[0;34m\u001b[0m\u001b[0;34m\u001b[0m\u001b[0m\n\u001b[0;32m-> 2418\u001b[0;31m                 \u001b[0mresult\u001b[0m \u001b[0;34m=\u001b[0m \u001b[0mfn\u001b[0m\u001b[0;34m(\u001b[0m\u001b[0;34m*\u001b[0m\u001b[0margs\u001b[0m\u001b[0;34m,\u001b[0m \u001b[0;34m**\u001b[0m\u001b[0mkwargs\u001b[0m\u001b[0;34m)\u001b[0m\u001b[0;34m\u001b[0m\u001b[0;34m\u001b[0m\u001b[0m\n\u001b[0m\u001b[1;32m   2419\u001b[0m             \u001b[0;32mreturn\u001b[0m \u001b[0mresult\u001b[0m\u001b[0;34m\u001b[0m\u001b[0;34m\u001b[0m\u001b[0m\n\u001b[1;32m   2420\u001b[0m \u001b[0;34m\u001b[0m\u001b[0m\n",
      "\u001b[0;32m<decorator-gen-52>\u001b[0m in \u001b[0;36mrun\u001b[0;34m(self, parameter_s, runner, file_finder)\u001b[0m\n",
      "\u001b[0;32m/usr/local/lib/python3.10/dist-packages/IPython/core/magic.py\u001b[0m in \u001b[0;36m<lambda>\u001b[0;34m(f, *a, **k)\u001b[0m\n\u001b[1;32m    185\u001b[0m     \u001b[0;31m# but it's overkill for just that one bit of state.\u001b[0m\u001b[0;34m\u001b[0m\u001b[0;34m\u001b[0m\u001b[0m\n\u001b[1;32m    186\u001b[0m     \u001b[0;32mdef\u001b[0m \u001b[0mmagic_deco\u001b[0m\u001b[0;34m(\u001b[0m\u001b[0marg\u001b[0m\u001b[0;34m)\u001b[0m\u001b[0;34m:\u001b[0m\u001b[0;34m\u001b[0m\u001b[0;34m\u001b[0m\u001b[0m\n\u001b[0;32m--> 187\u001b[0;31m         \u001b[0mcall\u001b[0m \u001b[0;34m=\u001b[0m \u001b[0;32mlambda\u001b[0m \u001b[0mf\u001b[0m\u001b[0;34m,\u001b[0m \u001b[0;34m*\u001b[0m\u001b[0ma\u001b[0m\u001b[0;34m,\u001b[0m \u001b[0;34m**\u001b[0m\u001b[0mk\u001b[0m\u001b[0;34m:\u001b[0m \u001b[0mf\u001b[0m\u001b[0;34m(\u001b[0m\u001b[0;34m*\u001b[0m\u001b[0ma\u001b[0m\u001b[0;34m,\u001b[0m \u001b[0;34m**\u001b[0m\u001b[0mk\u001b[0m\u001b[0;34m)\u001b[0m\u001b[0;34m\u001b[0m\u001b[0;34m\u001b[0m\u001b[0m\n\u001b[0m\u001b[1;32m    188\u001b[0m \u001b[0;34m\u001b[0m\u001b[0m\n\u001b[1;32m    189\u001b[0m         \u001b[0;32mif\u001b[0m \u001b[0mcallable\u001b[0m\u001b[0;34m(\u001b[0m\u001b[0marg\u001b[0m\u001b[0;34m)\u001b[0m\u001b[0;34m:\u001b[0m\u001b[0;34m\u001b[0m\u001b[0;34m\u001b[0m\u001b[0m\n",
      "\u001b[0;32m/usr/local/lib/python3.10/dist-packages/IPython/core/magics/execution.py\u001b[0m in \u001b[0;36mrun\u001b[0;34m(self, parameter_s, runner, file_finder)\u001b[0m\n\u001b[1;32m    723\u001b[0m             \u001b[0;32mif\u001b[0m \u001b[0mos\u001b[0m\u001b[0;34m.\u001b[0m\u001b[0mname\u001b[0m \u001b[0;34m==\u001b[0m \u001b[0;34m'nt'\u001b[0m \u001b[0;32mand\u001b[0m \u001b[0mre\u001b[0m\u001b[0;34m.\u001b[0m\u001b[0mmatch\u001b[0m\u001b[0;34m(\u001b[0m\u001b[0;34mr\"^'.*'$\"\u001b[0m\u001b[0;34m,\u001b[0m\u001b[0mfpath\u001b[0m\u001b[0;34m)\u001b[0m\u001b[0;34m:\u001b[0m\u001b[0;34m\u001b[0m\u001b[0;34m\u001b[0m\u001b[0m\n\u001b[1;32m    724\u001b[0m                 \u001b[0mwarn\u001b[0m\u001b[0;34m(\u001b[0m\u001b[0;34m'For Windows, use double quotes to wrap a filename: %run \"mypath\\\\myfile.py\"'\u001b[0m\u001b[0;34m)\u001b[0m\u001b[0;34m\u001b[0m\u001b[0;34m\u001b[0m\u001b[0m\n\u001b[0;32m--> 725\u001b[0;31m             \u001b[0;32mraise\u001b[0m \u001b[0mException\u001b[0m\u001b[0;34m(\u001b[0m\u001b[0mmsg\u001b[0m\u001b[0;34m)\u001b[0m\u001b[0;34m\u001b[0m\u001b[0;34m\u001b[0m\u001b[0m\n\u001b[0m\u001b[1;32m    726\u001b[0m         \u001b[0;32mexcept\u001b[0m \u001b[0mTypeError\u001b[0m\u001b[0;34m:\u001b[0m\u001b[0;34m\u001b[0m\u001b[0;34m\u001b[0m\u001b[0m\n\u001b[1;32m    727\u001b[0m             \u001b[0;32mif\u001b[0m \u001b[0mfpath\u001b[0m \u001b[0;32min\u001b[0m \u001b[0msys\u001b[0m\u001b[0;34m.\u001b[0m\u001b[0mmeta_path\u001b[0m\u001b[0;34m:\u001b[0m\u001b[0;34m\u001b[0m\u001b[0;34m\u001b[0m\u001b[0m\n",
      "\u001b[0;31mException\u001b[0m: File `'hello.py'` not found."
     ]
    }
   ],
   "source": [
    "%run hello.py"
   ]
  },
  {
   "cell_type": "markdown",
   "metadata": {
    "id": "4iZAca0M4Nw1"
   },
   "source": [
    "* To move the cursor to a different cells in the notebook push the <font color=\"red \"> up and down arrows </font>\n",
    "\n"
   ]
  },
  {
   "cell_type": "code",
   "execution_count": 6,
   "metadata": {
    "ExecuteTime": {
     "end_time": "2020-11-18T10:52:40.701416Z",
     "start_time": "2020-11-18T10:52:40.690475Z"
    },
    "colab": {
     "base_uri": "https://localhost:8080/"
    },
    "executionInfo": {
     "elapsed": 423,
     "status": "ok",
     "timestamp": 1701819707915,
     "user": {
      "displayName": "Amina Salifu",
      "userId": "04467439292254188525"
     },
     "user_tz": 300
    },
    "id": "wumsR1G-4Nw2",
    "outputId": "6ccdd117-64cb-470e-de03-78c000a3a68a"
   },
   "outputs": [
    {
     "name": "stdout",
     "output_type": "stream",
     "text": [
      "10\n",
      "0.0\n",
      "1\n"
     ]
    }
   ],
   "source": [
    "i = 10\n",
    "j = 0.0\n",
    "c = 1\n",
    "\n",
    "print (i)\n",
    "print (j)\n",
    "print (c)"
   ]
  },
  {
   "cell_type": "code",
   "execution_count": null,
   "metadata": {
    "colab": {
     "base_uri": "https://localhost:8080/",
     "height": 346
    },
    "executionInfo": {
     "elapsed": 27362,
     "status": "error",
     "timestamp": 1660395985360,
     "user": {
      "displayName": "Amadou Ndiaye",
      "userId": "12477370533599133219"
     },
     "user_tz": 0
    },
    "id": "5KefFP1uGlvp",
    "outputId": "7b823f51-f3ce-438c-ea98-eb8b9d014246"
   },
   "outputs": [
    {
     "ename": "MessageError",
     "evalue": "ignored",
     "output_type": "error",
     "traceback": [
      "\u001b[0;31m---------------------------------------------------------------------------\u001b[0m",
      "\u001b[0;31mMessageError\u001b[0m                              Traceback (most recent call last)",
      "\u001b[0;32m<ipython-input-19-d5df0069828e>\u001b[0m in \u001b[0;36m<module>\u001b[0;34m()\u001b[0m\n\u001b[1;32m      1\u001b[0m \u001b[0;32mfrom\u001b[0m \u001b[0mgoogle\u001b[0m\u001b[0;34m.\u001b[0m\u001b[0mcolab\u001b[0m \u001b[0;32mimport\u001b[0m \u001b[0mdrive\u001b[0m\u001b[0;34m\u001b[0m\u001b[0;34m\u001b[0m\u001b[0m\n\u001b[0;32m----> 2\u001b[0;31m \u001b[0mdrive\u001b[0m\u001b[0;34m.\u001b[0m\u001b[0mmount\u001b[0m\u001b[0;34m(\u001b[0m\u001b[0;34m'/content/drive'\u001b[0m\u001b[0;34m)\u001b[0m\u001b[0;34m\u001b[0m\u001b[0;34m\u001b[0m\u001b[0m\n\u001b[0m",
      "\u001b[0;32m/usr/local/lib/python3.7/dist-packages/google/colab/drive.py\u001b[0m in \u001b[0;36mmount\u001b[0;34m(mountpoint, force_remount, timeout_ms)\u001b[0m\n\u001b[1;32m    103\u001b[0m       \u001b[0mforce_remount\u001b[0m\u001b[0;34m=\u001b[0m\u001b[0mforce_remount\u001b[0m\u001b[0;34m,\u001b[0m\u001b[0;34m\u001b[0m\u001b[0;34m\u001b[0m\u001b[0m\n\u001b[1;32m    104\u001b[0m       \u001b[0mtimeout_ms\u001b[0m\u001b[0;34m=\u001b[0m\u001b[0mtimeout_ms\u001b[0m\u001b[0;34m,\u001b[0m\u001b[0;34m\u001b[0m\u001b[0;34m\u001b[0m\u001b[0m\n\u001b[0;32m--> 105\u001b[0;31m       ephemeral=True)\n\u001b[0m\u001b[1;32m    106\u001b[0m \u001b[0;34m\u001b[0m\u001b[0m\n\u001b[1;32m    107\u001b[0m \u001b[0;34m\u001b[0m\u001b[0m\n",
      "\u001b[0;32m/usr/local/lib/python3.7/dist-packages/google/colab/drive.py\u001b[0m in \u001b[0;36m_mount\u001b[0;34m(mountpoint, force_remount, timeout_ms, ephemeral)\u001b[0m\n\u001b[1;32m    118\u001b[0m   \u001b[0;32mif\u001b[0m \u001b[0mephemeral\u001b[0m\u001b[0;34m:\u001b[0m\u001b[0;34m\u001b[0m\u001b[0;34m\u001b[0m\u001b[0m\n\u001b[1;32m    119\u001b[0m     _message.blocking_request(\n\u001b[0;32m--> 120\u001b[0;31m         'request_auth', request={'authType': 'dfs_ephemeral'}, timeout_sec=None)\n\u001b[0m\u001b[1;32m    121\u001b[0m \u001b[0;34m\u001b[0m\u001b[0m\n\u001b[1;32m    122\u001b[0m   \u001b[0mmountpoint\u001b[0m \u001b[0;34m=\u001b[0m \u001b[0m_os\u001b[0m\u001b[0;34m.\u001b[0m\u001b[0mpath\u001b[0m\u001b[0;34m.\u001b[0m\u001b[0mexpanduser\u001b[0m\u001b[0;34m(\u001b[0m\u001b[0mmountpoint\u001b[0m\u001b[0;34m)\u001b[0m\u001b[0;34m\u001b[0m\u001b[0;34m\u001b[0m\u001b[0m\n",
      "\u001b[0;32m/usr/local/lib/python3.7/dist-packages/google/colab/_message.py\u001b[0m in \u001b[0;36mblocking_request\u001b[0;34m(request_type, request, timeout_sec, parent)\u001b[0m\n\u001b[1;32m    169\u001b[0m   request_id = send_request(\n\u001b[1;32m    170\u001b[0m       request_type, request, parent=parent, expect_reply=True)\n\u001b[0;32m--> 171\u001b[0;31m   \u001b[0;32mreturn\u001b[0m \u001b[0mread_reply_from_input\u001b[0m\u001b[0;34m(\u001b[0m\u001b[0mrequest_id\u001b[0m\u001b[0;34m,\u001b[0m \u001b[0mtimeout_sec\u001b[0m\u001b[0;34m)\u001b[0m\u001b[0;34m\u001b[0m\u001b[0;34m\u001b[0m\u001b[0m\n\u001b[0m",
      "\u001b[0;32m/usr/local/lib/python3.7/dist-packages/google/colab/_message.py\u001b[0m in \u001b[0;36mread_reply_from_input\u001b[0;34m(message_id, timeout_sec)\u001b[0m\n\u001b[1;32m    100\u001b[0m         reply.get('colab_msg_id') == message_id):\n\u001b[1;32m    101\u001b[0m       \u001b[0;32mif\u001b[0m \u001b[0;34m'error'\u001b[0m \u001b[0;32min\u001b[0m \u001b[0mreply\u001b[0m\u001b[0;34m:\u001b[0m\u001b[0;34m\u001b[0m\u001b[0;34m\u001b[0m\u001b[0m\n\u001b[0;32m--> 102\u001b[0;31m         \u001b[0;32mraise\u001b[0m \u001b[0mMessageError\u001b[0m\u001b[0;34m(\u001b[0m\u001b[0mreply\u001b[0m\u001b[0;34m[\u001b[0m\u001b[0;34m'error'\u001b[0m\u001b[0;34m]\u001b[0m\u001b[0;34m)\u001b[0m\u001b[0;34m\u001b[0m\u001b[0;34m\u001b[0m\u001b[0m\n\u001b[0m\u001b[1;32m    103\u001b[0m       \u001b[0;32mreturn\u001b[0m \u001b[0mreply\u001b[0m\u001b[0;34m.\u001b[0m\u001b[0mget\u001b[0m\u001b[0;34m(\u001b[0m\u001b[0;34m'data'\u001b[0m\u001b[0;34m,\u001b[0m \u001b[0;32mNone\u001b[0m\u001b[0;34m)\u001b[0m\u001b[0;34m\u001b[0m\u001b[0;34m\u001b[0m\u001b[0m\n\u001b[1;32m    104\u001b[0m \u001b[0;34m\u001b[0m\u001b[0m\n",
      "\u001b[0;31mMessageError\u001b[0m: Error: credential propagation was unsuccessful"
     ]
    }
   ],
   "source": [
    "from google.colab import drive\n",
    "drive.mount('/content/drive')"
   ]
  },
  {
   "cell_type": "code",
   "execution_count": null,
   "metadata": {
    "ExecuteTime": {
     "end_time": "2020-11-18T10:53:10.684774Z",
     "start_time": "2020-11-18T10:53:10.676972Z"
    },
    "colab": {
     "base_uri": "https://localhost:8080/"
    },
    "executionInfo": {
     "elapsed": 404,
     "status": "ok",
     "timestamp": 1693267803297,
     "user": {
      "displayName": "Gabriel Diouf",
      "userId": "17109134363334068789"
     },
     "user_tz": 0
    },
    "id": "Ddw8i4w44Nw3",
    "outputId": "e3d3d27c-b2ea-405a-ab16-2a0abcb2fb66"
   },
   "outputs": [
    {
     "name": "stdout",
     "output_type": "stream",
     "text": [
      "10 0.0 1\n"
     ]
    }
   ],
   "source": [
    "print (i,j,c)"
   ]
  },
  {
   "cell_type": "code",
   "execution_count": null,
   "metadata": {
    "ExecuteTime": {
     "end_time": "2020-11-18T10:53:42.029340Z",
     "start_time": "2020-11-18T10:53:42.023049Z"
    },
    "colab": {
     "base_uri": "https://localhost:8080/"
    },
    "executionInfo": {
     "elapsed": 378,
     "status": "ok",
     "timestamp": 1660396566427,
     "user": {
      "displayName": "Amadou Ndiaye",
      "userId": "12477370533599133219"
     },
     "user_tz": 0
    },
    "id": "FHPjfCpI4Nw3",
    "outputId": "21dc9ff0-1753-42c9-e935-490e82715ca0"
   },
   "outputs": [
    {
     "name": "stdout",
     "output_type": "stream",
     "text": [
      "10.0\n"
     ]
    }
   ],
   "source": [
    "d = i + j\n",
    "print (d)"
   ]
  },
  {
   "cell_type": "markdown",
   "metadata": {
    "id": "fTC2KsKF4Nw4"
   },
   "source": [
    "Lets see if python knows more than what we have told it about the variable 'c'. Lets find about the types of all variable we gave it."
   ]
  },
  {
   "cell_type": "code",
   "execution_count": null,
   "metadata": {
    "ExecuteTime": {
     "end_time": "2020-11-18T10:53:44.493935Z",
     "start_time": "2020-11-18T10:53:44.479144Z"
    },
    "colab": {
     "base_uri": "https://localhost:8080/"
    },
    "executionInfo": {
     "elapsed": 303,
     "status": "ok",
     "timestamp": 1660396748910,
     "user": {
      "displayName": "Amadou Ndiaye",
      "userId": "12477370533599133219"
     },
     "user_tz": 0
    },
    "id": "Z8H2Uxq74Nw5",
    "outputId": "a0c4f473-25b9-455f-9107-063f3347149a"
   },
   "outputs": [
    {
     "data": {
      "text/plain": [
       "(int, float, float)"
      ]
     },
     "execution_count": 30,
     "metadata": {},
     "output_type": "execute_result"
    }
   ],
   "source": [
    "type(i), type(j), type(d)"
   ]
  },
  {
   "cell_type": "markdown",
   "metadata": {
    "id": "Oa0AAGA74Nw6"
   },
   "source": [
    "### Getting Help\n"
   ]
  },
  {
   "cell_type": "markdown",
   "metadata": {
    "id": "0Pqzu97M4Nw6"
   },
   "source": [
    "\n",
    "IPython has some nice help features. Let's say we want to know more about the integer data type.\n",
    "There are at least two ways to do this task:\n",
    "\n",
    "* you can get python to display a scrolling text using one of the two commands"
   ]
  },
  {
   "cell_type": "code",
   "execution_count": null,
   "metadata": {
    "ExecuteTime": {
     "end_time": "2020-11-18T10:55:47.790140Z",
     "start_time": "2020-11-18T10:55:47.756308Z"
    },
    "colab": {
     "base_uri": "https://localhost:8080/"
    },
    "collapsed": true,
    "executionInfo": {
     "elapsed": 358,
     "status": "ok",
     "timestamp": 1660396546675,
     "user": {
      "displayName": "Amadou Ndiaye",
      "userId": "12477370533599133219"
     },
     "user_tz": 0
    },
    "id": "4vyQa9bw4Nw7",
    "outputId": "6627b9f8-fd8b-412d-fea4-a2019ef57386"
   },
   "outputs": [
    {
     "name": "stdout",
     "output_type": "stream",
     "text": [
      "Help on class int in module builtins:\n",
      "\n",
      "class int(object)\n",
      " |  int([x]) -> integer\n",
      " |  int(x, base=10) -> integer\n",
      " |  \n",
      " |  Convert a number or string to an integer, or return 0 if no arguments\n",
      " |  are given.  If x is a number, return x.__int__().  For floating point\n",
      " |  numbers, this truncates towards zero.\n",
      " |  \n",
      " |  If x is not a number or if base is given, then x must be a string,\n",
      " |  bytes, or bytearray instance representing an integer literal in the\n",
      " |  given base.  The literal can be preceded by '+' or '-' and be surrounded\n",
      " |  by whitespace.  The base defaults to 10.  Valid bases are 0 and 2-36.\n",
      " |  Base 0 means to interpret the base from the string as an integer literal.\n",
      " |  >>> int('0b100', base=0)\n",
      " |  4\n",
      " |  \n",
      " |  Methods defined here:\n",
      " |  \n",
      " |  __abs__(self, /)\n",
      " |      abs(self)\n",
      " |  \n",
      " |  __add__(self, value, /)\n",
      " |      Return self+value.\n",
      " |  \n",
      " |  __and__(self, value, /)\n",
      " |      Return self&value.\n",
      " |  \n",
      " |  __bool__(self, /)\n",
      " |      self != 0\n",
      " |  \n",
      " |  __ceil__(...)\n",
      " |      Ceiling of an Integral returns itself.\n",
      " |  \n",
      " |  __divmod__(self, value, /)\n",
      " |      Return divmod(self, value).\n",
      " |  \n",
      " |  __eq__(self, value, /)\n",
      " |      Return self==value.\n",
      " |  \n",
      " |  __float__(self, /)\n",
      " |      float(self)\n",
      " |  \n",
      " |  __floor__(...)\n",
      " |      Flooring an Integral returns itself.\n",
      " |  \n",
      " |  __floordiv__(self, value, /)\n",
      " |      Return self//value.\n",
      " |  \n",
      " |  __format__(self, format_spec, /)\n",
      " |      Default object formatter.\n",
      " |  \n",
      " |  __ge__(self, value, /)\n",
      " |      Return self>=value.\n",
      " |  \n",
      " |  __getattribute__(self, name, /)\n",
      " |      Return getattr(self, name).\n",
      " |  \n",
      " |  __getnewargs__(self, /)\n",
      " |  \n",
      " |  __gt__(self, value, /)\n",
      " |      Return self>value.\n",
      " |  \n",
      " |  __hash__(self, /)\n",
      " |      Return hash(self).\n",
      " |  \n",
      " |  __index__(self, /)\n",
      " |      Return self converted to an integer, if self is suitable for use as an index into a list.\n",
      " |  \n",
      " |  __int__(self, /)\n",
      " |      int(self)\n",
      " |  \n",
      " |  __invert__(self, /)\n",
      " |      ~self\n",
      " |  \n",
      " |  __le__(self, value, /)\n",
      " |      Return self<=value.\n",
      " |  \n",
      " |  __lshift__(self, value, /)\n",
      " |      Return self<<value.\n",
      " |  \n",
      " |  __lt__(self, value, /)\n",
      " |      Return self<value.\n",
      " |  \n",
      " |  __mod__(self, value, /)\n",
      " |      Return self%value.\n",
      " |  \n",
      " |  __mul__(self, value, /)\n",
      " |      Return self*value.\n",
      " |  \n",
      " |  __ne__(self, value, /)\n",
      " |      Return self!=value.\n",
      " |  \n",
      " |  __neg__(self, /)\n",
      " |      -self\n",
      " |  \n",
      " |  __or__(self, value, /)\n",
      " |      Return self|value.\n",
      " |  \n",
      " |  __pos__(self, /)\n",
      " |      +self\n",
      " |  \n",
      " |  __pow__(self, value, mod=None, /)\n",
      " |      Return pow(self, value, mod).\n",
      " |  \n",
      " |  __radd__(self, value, /)\n",
      " |      Return value+self.\n",
      " |  \n",
      " |  __rand__(self, value, /)\n",
      " |      Return value&self.\n",
      " |  \n",
      " |  __rdivmod__(self, value, /)\n",
      " |      Return divmod(value, self).\n",
      " |  \n",
      " |  __repr__(self, /)\n",
      " |      Return repr(self).\n",
      " |  \n",
      " |  __rfloordiv__(self, value, /)\n",
      " |      Return value//self.\n",
      " |  \n",
      " |  __rlshift__(self, value, /)\n",
      " |      Return value<<self.\n",
      " |  \n",
      " |  __rmod__(self, value, /)\n",
      " |      Return value%self.\n",
      " |  \n",
      " |  __rmul__(self, value, /)\n",
      " |      Return value*self.\n",
      " |  \n",
      " |  __ror__(self, value, /)\n",
      " |      Return value|self.\n",
      " |  \n",
      " |  __round__(...)\n",
      " |      Rounding an Integral returns itself.\n",
      " |      Rounding with an ndigits argument also returns an integer.\n",
      " |  \n",
      " |  __rpow__(self, value, mod=None, /)\n",
      " |      Return pow(value, self, mod).\n",
      " |  \n",
      " |  __rrshift__(self, value, /)\n",
      " |      Return value>>self.\n",
      " |  \n",
      " |  __rshift__(self, value, /)\n",
      " |      Return self>>value.\n",
      " |  \n",
      " |  __rsub__(self, value, /)\n",
      " |      Return value-self.\n",
      " |  \n",
      " |  __rtruediv__(self, value, /)\n",
      " |      Return value/self.\n",
      " |  \n",
      " |  __rxor__(self, value, /)\n",
      " |      Return value^self.\n",
      " |  \n",
      " |  __sizeof__(self, /)\n",
      " |      Returns size in memory, in bytes.\n",
      " |  \n",
      " |  __str__(self, /)\n",
      " |      Return str(self).\n",
      " |  \n",
      " |  __sub__(self, value, /)\n",
      " |      Return self-value.\n",
      " |  \n",
      " |  __truediv__(self, value, /)\n",
      " |      Return self/value.\n",
      " |  \n",
      " |  __trunc__(...)\n",
      " |      Truncating an Integral returns itself.\n",
      " |  \n",
      " |  __xor__(self, value, /)\n",
      " |      Return self^value.\n",
      " |  \n",
      " |  bit_length(self, /)\n",
      " |      Number of bits necessary to represent self in binary.\n",
      " |      \n",
      " |      >>> bin(37)\n",
      " |      '0b100101'\n",
      " |      >>> (37).bit_length()\n",
      " |      6\n",
      " |  \n",
      " |  conjugate(...)\n",
      " |      Returns self, the complex conjugate of any int.\n",
      " |  \n",
      " |  to_bytes(self, /, length, byteorder, *, signed=False)\n",
      " |      Return an array of bytes representing an integer.\n",
      " |      \n",
      " |      length\n",
      " |        Length of bytes object to use.  An OverflowError is raised if the\n",
      " |        integer is not representable with the given number of bytes.\n",
      " |      byteorder\n",
      " |        The byte order used to represent the integer.  If byteorder is 'big',\n",
      " |        the most significant byte is at the beginning of the byte array.  If\n",
      " |        byteorder is 'little', the most significant byte is at the end of the\n",
      " |        byte array.  To request the native byte order of the host system, use\n",
      " |        `sys.byteorder' as the byte order value.\n",
      " |      signed\n",
      " |        Determines whether two's complement is used to represent the integer.\n",
      " |        If signed is False and a negative integer is given, an OverflowError\n",
      " |        is raised.\n",
      " |  \n",
      " |  ----------------------------------------------------------------------\n",
      " |  Class methods defined here:\n",
      " |  \n",
      " |  from_bytes(bytes, byteorder, *, signed=False) from builtins.type\n",
      " |      Return the integer represented by the given array of bytes.\n",
      " |      \n",
      " |      bytes\n",
      " |        Holds the array of bytes to convert.  The argument must either\n",
      " |        support the buffer protocol or be an iterable object producing bytes.\n",
      " |        Bytes and bytearray are examples of built-in objects that support the\n",
      " |        buffer protocol.\n",
      " |      byteorder\n",
      " |        The byte order used to represent the integer.  If byteorder is 'big',\n",
      " |        the most significant byte is at the beginning of the byte array.  If\n",
      " |        byteorder is 'little', the most significant byte is at the end of the\n",
      " |        byte array.  To request the native byte order of the host system, use\n",
      " |        `sys.byteorder' as the byte order value.\n",
      " |      signed\n",
      " |        Indicates whether two's complement is used to represent the integer.\n",
      " |  \n",
      " |  ----------------------------------------------------------------------\n",
      " |  Static methods defined here:\n",
      " |  \n",
      " |  __new__(*args, **kwargs) from builtins.type\n",
      " |      Create and return a new object.  See help(type) for accurate signature.\n",
      " |  \n",
      " |  ----------------------------------------------------------------------\n",
      " |  Data descriptors defined here:\n",
      " |  \n",
      " |  denominator\n",
      " |      the denominator of a rational number in lowest terms\n",
      " |  \n",
      " |  imag\n",
      " |      the imaginary part of a complex number\n",
      " |  \n",
      " |  numerator\n",
      " |      the numerator of a rational number in lowest terms\n",
      " |  \n",
      " |  real\n",
      " |      the real part of a complex number\n",
      "\n"
     ]
    }
   ],
   "source": [
    "help(int)"
   ]
  },
  {
   "cell_type": "code",
   "execution_count": null,
   "metadata": {
    "ExecuteTime": {
     "end_time": "2020-11-18T10:55:58.146814Z",
     "start_time": "2020-11-18T10:55:58.072202Z"
    },
    "id": "-tF3zxKK4Nw7"
   },
   "outputs": [],
   "source": [
    "int?"
   ]
  },
  {
   "cell_type": "markdown",
   "metadata": {
    "id": "xoICJVmD4Nw8"
   },
   "source": [
    "Note that you can minimise the magic pane when it gets in your way by clicking on the left of it. If you push the click putton\n",
    "on your mouse twise you can minimise pane further."
   ]
  },
  {
   "cell_type": "markdown",
   "metadata": {
    "id": "eX5VhKfw4Nw8"
   },
   "source": [
    "If you wanted to see all the <font color=\"red\"> built-in commands </font> available for something, use the *dir* command. Check out all of the methods of the object \"Hello world\", which are shared by all objects of the str type."
   ]
  },
  {
   "cell_type": "code",
   "execution_count": null,
   "metadata": {
    "ExecuteTime": {
     "end_time": "2020-11-17T10:12:18.021930Z",
     "start_time": "2020-11-17T10:12:16.565Z"
    },
    "colab": {
     "base_uri": "https://localhost:8080/"
    },
    "executionInfo": {
     "elapsed": 320,
     "status": "ok",
     "timestamp": 1660396789900,
     "user": {
      "displayName": "Amadou Ndiaye",
      "userId": "12477370533599133219"
     },
     "user_tz": 0
    },
    "id": "fVkMWX-74Nw9",
    "outputId": "de209687-bb95-4094-b261-afe2110c80c2"
   },
   "outputs": [
    {
     "data": {
      "text/plain": [
       "['__add__',\n",
       " '__class__',\n",
       " '__contains__',\n",
       " '__delattr__',\n",
       " '__dir__',\n",
       " '__doc__',\n",
       " '__eq__',\n",
       " '__format__',\n",
       " '__ge__',\n",
       " '__getattribute__',\n",
       " '__getitem__',\n",
       " '__getnewargs__',\n",
       " '__gt__',\n",
       " '__hash__',\n",
       " '__init__',\n",
       " '__init_subclass__',\n",
       " '__iter__',\n",
       " '__le__',\n",
       " '__len__',\n",
       " '__lt__',\n",
       " '__mod__',\n",
       " '__mul__',\n",
       " '__ne__',\n",
       " '__new__',\n",
       " '__reduce__',\n",
       " '__reduce_ex__',\n",
       " '__repr__',\n",
       " '__rmod__',\n",
       " '__rmul__',\n",
       " '__setattr__',\n",
       " '__sizeof__',\n",
       " '__str__',\n",
       " '__subclasshook__',\n",
       " 'capitalize',\n",
       " 'casefold',\n",
       " 'center',\n",
       " 'count',\n",
       " 'encode',\n",
       " 'endswith',\n",
       " 'expandtabs',\n",
       " 'find',\n",
       " 'format',\n",
       " 'format_map',\n",
       " 'index',\n",
       " 'isalnum',\n",
       " 'isalpha',\n",
       " 'isascii',\n",
       " 'isdecimal',\n",
       " 'isdigit',\n",
       " 'isidentifier',\n",
       " 'islower',\n",
       " 'isnumeric',\n",
       " 'isprintable',\n",
       " 'isspace',\n",
       " 'istitle',\n",
       " 'isupper',\n",
       " 'join',\n",
       " 'ljust',\n",
       " 'lower',\n",
       " 'lstrip',\n",
       " 'maketrans',\n",
       " 'partition',\n",
       " 'replace',\n",
       " 'rfind',\n",
       " 'rindex',\n",
       " 'rjust',\n",
       " 'rpartition',\n",
       " 'rsplit',\n",
       " 'rstrip',\n",
       " 'split',\n",
       " 'splitlines',\n",
       " 'startswith',\n",
       " 'strip',\n",
       " 'swapcase',\n",
       " 'title',\n",
       " 'translate',\n",
       " 'upper',\n",
       " 'zfill']"
      ]
     },
     "execution_count": 32,
     "metadata": {},
     "output_type": "execute_result"
    }
   ],
   "source": [
    "dir(\"Hello August Intake Senegal 2024\")"
   ]
  },
  {
   "cell_type": "markdown",
   "metadata": {
    "id": "vwSzGXXN4Nw9"
   },
   "source": [
    "There's a method that looks important -- swapcase. Let's see what it does:"
   ]
  },
  {
   "cell_type": "code",
   "execution_count": null,
   "metadata": {
    "ExecuteTime": {
     "end_time": "2020-11-17T10:12:18.025838Z",
     "start_time": "2020-11-17T10:12:16.575Z"
    },
    "colab": {
     "base_uri": "https://localhost:8080/",
     "height": 35
    },
    "executionInfo": {
     "elapsed": 466,
     "status": "ok",
     "timestamp": 1639356700630,
     "user": {
      "displayName": "Leila Zahhafi",
      "photoUrl": "https://lh3.googleusercontent.com/a/default-user=s64",
      "userId": "13254899693991092531"
     },
     "user_tz": 0
    },
    "id": "_844Fx3G4Nw9",
    "outputId": "08ad2e15-887c-4a3e-94bb-a277bca2ef8e"
   },
   "outputs": [
    {
     "data": {
      "application/vnd.google.colaboratory.intrinsic+json": {
       "type": "string"
      },
      "text/plain": [
       "'hELLO aUGUST iNTAKE sENEGAL 20119'"
      ]
     },
     "execution_count": 6,
     "metadata": {},
     "output_type": "execute_result"
    }
   ],
   "source": [
    "\"Hello August Intake Senegal 20119\".swapcase()"
   ]
  },
  {
   "cell_type": "markdown",
   "metadata": {
    "id": "1ObNxGGL4Nw-"
   },
   "source": [
    "### Clearing IPython"
   ]
  },
  {
   "cell_type": "markdown",
   "metadata": {
    "id": "8wVfRP5Q4Nw-"
   },
   "source": [
    "To clear everything from IPython, use the %reset command."
   ]
  },
  {
   "cell_type": "code",
   "execution_count": null,
   "metadata": {
    "ExecuteTime": {
     "end_time": "2020-11-18T10:57:38.761239Z",
     "start_time": "2020-11-18T10:57:38.756082Z"
    },
    "colab": {
     "base_uri": "https://localhost:8080/"
    },
    "executionInfo": {
     "elapsed": 351,
     "status": "ok",
     "timestamp": 1639356712767,
     "user": {
      "displayName": "Leila Zahhafi",
      "photoUrl": "https://lh3.googleusercontent.com/a/default-user=s64",
      "userId": "13254899693991092531"
     },
     "user_tz": 0
    },
    "id": "9zCOBu8n4Nw_",
    "outputId": "0bcfd083-9010-4fa5-b381-f3db6856ebc7"
   },
   "outputs": [
    {
     "name": "stdout",
     "output_type": "stream",
     "text": [
      "Tell me more about python please!\n"
     ]
    }
   ],
   "source": [
    "this_string = \"Tell me more about python please!\"\n",
    "print (this_string)"
   ]
  },
  {
   "cell_type": "code",
   "execution_count": null,
   "metadata": {
    "ExecuteTime": {
     "end_time": "2020-11-18T10:58:01.804308Z",
     "start_time": "2020-11-18T10:57:53.030948Z"
    },
    "id": "sOaTaoWn4Nw_"
   },
   "outputs": [],
   "source": [
    "%reset"
   ]
  },
  {
   "cell_type": "code",
   "execution_count": null,
   "metadata": {
    "ExecuteTime": {
     "end_time": "2020-11-18T10:58:05.854434Z",
     "start_time": "2020-11-18T10:58:05.821885Z"
    },
    "id": "Pp3KYClO4NxA"
   },
   "outputs": [],
   "source": [
    "print (this_string)"
   ]
  },
  {
   "cell_type": "markdown",
   "metadata": {
    "id": "46JMRqXj4NxA"
   },
   "source": [
    " It is objecting that mystring is not defined, since we just reset it."
   ]
  },
  {
   "cell_type": "markdown",
   "metadata": {
    "id": "D4Ur9PVHY_In"
   },
   "source": []
  },
  {
   "cell_type": "markdown",
   "metadata": {
    "id": "VvVuGNBS4NxB"
   },
   "source": [
    "## Variables and primitive data types\n"
   ]
  },
  {
   "cell_type": "markdown",
   "metadata": {
    "id": "6I5KaFwW4NxB"
   },
   "source": [
    "All programming languages have variables, and python is no different.\n",
    "\n",
    "A ``variable`` is just a reserved memory location to store values. In other words, a variable in a python program gives data to the computer for processing.\n",
    "\n",
    "To create a variable, just name it and set it with the equals sign.\n",
    "One important caveat: variable names can only contain letters, numbers, and the underscore character.\n",
    "\n",
    "\n",
    "\n",
    "Variables allowed to reserve memory locations for storing values. This means that when you create a variable you reserve some space in memory. Based on the data type of a variable, the interpreter allocates memory and decides what can be stored in the reserved memory. A variable has a name and value. Its name must be unique."
   ]
  },
  {
   "cell_type": "markdown",
   "metadata": {
    "id": "MmKouwD_4NxC"
   },
   "source": [
    "### Naming convention\n",
    "\n",
    "A variable name in Python can only contain letters (a - z, A - B), numbers\n",
    "or underscores ``(_)``. However, the first character cannot be a number.\n",
    "Hence, you can name your variables ``userName``, ``user_name`` or\n",
    "``userName2`` but not ``2userName``.\n",
    "\n",
    "\n",
    "In addition, there are some reserved words that you cannot use as a\n",
    "variable name because they already have preassigned meanings in\n",
    "Python. These reserved words include words like ``print``, ``input``, ``if``,\n",
    "``while`` etc. We’ll learn about each of them in subsequent chapters.\n",
    "\n",
    "\n",
    "Finally, variable names are case sensitive, i.e. ``username`` is not the same as\n",
    "``userName``."
   ]
  },
  {
   "cell_type": "markdown",
   "metadata": {
    "id": "FSsr1kAO4NxC"
   },
   "source": [
    "### The Assignment Sign\n",
    "\n",
    "\n",
    "Note that the ``=`` sign in the statement ``userAge = 0`` has a different\n",
    "meaning from the ``=`` sign we learned in Mathematics. In programming, the ``=`` sign\n",
    "is known as an *assignment sign*. It means we are assigning the value on\n",
    "the right side of the ``= `` sign to the variable on the left."
   ]
  },
  {
   "cell_type": "markdown",
   "metadata": {
    "id": "rmuMzICc4NxD"
   },
   "source": [
    "I would like to make a difference in variables. There are two kinds of variables, a variable may have either primitive or complex data type. Either primitive or complex data type depends on data this variable contains.\n",
    "\n",
    "**Primitive types:**\n",
    "\n",
    "* int\n",
    "* float\n",
    "* bool\n",
    "\n",
    "\n",
    "\n",
    "**Complex types:**\n",
    "\n",
    "* tuple\n",
    "* set\n",
    "* list\n",
    "* dictionary\n",
    "* string\n",
    "\n",
    "In this lesson, we are concerned on Primitive types,\n",
    "\n",
    "Let's set a few variables:"
   ]
  },
  {
   "cell_type": "code",
   "execution_count": null,
   "metadata": {
    "ExecuteTime": {
     "end_time": "2020-11-17T10:12:18.066080Z",
     "start_time": "2020-11-17T10:12:16.614Z"
    },
    "id": "P7bBQLCu4NxD"
   },
   "outputs": [],
   "source": [
    "AIMS_Senegal_Students = \"Regular and COOP intake groups 2024\" # Underscore\n",
    "\n",
    "StudentsAverageHigh = 1.5 # This is called CamelCase\n",
    "\n",
    "number_of_female = 20 # total number of female students\n",
    "\n",
    "number_of_male = 36 # total number of students in August intake\n",
    "\n"
   ]
  },
  {
   "cell_type": "code",
   "execution_count": null,
   "metadata": {
    "ExecuteTime": {
     "end_time": "2020-11-17T10:12:18.075927Z",
     "start_time": "2020-11-17T10:12:16.620Z"
    },
    "colab": {
     "base_uri": "https://localhost:8080/",
     "height": 165
    },
    "executionInfo": {
     "elapsed": 1350,
     "status": "error",
     "timestamp": 1661374861976,
     "user": {
      "displayName": "Ablaye Diallo",
      "userId": "14643268157553594050"
     },
     "user_tz": 0
    },
    "id": "a4Py0Job4NxE",
    "outputId": "5400c5e6-998b-4dc5-f46b-8d564239b204"
   },
   "outputs": [
    {
     "ename": "NameError",
     "evalue": "ignored",
     "output_type": "error",
     "traceback": [
      "\u001b[0;31m---------------------------------------------------------------------------\u001b[0m",
      "\u001b[0;31mNameError\u001b[0m                                 Traceback (most recent call last)",
      "\u001b[0;32m<ipython-input-5-9ad2e9a54a14>\u001b[0m in \u001b[0;36m<module>\u001b[0;34m\u001b[0m\n\u001b[0;32m----> 1\u001b[0;31m \u001b[0mprint\u001b[0m \u001b[0;34m(\u001b[0m\u001b[0mAIMS_Senegal_Students\u001b[0m\u001b[0;34m)\u001b[0m\u001b[0;34m\u001b[0m\u001b[0;34m\u001b[0m\u001b[0m\n\u001b[0m",
      "\u001b[0;31mNameError\u001b[0m: name 'AIMS_Senegal_Students' is not defined"
     ]
    }
   ],
   "source": [
    "print (AIMS_Senegal_Students)"
   ]
  },
  {
   "cell_type": "code",
   "execution_count": null,
   "metadata": {
    "ExecuteTime": {
     "end_time": "2020-11-17T10:12:18.083932Z",
     "start_time": "2020-11-17T10:12:16.626Z"
    },
    "colab": {
     "base_uri": "https://localhost:8080/"
    },
    "executionInfo": {
     "elapsed": 23,
     "status": "ok",
     "timestamp": 1639356413838,
     "user": {
      "displayName": "Leila Zahhafi",
      "photoUrl": "https://lh3.googleusercontent.com/a/default-user=s64",
      "userId": "13254899693991092531"
     },
     "user_tz": 0
    },
    "id": "ssAj2zoE4NxE",
    "outputId": "ce8e9af1-afb9-4dc7-9471-a702313e8f32"
   },
   "outputs": [
    {
     "name": "stdout",
     "output_type": "stream",
     "text": [
      "20 36\n"
     ]
    }
   ],
   "source": [
    "print (number_of_female, number_of_male)"
   ]
  },
  {
   "cell_type": "markdown",
   "metadata": {
    "id": "p3x0aMud4NxF"
   },
   "source": [
    "### Types and Dynamic Typing"
   ]
  },
  {
   "cell_type": "markdown",
   "metadata": {
    "id": "j3a8TUjM4NxF"
   },
   "source": [
    "Python is a dynamically typed language (unlike, say, C++). This is important. To make this point more clear we should rationalise it in the context of programming within design space.\n",
    "\n",
    "Dynamic typing means that you don't have to declare the type of a variable when you define it; python just figures it out based on how you are setting the variable. Lets say you set a variable. Sometime later you can just change the type of data assigned to a variable and python is perfectly happy about that.\n",
    "\n",
    "I will let you think about this at the level of an assignment function specification."
   ]
  },
  {
   "cell_type": "code",
   "execution_count": null,
   "metadata": {
    "ExecuteTime": {
     "end_time": "2020-11-17T10:12:18.086074Z",
     "start_time": "2020-11-17T10:12:16.634Z"
    },
    "colab": {
     "base_uri": "https://localhost:8080/",
     "height": 165
    },
    "executionInfo": {
     "elapsed": 1023,
     "status": "error",
     "timestamp": 1661374883497,
     "user": {
      "displayName": "Ablaye Diallo",
      "userId": "14643268157553594050"
     },
     "user_tz": 0
    },
    "id": "Zw_68tRQ4NxG",
    "outputId": "56f6472e-bb90-4159-9c66-ad95e55a8f12"
   },
   "outputs": [
    {
     "ename": "NameError",
     "evalue": "ignored",
     "output_type": "error",
     "traceback": [
      "\u001b[0;31m---------------------------------------------------------------------------\u001b[0m",
      "\u001b[0;31mNameError\u001b[0m                                 Traceback (most recent call last)",
      "\u001b[0;32m<ipython-input-6-99e2800187e2>\u001b[0m in \u001b[0;36m<module>\u001b[0;34m\u001b[0m\n\u001b[0;32m----> 1\u001b[0;31m \u001b[0mtype\u001b[0m\u001b[0;34m(\u001b[0m\u001b[0mStudentsAverageHigh\u001b[0m\u001b[0;34m)\u001b[0m\u001b[0;34m\u001b[0m\u001b[0;34m\u001b[0m\u001b[0m\n\u001b[0m",
      "\u001b[0;31mNameError\u001b[0m: name 'StudentsAverageHigh' is not defined"
     ]
    }
   ],
   "source": [
    "type(StudentsAverageHigh)"
   ]
  },
  {
   "cell_type": "code",
   "execution_count": null,
   "metadata": {
    "ExecuteTime": {
     "end_time": "2020-11-17T10:12:18.090389Z",
     "start_time": "2020-11-17T10:12:16.640Z"
    },
    "id": "twLTRKc74NxG"
   },
   "outputs": [],
   "source": [
    "StudentsAverageHigh = \"4.7\""
   ]
  },
  {
   "cell_type": "code",
   "execution_count": null,
   "metadata": {
    "ExecuteTime": {
     "end_time": "2020-11-17T10:12:18.092921Z",
     "start_time": "2020-11-17T10:12:16.646Z"
    },
    "id": "YOQz_DrA4NxH"
   },
   "outputs": [],
   "source": [
    "type(StudentsAverageHigh)"
   ]
  },
  {
   "cell_type": "code",
   "execution_count": null,
   "metadata": {
    "ExecuteTime": {
     "end_time": "2020-11-17T10:12:18.097081Z",
     "start_time": "2020-11-17T10:12:16.652Z"
    },
    "id": "83hLy5ow4NxH"
   },
   "outputs": [],
   "source": [
    "StudentsAverageHigh = 6.2"
   ]
  },
  {
   "cell_type": "code",
   "execution_count": null,
   "metadata": {
    "ExecuteTime": {
     "end_time": "2020-11-17T10:12:18.100912Z",
     "start_time": "2020-11-17T10:12:16.659Z"
    },
    "id": "16U1ZKki4NxH"
   },
   "outputs": [],
   "source": [
    "type(StudentsAverageHigh)"
   ]
  },
  {
   "cell_type": "markdown",
   "metadata": {
    "id": "aOUt_k114NxI"
   },
   "source": [
    "### Coersion (Type Casting)\n"
   ]
  },
  {
   "cell_type": "markdown",
   "metadata": {
    "id": "NQ1SrQO24NxI"
   },
   "source": [
    "How about converting certain types of data to other types? \"Coersing\" is just a fancy term for this simple procedure. Think of coersing numerical data to strings, for example. A fairly simple thing to do!"
   ]
  },
  {
   "cell_type": "code",
   "execution_count": null,
   "metadata": {
    "ExecuteTime": {
     "end_time": "2020-11-17T10:12:18.102787Z",
     "start_time": "2020-11-17T10:12:16.668Z"
    },
    "id": "pbuS1_9s4NxI"
   },
   "outputs": [],
   "source": [
    "StudentsAverageHigh_string =str(StudentsAverageHigh)"
   ]
  },
  {
   "cell_type": "code",
   "execution_count": null,
   "metadata": {
    "ExecuteTime": {
     "end_time": "2020-11-17T10:12:18.104361Z",
     "start_time": "2020-11-17T10:12:16.673Z"
    },
    "id": "O8x-DZof4NxJ"
   },
   "outputs": [],
   "source": [
    "type(StudentsAverageHigh_string)"
   ]
  },
  {
   "cell_type": "code",
   "execution_count": null,
   "metadata": {
    "ExecuteTime": {
     "end_time": "2020-11-17T10:12:18.106933Z",
     "start_time": "2020-11-17T10:12:16.679Z"
    },
    "id": "kWniX5xl4NxK"
   },
   "outputs": [],
   "source": [
    "number_of_female_string = \"12\"\n",
    "number_of_female = float(number_of_female_string)"
   ]
  },
  {
   "cell_type": "markdown",
   "metadata": {
    "id": "0XmuHw8L4NxL"
   },
   "source": [
    "What would happen if you tried to coerce resistanceString to an int? What about coercing StudentsAverageHigh to an int? Consider the following:"
   ]
  },
  {
   "cell_type": "code",
   "execution_count": null,
   "metadata": {
    "ExecuteTime": {
     "end_time": "2020-11-17T10:12:18.110358Z",
     "start_time": "2020-11-17T10:12:16.685Z"
    },
    "id": "3T6JoKSD4NxL"
   },
   "outputs": [],
   "source": [
    "StudentsAverageHigh = \"1.82 m \""
   ]
  },
  {
   "cell_type": "markdown",
   "metadata": {
    "id": "-UrtY-TA4NxL"
   },
   "source": [
    "Do you think you can coerce that string to a numerical type?"
   ]
  },
  {
   "cell_type": "markdown",
   "metadata": {
    "id": "hGtwJDI74NxM"
   },
   "source": [
    "### Elementary Data Operations"
   ]
  },
  {
   "cell_type": "markdown",
   "metadata": {
    "collapsed": true,
    "id": "oKLavf404NxM"
   },
   "source": [
    " Now we know about data types, let' do a bit of computing."
   ]
  },
  {
   "cell_type": "markdown",
   "metadata": {
    "collapsed": true,
    "id": "3xkkjy_D4NxM"
   },
   "source": [
    " Any operation between two numbers?"
   ]
  },
  {
   "cell_type": "code",
   "execution_count": null,
   "metadata": {
    "ExecuteTime": {
     "end_time": "2020-11-17T10:12:18.112690Z",
     "start_time": "2020-11-17T10:12:16.693Z"
    },
    "id": "mVPkdekI4NxN"
   },
   "outputs": [],
   "source": [
    "a = 5\n",
    "\n",
    "b = 2.0"
   ]
  },
  {
   "cell_type": "code",
   "execution_count": null,
   "metadata": {
    "ExecuteTime": {
     "end_time": "2020-11-17T10:12:18.114296Z",
     "start_time": "2020-11-17T10:12:16.699Z"
    },
    "id": "v8xn71pX4NxN"
   },
   "outputs": [],
   "source": [
    "type(a), type(b)"
   ]
  },
  {
   "cell_type": "markdown",
   "metadata": {
    "collapsed": true,
    "id": "SG5s7UsR4NxO"
   },
   "source": [
    "You can do:\n",
    "\n",
    "\n",
    "* Addition `` + `` ;  \n",
    "* Subtraction: `` - `` ;  \n",
    "* Multiplication: ``*`` ;  Division: ``x/y``;\n",
    "\n",
    "* Floor Division: ``//`` (rounds down the answer to the nearest whole\n",
    "number)\n",
    "\n",
    "* Exponent: ``**`` or ``^``, ``x**y (x to the power of y)``. This can also be written as ``x^y``."
   ]
  },
  {
   "cell_type": "code",
   "execution_count": null,
   "metadata": {
    "ExecuteTime": {
     "end_time": "2020-11-17T10:12:18.118510Z",
     "start_time": "2020-11-17T10:12:16.705Z"
    },
    "id": "TV0MeOc84NxO"
   },
   "outputs": [],
   "source": [
    "c = a+b\n",
    "c"
   ]
  },
  {
   "cell_type": "code",
   "execution_count": null,
   "metadata": {
    "ExecuteTime": {
     "end_time": "2020-11-17T10:12:18.120334Z",
     "start_time": "2020-11-17T10:12:16.711Z"
    },
    "id": "NgOVvugb4NxO"
   },
   "outputs": [],
   "source": [
    "d = ((a-b)*c)**4\n",
    "d"
   ]
  },
  {
   "cell_type": "markdown",
   "metadata": {
    "id": "v7hbfVXQ4NxP"
   },
   "source": [
    "# Boolean"
   ]
  },
  {
   "cell_type": "markdown",
   "metadata": {
    "id": "8Fjq0wEc4NxP"
   },
   "source": [
    "The set is {True, False} which we often abbreviate to {1,0}"
   ]
  },
  {
   "cell_type": "code",
   "execution_count": null,
   "metadata": {
    "ExecuteTime": {
     "end_time": "2020-11-17T10:12:18.122035Z",
     "start_time": "2020-11-17T10:12:16.718Z"
    },
    "colab": {
     "base_uri": "https://localhost:8080/"
    },
    "executionInfo": {
     "elapsed": 333,
     "status": "ok",
     "timestamp": 1693269208687,
     "user": {
      "displayName": "Gabriel Diouf",
      "userId": "17109134363334068789"
     },
     "user_tz": 0
    },
    "id": "zoonwPCU4NxP",
    "outputId": "fdd61854-688e-459f-e881-828650631c47"
   },
   "outputs": [
    {
     "data": {
      "text/plain": [
       "bool"
      ]
     },
     "execution_count": 6,
     "metadata": {},
     "output_type": "execute_result"
    }
   ],
   "source": [
    "type(True)"
   ]
  },
  {
   "cell_type": "markdown",
   "metadata": {
    "id": "nO1j-JE54NxQ"
   },
   "source": [
    "Ask python to tell you about the operations by  typing:"
   ]
  },
  {
   "cell_type": "code",
   "execution_count": null,
   "metadata": {
    "ExecuteTime": {
     "end_time": "2020-11-17T10:12:18.123593Z",
     "start_time": "2020-11-17T10:12:16.730Z"
    },
    "colab": {
     "base_uri": "https://localhost:8080/"
    },
    "collapsed": true,
    "executionInfo": {
     "elapsed": 736,
     "status": "ok",
     "timestamp": 1693269223927,
     "user": {
      "displayName": "Gabriel Diouf",
      "userId": "17109134363334068789"
     },
     "user_tz": 0
    },
    "id": "RRqzCySc4NxQ",
    "outputId": "6e4bd565-c2f8-413b-e85f-96d80c200826"
   },
   "outputs": [
    {
     "name": "stdout",
     "output_type": "stream",
     "text": [
      "Help on class bool in module builtins:\n",
      "\n",
      "class bool(int)\n",
      " |  bool(x) -> bool\n",
      " |  \n",
      " |  Returns True when the argument x is true, False otherwise.\n",
      " |  The builtins True and False are the only two instances of the class bool.\n",
      " |  The class bool is a subclass of the class int, and cannot be subclassed.\n",
      " |  \n",
      " |  Method resolution order:\n",
      " |      bool\n",
      " |      int\n",
      " |      object\n",
      " |  \n",
      " |  Methods defined here:\n",
      " |  \n",
      " |  __and__(self, value, /)\n",
      " |      Return self&value.\n",
      " |  \n",
      " |  __or__(self, value, /)\n",
      " |      Return self|value.\n",
      " |  \n",
      " |  __rand__(self, value, /)\n",
      " |      Return value&self.\n",
      " |  \n",
      " |  __repr__(self, /)\n",
      " |      Return repr(self).\n",
      " |  \n",
      " |  __ror__(self, value, /)\n",
      " |      Return value|self.\n",
      " |  \n",
      " |  __rxor__(self, value, /)\n",
      " |      Return value^self.\n",
      " |  \n",
      " |  __xor__(self, value, /)\n",
      " |      Return self^value.\n",
      " |  \n",
      " |  ----------------------------------------------------------------------\n",
      " |  Static methods defined here:\n",
      " |  \n",
      " |  __new__(*args, **kwargs) from builtins.type\n",
      " |      Create and return a new object.  See help(type) for accurate signature.\n",
      " |  \n",
      " |  ----------------------------------------------------------------------\n",
      " |  Methods inherited from int:\n",
      " |  \n",
      " |  __abs__(self, /)\n",
      " |      abs(self)\n",
      " |  \n",
      " |  __add__(self, value, /)\n",
      " |      Return self+value.\n",
      " |  \n",
      " |  __bool__(self, /)\n",
      " |      True if self else False\n",
      " |  \n",
      " |  __ceil__(...)\n",
      " |      Ceiling of an Integral returns itself.\n",
      " |  \n",
      " |  __divmod__(self, value, /)\n",
      " |      Return divmod(self, value).\n",
      " |  \n",
      " |  __eq__(self, value, /)\n",
      " |      Return self==value.\n",
      " |  \n",
      " |  __float__(self, /)\n",
      " |      float(self)\n",
      " |  \n",
      " |  __floor__(...)\n",
      " |      Flooring an Integral returns itself.\n",
      " |  \n",
      " |  __floordiv__(self, value, /)\n",
      " |      Return self//value.\n",
      " |  \n",
      " |  __format__(self, format_spec, /)\n",
      " |      Default object formatter.\n",
      " |  \n",
      " |  __ge__(self, value, /)\n",
      " |      Return self>=value.\n",
      " |  \n",
      " |  __getattribute__(self, name, /)\n",
      " |      Return getattr(self, name).\n",
      " |  \n",
      " |  __getnewargs__(self, /)\n",
      " |  \n",
      " |  __gt__(self, value, /)\n",
      " |      Return self>value.\n",
      " |  \n",
      " |  __hash__(self, /)\n",
      " |      Return hash(self).\n",
      " |  \n",
      " |  __index__(self, /)\n",
      " |      Return self converted to an integer, if self is suitable for use as an index into a list.\n",
      " |  \n",
      " |  __int__(self, /)\n",
      " |      int(self)\n",
      " |  \n",
      " |  __invert__(self, /)\n",
      " |      ~self\n",
      " |  \n",
      " |  __le__(self, value, /)\n",
      " |      Return self<=value.\n",
      " |  \n",
      " |  __lshift__(self, value, /)\n",
      " |      Return self<<value.\n",
      " |  \n",
      " |  __lt__(self, value, /)\n",
      " |      Return self<value.\n",
      " |  \n",
      " |  __mod__(self, value, /)\n",
      " |      Return self%value.\n",
      " |  \n",
      " |  __mul__(self, value, /)\n",
      " |      Return self*value.\n",
      " |  \n",
      " |  __ne__(self, value, /)\n",
      " |      Return self!=value.\n",
      " |  \n",
      " |  __neg__(self, /)\n",
      " |      -self\n",
      " |  \n",
      " |  __pos__(self, /)\n",
      " |      +self\n",
      " |  \n",
      " |  __pow__(self, value, mod=None, /)\n",
      " |      Return pow(self, value, mod).\n",
      " |  \n",
      " |  __radd__(self, value, /)\n",
      " |      Return value+self.\n",
      " |  \n",
      " |  __rdivmod__(self, value, /)\n",
      " |      Return divmod(value, self).\n",
      " |  \n",
      " |  __rfloordiv__(self, value, /)\n",
      " |      Return value//self.\n",
      " |  \n",
      " |  __rlshift__(self, value, /)\n",
      " |      Return value<<self.\n",
      " |  \n",
      " |  __rmod__(self, value, /)\n",
      " |      Return value%self.\n",
      " |  \n",
      " |  __rmul__(self, value, /)\n",
      " |      Return value*self.\n",
      " |  \n",
      " |  __round__(...)\n",
      " |      Rounding an Integral returns itself.\n",
      " |      \n",
      " |      Rounding with an ndigits argument also returns an integer.\n",
      " |  \n",
      " |  __rpow__(self, value, mod=None, /)\n",
      " |      Return pow(value, self, mod).\n",
      " |  \n",
      " |  __rrshift__(self, value, /)\n",
      " |      Return value>>self.\n",
      " |  \n",
      " |  __rshift__(self, value, /)\n",
      " |      Return self>>value.\n",
      " |  \n",
      " |  __rsub__(self, value, /)\n",
      " |      Return value-self.\n",
      " |  \n",
      " |  __rtruediv__(self, value, /)\n",
      " |      Return value/self.\n",
      " |  \n",
      " |  __sizeof__(self, /)\n",
      " |      Returns size in memory, in bytes.\n",
      " |  \n",
      " |  __sub__(self, value, /)\n",
      " |      Return self-value.\n",
      " |  \n",
      " |  __truediv__(self, value, /)\n",
      " |      Return self/value.\n",
      " |  \n",
      " |  __trunc__(...)\n",
      " |      Truncating an Integral returns itself.\n",
      " |  \n",
      " |  as_integer_ratio(self, /)\n",
      " |      Return integer ratio.\n",
      " |      \n",
      " |      Return a pair of integers, whose ratio is exactly equal to the original int\n",
      " |      and with a positive denominator.\n",
      " |      \n",
      " |      >>> (10).as_integer_ratio()\n",
      " |      (10, 1)\n",
      " |      >>> (-10).as_integer_ratio()\n",
      " |      (-10, 1)\n",
      " |      >>> (0).as_integer_ratio()\n",
      " |      (0, 1)\n",
      " |  \n",
      " |  bit_count(self, /)\n",
      " |      Number of ones in the binary representation of the absolute value of self.\n",
      " |      \n",
      " |      Also known as the population count.\n",
      " |      \n",
      " |      >>> bin(13)\n",
      " |      '0b1101'\n",
      " |      >>> (13).bit_count()\n",
      " |      3\n",
      " |  \n",
      " |  bit_length(self, /)\n",
      " |      Number of bits necessary to represent self in binary.\n",
      " |      \n",
      " |      >>> bin(37)\n",
      " |      '0b100101'\n",
      " |      >>> (37).bit_length()\n",
      " |      6\n",
      " |  \n",
      " |  conjugate(...)\n",
      " |      Returns self, the complex conjugate of any int.\n",
      " |  \n",
      " |  to_bytes(self, /, length, byteorder, *, signed=False)\n",
      " |      Return an array of bytes representing an integer.\n",
      " |      \n",
      " |      length\n",
      " |        Length of bytes object to use.  An OverflowError is raised if the\n",
      " |        integer is not representable with the given number of bytes.\n",
      " |      byteorder\n",
      " |        The byte order used to represent the integer.  If byteorder is 'big',\n",
      " |        the most significant byte is at the beginning of the byte array.  If\n",
      " |        byteorder is 'little', the most significant byte is at the end of the\n",
      " |        byte array.  To request the native byte order of the host system, use\n",
      " |        `sys.byteorder' as the byte order value.\n",
      " |      signed\n",
      " |        Determines whether two's complement is used to represent the integer.\n",
      " |        If signed is False and a negative integer is given, an OverflowError\n",
      " |        is raised.\n",
      " |  \n",
      " |  ----------------------------------------------------------------------\n",
      " |  Class methods inherited from int:\n",
      " |  \n",
      " |  from_bytes(bytes, byteorder, *, signed=False) from builtins.type\n",
      " |      Return the integer represented by the given array of bytes.\n",
      " |      \n",
      " |      bytes\n",
      " |        Holds the array of bytes to convert.  The argument must either\n",
      " |        support the buffer protocol or be an iterable object producing bytes.\n",
      " |        Bytes and bytearray are examples of built-in objects that support the\n",
      " |        buffer protocol.\n",
      " |      byteorder\n",
      " |        The byte order used to represent the integer.  If byteorder is 'big',\n",
      " |        the most significant byte is at the beginning of the byte array.  If\n",
      " |        byteorder is 'little', the most significant byte is at the end of the\n",
      " |        byte array.  To request the native byte order of the host system, use\n",
      " |        `sys.byteorder' as the byte order value.\n",
      " |      signed\n",
      " |        Indicates whether two's complement is used to represent the integer.\n",
      " |  \n",
      " |  ----------------------------------------------------------------------\n",
      " |  Data descriptors inherited from int:\n",
      " |  \n",
      " |  denominator\n",
      " |      the denominator of a rational number in lowest terms\n",
      " |  \n",
      " |  imag\n",
      " |      the imaginary part of a complex number\n",
      " |  \n",
      " |  numerator\n",
      " |      the numerator of a rational number in lowest terms\n",
      " |  \n",
      " |  real\n",
      " |      the real part of a complex number\n",
      "\n"
     ]
    }
   ],
   "source": [
    "help(bool)"
   ]
  },
  {
   "cell_type": "markdown",
   "metadata": {
    "ExecuteTime": {
     "end_time": "2020-11-17T10:05:53.030090Z",
     "start_time": "2020-11-17T10:05:53.021240Z"
    },
    "id": "5Jr06-IC4NxQ"
   },
   "source": [
    "### Relational Operators\n",
    "\n",
    "* ``<``    Is less than\n",
    "*  ``<=`` Is less than or equal to\n",
    "* ``==``  Is equal to\n",
    "* ``!=``  Is not equal t0"
   ]
  },
  {
   "cell_type": "code",
   "execution_count": null,
   "metadata": {
    "ExecuteTime": {
     "end_time": "2020-11-17T10:12:18.125134Z",
     "start_time": "2020-11-17T10:12:16.738Z"
    },
    "id": "-8uFN4OY4NxR"
   },
   "outputs": [],
   "source": [
    "1 < 2 # Is 1 less than 2?"
   ]
  },
  {
   "cell_type": "code",
   "execution_count": null,
   "metadata": {
    "ExecuteTime": {
     "end_time": "2020-11-17T10:12:18.127678Z",
     "start_time": "2020-11-17T10:12:16.743Z"
    },
    "id": "jgFfMFXp4NxR"
   },
   "outputs": [],
   "source": [
    "d >= c # Is d greater or equal to c?"
   ]
  },
  {
   "cell_type": "markdown",
   "metadata": {
    "id": "vF5t04v44NxS"
   },
   "source": [
    "###  Logical Operators\n",
    "\n",
    "To do logical ``AND`` , ``OR`` we use\n",
    "**and**\n",
    ",**or** keywords."
   ]
  },
  {
   "cell_type": "markdown",
   "metadata": {
    "id": "UQqdivHF4NxS"
   },
   "source": [
    " ## Multiple assignments in a single line"
   ]
  },
  {
   "cell_type": "code",
   "execution_count": null,
   "metadata": {
    "ExecuteTime": {
     "end_time": "2020-11-17T10:12:18.129215Z",
     "start_time": "2020-11-17T10:12:16.749Z"
    },
    "id": "hb711SGv4NxS"
   },
   "outputs": [],
   "source": [
    "a , b = 45, 54"
   ]
  },
  {
   "cell_type": "code",
   "execution_count": null,
   "metadata": {
    "ExecuteTime": {
     "end_time": "2020-11-17T10:12:18.132088Z",
     "start_time": "2020-11-17T10:12:16.757Z"
    },
    "colab": {
     "base_uri": "https://localhost:8080/",
     "height": 167
    },
    "executionInfo": {
     "elapsed": 464,
     "status": "error",
     "timestamp": 1639688065495,
     "user": {
      "displayName": "Ablaye Diallo",
      "photoUrl": "https://lh3.googleusercontent.com/a/default-user=s64",
      "userId": "14643268157553594050"
     },
     "user_tz": 0
    },
    "id": "8AhaM-yI4NxS",
    "outputId": "58841e3a-f6d4-462d-f0da-b4dd8fcd87c9"
   },
   "outputs": [
    {
     "ename": "NameError",
     "evalue": "ignored",
     "output_type": "error",
     "traceback": [
      "\u001b[0;31m---------------------------------------------------------------------------\u001b[0m",
      "\u001b[0;31mNameError\u001b[0m                                 Traceback (most recent call last)",
      "\u001b[0;32m<ipython-input-8-c704b7a6b29d>\u001b[0m in \u001b[0;36m<module>\u001b[0;34m()\u001b[0m\n\u001b[0;32m----> 1\u001b[0;31m \u001b[0mprint\u001b[0m\u001b[0;34m(\u001b[0m\u001b[0ma\u001b[0m\u001b[0;34m,\u001b[0m\u001b[0mb\u001b[0m\u001b[0;34m)\u001b[0m\u001b[0;34m\u001b[0m\u001b[0;34m\u001b[0m\u001b[0m\n\u001b[0m",
      "\u001b[0;31mNameError\u001b[0m: name 'a' is not defined"
     ]
    }
   ],
   "source": [
    "print(a,b)"
   ]
  },
  {
   "cell_type": "code",
   "execution_count": null,
   "metadata": {
    "ExecuteTime": {
     "end_time": "2020-11-17T10:12:18.133789Z",
     "start_time": "2020-11-17T10:12:16.765Z"
    },
    "colab": {
     "base_uri": "https://localhost:8080/"
    },
    "executionInfo": {
     "elapsed": 481,
     "status": "ok",
     "timestamp": 1639687995303,
     "user": {
      "displayName": "Ablaye Diallo",
      "photoUrl": "https://lh3.googleusercontent.com/a/default-user=s64",
      "userId": "14643268157553594050"
     },
     "user_tz": 0
    },
    "id": "Onw9iHLH4NxS",
    "outputId": "ffbeecc1-5d3d-4558-f1dd-d01a879853f2"
   },
   "outputs": [
    {
     "name": "stdout",
     "output_type": "stream",
     "text": [
      "X =  10.0\n",
      "Y =  7.0\n",
      "Z =  4.0\n"
     ]
    }
   ],
   "source": [
    "e = 9\n",
    "f = 12\n",
    "g = 3\n",
    "x = e - f / 3 + g*2 - 1\n",
    "y = e - f / (3 + g)*(2 - 1)\n",
    "z = e - (f / (3 + g)*2) - 1\n",
    "print(\"X = \", x)\n",
    "print(\"Y = \", y)\n",
    "print(\"Z = \", z)"
   ]
  },
  {
   "cell_type": "markdown",
   "metadata": {
    "id": "wVtAMr7l4NxT"
   },
   "source": [
    "### Shorthand Operator"
   ]
  },
  {
   "cell_type": "markdown",
   "metadata": {
    "ExecuteTime": {
     "end_time": "2020-11-17T10:06:34.203510Z",
     "start_time": "2020-11-17T10:06:34.193336Z"
    },
    "id": "ERLdskJ84NxT"
   },
   "source": [
    "*x op = expression*\n",
    "is the syntax for **shorthand operators**.  It will be evaluated like\n",
    "``x = x op expression``. Few examples\n",
    "are"
   ]
  },
  {
   "cell_type": "code",
   "execution_count": null,
   "metadata": {
    "ExecuteTime": {
     "end_time": "2020-11-17T10:12:18.135125Z",
     "start_time": "2020-11-17T10:12:16.772Z"
    },
    "id": "HNWbQYH14NxT"
   },
   "outputs": [],
   "source": [
    "a = 12\n",
    "\n",
    "a += 13\n",
    "\n",
    "a\n"
   ]
  },
  {
   "cell_type": "code",
   "execution_count": null,
   "metadata": {
    "ExecuteTime": {
     "end_time": "2020-11-17T10:12:18.137774Z",
     "start_time": "2020-11-17T10:12:16.778Z"
    },
    "id": "UFsCBVqT4NxT"
   },
   "outputs": [],
   "source": [
    "\n",
    "a /= 3\n",
    "\n",
    "a\n",
    "\n",
    "\n"
   ]
  },
  {
   "cell_type": "code",
   "execution_count": null,
   "metadata": {
    "ExecuteTime": {
     "end_time": "2020-11-17T10:12:18.139241Z",
     "start_time": "2020-11-17T10:12:16.783Z"
    },
    "colab": {
     "base_uri": "https://localhost:8080/",
     "height": 202
    },
    "executionInfo": {
     "elapsed": 526,
     "status": "error",
     "timestamp": 1639688457388,
     "user": {
      "displayName": "Ablaye Diallo",
      "photoUrl": "https://lh3.googleusercontent.com/a/default-user=s64",
      "userId": "14643268157553594050"
     },
     "user_tz": 0
    },
    "id": "WJcZMu964NxU",
    "outputId": "8a847f01-9be4-4c15-96fb-6e260045cbe5"
   },
   "outputs": [
    {
     "ename": "NameError",
     "evalue": "ignored",
     "output_type": "error",
     "traceback": [
      "\u001b[0;31m---------------------------------------------------------------------------\u001b[0m",
      "\u001b[0;31mNameError\u001b[0m                                 Traceback (most recent call last)",
      "\u001b[0;32m<ipython-input-11-d465513bbc3f>\u001b[0m in \u001b[0;36m<module>\u001b[0;34m()\u001b[0m\n\u001b[0;32m----> 1\u001b[0;31m \u001b[0ma\u001b[0m \u001b[0;34m+=\u001b[0m\u001b[0;34m(\u001b[0m\u001b[0;36m26\u001b[0m\u001b[0;34m*\u001b[0m \u001b[0;36m32\u001b[0m\u001b[0;34m)\u001b[0m\u001b[0;34m\u001b[0m\u001b[0;34m\u001b[0m\u001b[0m\n\u001b[0m\u001b[1;32m      2\u001b[0m \u001b[0;34m\u001b[0m\u001b[0m\n\u001b[1;32m      3\u001b[0m \u001b[0ma\u001b[0m\u001b[0;34m\u001b[0m\u001b[0;34m\u001b[0m\u001b[0m\n",
      "\u001b[0;31mNameError\u001b[0m: name 'a' is not defined"
     ]
    }
   ],
   "source": [
    "a +=(26* 32)\n",
    "\n",
    "a\n"
   ]
  },
  {
   "cell_type": "markdown",
   "metadata": {
    "id": "BqZb2D0T4NxU"
   },
   "source": [
    "## Bonus: The canonical way to swap two variables in Python"
   ]
  },
  {
   "cell_type": "code",
   "execution_count": null,
   "metadata": {
    "ExecuteTime": {
     "end_time": "2020-11-17T10:12:18.140494Z",
     "start_time": "2020-11-17T10:12:16.790Z"
    },
    "id": "2Mw0wwDg4NxU"
   },
   "outputs": [],
   "source": [
    "a =4\n",
    "b = 5\n",
    "a, b = b, a"
   ]
  },
  {
   "cell_type": "markdown",
   "metadata": {
    "id": "8XpG26Qv4NxU"
   },
   "source": [
    "Repeat the above exercise by assuming that a and b are of bollean type."
   ]
  },
  {
   "cell_type": "markdown",
   "metadata": {
    "collapsed": true,
    "id": "CaWDJPUE4NxU"
   },
   "source": [
    "### Creating a Comment\n",
    "\n",
    "Comments starts with a ``#``, and Python will ignore them:"
   ]
  },
  {
   "cell_type": "code",
   "execution_count": null,
   "metadata": {
    "ExecuteTime": {
     "end_time": "2020-11-17T10:12:18.141831Z",
     "start_time": "2020-11-17T10:12:16.799Z"
    },
    "id": "AOCDgZFH4NxV"
   },
   "outputs": [],
   "source": [
    "#print(\"Hello, World!\")\n",
    "print(\"Cheers, Mate!\")"
   ]
  },
  {
   "cell_type": "markdown",
   "metadata": {
    "ExecuteTime": {
     "end_time": "2020-11-17T10:07:00.272577Z",
     "start_time": "2020-11-17T10:07:00.201487Z"
    },
    "id": "b8gq4-YB4NxV"
   },
   "source": [
    "### Multi Line Comments\n",
    "\n",
    "Python does not really have a syntax for multi line comments.\n",
    "\n",
    "To add a multiline comment you could insert a # for each line:"
   ]
  },
  {
   "cell_type": "code",
   "execution_count": null,
   "metadata": {
    "ExecuteTime": {
     "end_time": "2020-11-17T10:12:18.143255Z",
     "start_time": "2020-11-17T10:12:16.807Z"
    },
    "id": "EgzSEV4D4NxV"
   },
   "outputs": [],
   "source": [
    "#This is a comment\n",
    "#written in\n",
    "#more than just one line\n",
    "print(\"Hello, World!\")"
   ]
  },
  {
   "cell_type": "markdown",
   "metadata": {
    "id": "uwKLj99I4NxV"
   },
   "source": [
    "Or, not quite as intended, you can use a <font color=\"red\">\"multiline string\" </font>.\n",
    "Since Python will ignore string literals that are not assigned to a variable, you can add a multiline string (triple quotes) in your code, and place you comment inside it:"
   ]
  },
  {
   "cell_type": "code",
   "execution_count": null,
   "metadata": {
    "ExecuteTime": {
     "end_time": "2020-11-17T10:12:18.146048Z",
     "start_time": "2020-11-17T10:12:16.813Z"
    },
    "id": "WvqDfSsh4NxW"
   },
   "outputs": [],
   "source": [
    "\"\"\"\n",
    "This is a comment\n",
    "written in\n",
    "more than just one line\n",
    "\"\"\"\n",
    "print(\"Hello, World!\")"
   ]
  },
  {
   "cell_type": "markdown",
   "metadata": {
    "id": "7vdE5QH54NxW"
   },
   "source": [
    "You can find more on comments in Python [here](https://realpython.com/python-comments-guide/#avoid-wet-comments)."
   ]
  },
  {
   "cell_type": "markdown",
   "metadata": {
    "id": "z_ILLtiK4NxW"
   },
   "source": [
    "## Reading input from the Keyboard\n",
    "\n",
    "Generally the real life Python codes do not need to read input from the keyboard. In Python we use ``input`` function to\n",
    "do input. ``input(\"String to show\")``, this will return a string as output."
   ]
  },
  {
   "cell_type": "code",
   "execution_count": null,
   "metadata": {
    "ExecuteTime": {
     "end_time": "2020-11-17T10:12:18.147209Z",
     "start_time": "2020-11-17T10:12:16.821Z"
    },
    "id": "SC0ANAVk4NxW"
   },
   "outputs": [],
   "source": [
    "number = input(\"Enter an integer: \")\n",
    "print(\"-----------------------------------------------------------------------\")\n",
    "print(\"The number you entered is\", number, 'and is of type', type(number))"
   ]
  },
  {
   "cell_type": "markdown",
   "metadata": {
    "id": "nReXzgKe4NxX"
   },
   "source": [
    "Here is the reference material.\n",
    "\n",
    "\n",
    "\n",
    "* [Dive into Python](http://www.diveintopython.net/toc/index.html)\n",
    "\n",
    "* [Software Carpentry's Python Lectures](http://software-carpentry.org/4_0/python/)\n",
    "\n",
    "* [IPython: A System for Interactive Scientific Computing](http://dx.doi.org/10.1109/MCSE.2007.53)\n",
    "\n",
    "* [How to Think Like a Computer Scientist](http://www.greenteapress.com/thinkpython/thinkpython.html)"
   ]
  }
 ],
 "metadata": {
  "anaconda-cloud": {},
  "colab": {
   "collapsed_sections": [
    "1ObNxGGL4Nw-",
    "MmKouwD_4NxC",
    "FSsr1kAO4NxC",
    "p3x0aMud4NxF",
    "aOUt_k114NxI",
    "hGtwJDI74NxM",
    "5Jr06-IC4NxQ",
    "vF5t04v44NxS",
    "wVtAMr7l4NxT",
    "CaWDJPUE4NxU",
    "b8gq4-YB4NxV"
   ],
   "provenance": []
  },
  "kernelspec": {
   "display_name": "Python 3 (ipykernel)",
   "language": "python",
   "name": "python3"
  },
  "language_info": {
   "codemirror_mode": {
    "name": "ipython",
    "version": 3
   },
   "file_extension": ".py",
   "mimetype": "text/x-python",
   "name": "python",
   "nbconvert_exporter": "python",
   "pygments_lexer": "ipython3",
   "version": "3.11.2"
  },
  "toc": {
   "base_numbering": 1,
   "nav_menu": {},
   "number_sections": true,
   "sideBar": true,
   "skip_h1_title": false,
   "title_cell": "Table of Contents",
   "title_sidebar": "Contents",
   "toc_cell": false,
   "toc_position": {},
   "toc_section_display": true,
   "toc_window_display": false
  },
  "varInspector": {
   "cols": {
    "lenName": 16,
    "lenType": 16,
    "lenVar": 40
   },
   "kernels_config": {
    "python": {
     "delete_cmd_postfix": "",
     "delete_cmd_prefix": "del ",
     "library": "var_list.py",
     "varRefreshCmd": "print(var_dic_list())"
    },
    "r": {
     "delete_cmd_postfix": ") ",
     "delete_cmd_prefix": "rm(",
     "library": "var_list.r",
     "varRefreshCmd": "cat(var_dic_list()) "
    }
   },
   "types_to_exclude": [
    "module",
    "function",
    "builtin_function_or_method",
    "instance",
    "_Feature"
   ],
   "window_display": false
  }
 },
 "nbformat": 4,
 "nbformat_minor": 1
}
