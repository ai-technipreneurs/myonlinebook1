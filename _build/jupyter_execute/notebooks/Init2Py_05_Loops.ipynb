{
 "cells": [
  {
   "cell_type": "markdown",
   "metadata": {
    "id": "1392eIddFH9N"
   },
   "source": [
    "<center>\n",
    "    <a href=\"https://www.aims-senegal.org/\" ><img src=\"aimssn_logo.png\" style=\"float:center; max-width: 600px; display: inline\" alt=\"IMSP\"/> </a>\n",
    "    </center>\n",
    "    \n",
    "#    <center> <b> <span style=\"color:orange;\" >  `Python for Scientific Computing and Software Engineering ` </span> </b></center>\n",
    "\n",
    "\n",
    "## <center> <b> <span style=\"color:orange;\"> An Initiation to Programming using Python (Init2Py) </span> </b></center>\n",
    "\n",
    "### <center> <b> <span style=\"color:blue;\"> Loops </span> </b></center>"
   ]
  },
  {
   "cell_type": "markdown",
   "metadata": {
    "id": "wi3aYUf6E2mR"
   },
   "source": [
    "A Python script is made up of a sequence of instructions executed from top to bottom. Each line of instructions contains one or many physical lines that can be followed by an antislash `\\` or an opening character  `[({` not yet closed.\n",
    "That execution in sequence can be modify to choose or repeat slices of code. It is the goal of this notebook.\n"
   ]
  },
  {
   "cell_type": "markdown",
   "metadata": {
    "id": "H6tiaV4ppW0a"
   },
   "source": [
    "## The conditional structure\n",
    "Conditional instructions are operations the program must execute based on the value of a logical. Conditional instructions are defined inside a `if...else` clause.\n",
    "\n",
    "The general structure of a `if...else` bloc is as follows:\n",
    "\n",
    "```python\n",
    "if expression_logique :\n",
    "    instruction1\n",
    "    instruction2\n",
    "    ..\n",
    "    instructionn\n",
    "else :\n",
    "    other_bloc_instructions\n",
    "```\n",
    "\n",
    "Pay attention to the symbol `:` after the keyword if or else that marks the end of the declaration of the function if or else and the beggining of the definition of instructions.\n",
    "\n",
    "Also note the else clause is not mandatory, i.e there may be a `if` clause without a `else` clause.\n",
    "\n",
    "Please note the essential role of the *indentation* that allows to delimit each bloc of instructions and the presence of the colon after the condition of choice and after the keyword `else`."
   ]
  },
  {
   "cell_type": "code",
   "execution_count": null,
   "metadata": {
    "id": "hvvxJuEfpgAy"
   },
   "outputs": [],
   "source": [
    "# Instructions with a simple clause « if »\n",
    "a = 150\n",
    "if (a > 100):\n",
    "    print(\"a is greater than 100\")\n",
    "\n",
    "print(\"================================================\")\n",
    "print('\\t')\n",
    "\n",
    "\n",
    "# Instructions with clause if... else...\n",
    "x = 120\n",
    "if (x > 100):\n",
    "    print(\"x is greater than 100\")\n",
    "else:\n",
    "    print(\"x is not greater than 100\")"
   ]
  },
  {
   "cell_type": "markdown",
   "metadata": {
    "id": "JERRK50Bp6s_"
   },
   "source": [
    "### Instructions with the clause if... elif... else...\n",
    "\n",
    "The clause `if... elif... else`is used when we have many logical conditions to which are associated instructions to execute when they are verified.\n",
    "\n",
    "```python\n",
    "    x = 0\n",
    "    if x > 0 :\n",
    "        print(\"x is positive\")\n",
    "    elif x < 0 :\n",
    "        print(\"x is negative\")\n",
    "    else:\n",
    "        print(\"x is null\")\n",
    " ```       "
   ]
  },
  {
   "cell_type": "code",
   "execution_count": null,
   "metadata": {
    "id": "VyMvWJr9p9GX"
   },
   "outputs": [],
   "source": [
    "x = 0\n",
    "if x > 0 :\n",
    "    print(\"The number x = \",x,\"is positive\")\n",
    "elif x < 0 :\n",
    "    print(\"The number = \",x,\"est negative\")\n",
    "else:\n",
    "    print(\"The number = \",x,\" is null\")"
   ]
  },
  {
   "cell_type": "markdown",
   "metadata": {
    "id": "qeTftxh2qEeV"
   },
   "source": [
    "**Note:** As shown in the above example , the *elif* clause can be used as many times as there are  alternatives conditions between the initial if clause and the final else clause. However, the use of the elif clause is not mandatory to translate  alternative conditions . One can simply use the if instead of the elif clause."
   ]
  },
  {
   "cell_type": "markdown",
   "metadata": {
    "id": "SRRAr_E2E2mT"
   },
   "source": [
    "## Instructions in loops.\n",
    "\n",
    "With python, one distinguishes two main categories of instructions in loops: the instructions in **« while... »** loop and the instructions in **« for... in... »** loop.\n",
    "\n",
    "### The  while loops\n",
    "\n",
    "After introducing the structures of choice, we turn our interest in structures of repetition : these structures allow to execute many times a bloc of instructions. There are two categories of these repetitions:\n",
    "  \n",
    "  - the conditional repetitions  : the bloc of instructions has to be repeated as many times as a condition is satisfied.\n",
    "\n",
    "  - the unconditional repetitions : the bloc of instructions is repeated a given number of time.\n",
    "  \n",
    "\n",
    "The general syntax to define instructions in a `while` loop is the following:\n",
    "\n",
    "```python\n",
    "   Initialisation of the variable of incrementation\n",
    "   while condition :\n",
    "        bloc_instructions\n",
    "        incrementation\n",
    "\n",
    "```\n",
    "\n",
    "As in the if structure, the condition is firstly evaluated and if it is true, the bloc of instructions is executed. But here the while clause after execution of the bloc of instruction, the condition is again evaluated. That execution is repeated till the condition becomes false. That is why it is necessary to define a variable of incrementation whose value is modified after each execution in such a way the condition becomes false at some level.\n",
    "\n",
    "That incrémentation is necessary to avoid that the instructions stay indefinitely evaluated, thus creating ainsi an infinite loop (or a crazy loop). Such a situation thus needs a forced outage ot the execution of the programme."
   ]
  },
  {
   "cell_type": "code",
   "execution_count": null,
   "metadata": {
    "id": "x9PZQJQ6E2mV"
   },
   "outputs": [],
   "source": [
    "x = 1 # Initialisation of the variable x\n",
    "while (x < 10):\n",
    "    print('The value of x is ', a)\n",
    "    x = x + 1 # Incrementation of the variable x"
   ]
  },
  {
   "cell_type": "code",
   "execution_count": null,
   "metadata": {
    "id": "lZ-B25vuE2mY"
   },
   "outputs": [],
   "source": [
    "fruits = ['apples', 'oranges', 'strawberries', 'bananas']\n",
    "i = 0\n",
    "while i < len(fruits):\n",
    "    print (fruits[i])\n",
    "    i = i + 1"
   ]
  },
  {
   "cell_type": "markdown",
   "metadata": {
    "id": "sNzGiyPyE2mc"
   },
   "source": [
    "### Instructions in « for... in... » loop\n",
    "\n",
    "When we want to repeat a bloc of instructions specific number of times, one can use an *active counter*, i.e a variable that counts the number of repetitions and conditions the exit of the **while** loop. It is the case in the following example where we define a function that takes as argument an integer `n` and displays `n` times the same message.\n",
    "\n",
    "To perform such a repetition, one has a structure of repetition that saves us from, on one hand, the initialisation of the counter `( i = 0 )`, and from the other, its incrementation `( i += 1 )`: it is the structure introduced by the keyword `for`.\n",
    "\n",
    "The general syntax to define instructions in  `for... in...` loop is the following:\n",
    "\n",
    "```python\n",
    "   for element in sequence_de_valeurs :\n",
    "        bloc instructions\n",
    "```        "
   ]
  },
  {
   "cell_type": "code",
   "execution_count": null,
   "metadata": {
    "id": "wRtJ8ibBE2me"
   },
   "outputs": [],
   "source": [
    "n = 5\n",
    "for i in range(n):\n",
    "    print('I repeat myself {} times.' ' (i={})'.format(n, i))"
   ]
  },
  {
   "cell_type": "code",
   "execution_count": null,
   "metadata": {
    "id": "qiwgbEFyE2mg"
   },
   "outputs": [],
   "source": [
    "# Instruction in a simple loop « for.. in ... »\n",
    "for i in range(1,11) :\n",
    "    print(i)"
   ]
  },
  {
   "cell_type": "code",
   "execution_count": null,
   "metadata": {
    "id": "tDvHicJCE2mj"
   },
   "outputs": [],
   "source": [
    "# Loop « for.. in... » on a string\n",
    "listch = \"Hello world\"\n",
    "for i in listch :\n",
    "    print ( i )"
   ]
  },
  {
   "cell_type": "code",
   "execution_count": null,
   "metadata": {
    "id": "lfDa65kqNpXU"
   },
   "outputs": [],
   "source": []
  },
  {
   "cell_type": "code",
   "execution_count": null,
   "metadata": {
    "id": "k5OAWMCWE2ml"
   },
   "outputs": [],
   "source": [
    "# Combination of a  « for...in ... » loop and a « if » clause\n",
    "listnb = [4, 5, 6]\n",
    "for i in listnb:\n",
    "    if i == 5:\n",
    "        print(\"The condition is satisfied for the element\", i)\n",
    "    else :\n",
    "        print(\"The condition is not satisfied for the element\", i)"
   ]
  },
  {
   "cell_type": "code",
   "execution_count": null,
   "metadata": {
    "id": "iFYqzUXWE2mm"
   },
   "outputs": [],
   "source": [
    "# Combination of a loop « for...in ... » and a « if » clause\n",
    "mych = \"Hello World\"\n",
    "for letter in mych :\n",
    "    if letter in \"AEIOUYaeiouy\":\n",
    "        print ('The letter', letter, 'is a vowel')\n",
    "    else :\n",
    "        print ('The letter', letter, 'is a consonant')"
   ]
  },
  {
   "cell_type": "code",
   "execution_count": null,
   "metadata": {
    "id": "Uw7qOZbmE2mo"
   },
   "outputs": [],
   "source": [
    "# Combination of a loop « for...in ... » a « if » clause\n",
    "# We take into account the space character\n",
    "mych = \"Hello World\"\n",
    "for letter in mych :\n",
    "    if letter in \"AEIOUYaeiouy\":\n",
    "        print ('The letter', letter, 'is a vowel')\n",
    "    elif letter == \" \" :\n",
    "        print (\"It is surely a space\")\n",
    "    else :\n",
    "        print ('The letter', letter, 'is a consonant')"
   ]
  },
  {
   "cell_type": "code",
   "execution_count": null,
   "metadata": {
    "id": "CWMHBOGuE2mo"
   },
   "outputs": [],
   "source": [
    "fruits = ['mangoe', 'pawpaw', 'pear', 'banana']\n",
    "costs = [49, 99, 15, 32]\n",
    "for fruit, price in zip(fruits, costs):\n",
    "    print(\"A\",fruit, \"costs\", price, \"CFA francs.\")"
   ]
  },
  {
   "cell_type": "code",
   "execution_count": null,
   "metadata": {
    "colab": {
     "base_uri": "https://localhost:8080/"
    },
    "executionInfo": {
     "elapsed": 20,
     "status": "ok",
     "timestamp": 1641313685802,
     "user": {
      "displayName": "Bahati Chadrack Kilongo",
      "photoUrl": "https://lh3.googleusercontent.com/a-/AOh14GjWnS1OlwN1PX9ji1UCLdN8XHx2RIlikHmCtP0J=s64",
      "userId": "09603649212836048418"
     },
     "user_tz": 0
    },
    "id": "XUMOwtewE2mq",
    "outputId": "11b77953-da0b-4b47-b2ea-0ed0b045ea52"
   },
   "outputs": [
    {
     "name": "stdout",
     "output_type": "stream",
     "text": [
      "A mangoe costs 49 CFA francs.\n",
      "A pawpaw costs 99 CFA francs.\n",
      "A pear costs 15 CFA francs.\n",
      "A banana costs 32 CFA francs.\n"
     ]
    }
   ],
   "source": [
    "costs = {'mangoe': 49, 'pawpaw': 99, 'pear': 15, 'banana': 32}\n",
    "for fruit, price in costs.items():\n",
    "    print (\"A\",fruit, \"costs\", price, \"CFA francs.\")"
   ]
  },
  {
   "cell_type": "markdown",
   "metadata": {
    "id": "MbPxPA-PE2mr"
   },
   "source": [
    "### List by comprehension\n",
    "To create lists, Python offers a syntactical ease  particularly pleasant, namely *list-comprehensions*. They allow to generate lists in a very concise way, without the use of loops if the elements have to be tested or treated before being integrated in the list.\n",
    "\n",
    "The syntax to define a *list-comprehension* is similar to the one use in mathematics to define a set by comprehension:"
   ]
  },
  {
   "cell_type": "markdown",
   "metadata": {
    "id": "KFjGERsTE2ms"
   },
   "source": [
    "The expression has the form :\n",
    "    \n",
    "                    [expression for expression in sequence [`if` test]]"
   ]
  },
  {
   "cell_type": "code",
   "execution_count": null,
   "metadata": {
    "colab": {
     "base_uri": "https://localhost:8080/"
    },
    "executionInfo": {
     "elapsed": 10,
     "status": "ok",
     "timestamp": 1639758546144,
     "user": {
      "displayName": "Khadidiatou Faye",
      "photoUrl": "https://lh3.googleusercontent.com/a-/AOh14Gjck5N8AGBPskhZ_UJprBOfJWBDoD-JiDu-i6ce=s64",
      "userId": "09897923053848688411"
     },
     "user_tz": 0
    },
    "id": "8rGg33mgE2mt",
    "outputId": "44d8a707-f6b9-4747-b94b-1b321e8185ce"
   },
   "outputs": [
    {
     "name": "stdout",
     "output_type": "stream",
     "text": [
      "[6, 12, 18, 24, 30]\n",
      "================================================\n",
      "\t\n",
      "[[2, 8], [4, 64], [6, 216], [8, 512], [10, 1000]]\n",
      "================================================\n",
      "\t\n",
      "[18, 24, 30]\n",
      "================================================\n",
      "\t\n",
      "[6, 12, 18]\n",
      "================================================\n",
      "\t\n",
      "[0, 2, 4, 0, 4, 8, 0, 6, 12, 0, 8, 16, 0, 10, 20]\n"
     ]
    }
   ],
   "source": [
    "mylist = [2, 4, 6, 8, 10]\n",
    "\n",
    "\n",
    "print([3*x for x in mylist])\n",
    "print(\"================================================\")\n",
    "print('\\t')\n",
    "\n",
    "\n",
    "\n",
    "print([[x, x**3] for x in mylist])\n",
    "print(\"================================================\")\n",
    "print('\\t')\n",
    "\n",
    "\n",
    "\n",
    "print([3*x for x in mylist if x > 5] )# one  filters with one condition\n",
    "print(\"================================================\")\n",
    "print('\\t')\n",
    "\n",
    "\n",
    "\n",
    "print([3*x for x in mylist if x**2 < 50]) # one  filters with one condition\n",
    "print(\"================================================\")\n",
    "print('\\t')\n",
    "\n",
    "\n",
    "mylist2 = list(range(3))\n",
    "print(mylist2)\n",
    "print([x*y for x in mylist for y in mylist2])\n",
    "\n"
   ]
  },
  {
   "cell_type": "code",
   "execution_count": null,
   "metadata": {
    "id": "jRthWDADE2mx"
   },
   "outputs": [],
   "source": [
    "# Here is an example, an efficient way to obtain the list of the leap years in a given range:\n",
    "bissextile = [b for b in range(2000, 2100) if (b % 4 ==0 and b % 100 != 0) or (b % 400 == 0)]"
   ]
  },
  {
   "cell_type": "markdown",
   "metadata": {
    "id": "L9LHpCNiE2m6"
   },
   "source": [
    "### The break and continue instructions in a « while... » or « for ... in...» clause\n",
    "The reserved words `break` and `continue` are used to modify the behavior of a « for...in » loop or a « while... » loop.\n",
    "\n",
    "The instruction `break` allows to stop the evaluation of the loop and the execution of instructions to prematurely leave the loop even if the main condition defining the loop still stays true.\n",
    "\n",
    "The instruction `continue` allows to hang the execution of instructions when the main condition is satisfied. The below examples are some illustrations."
   ]
  },
  {
   "cell_type": "markdown",
   "metadata": {
    "id": "yvnnSwLYlc7d"
   },
   "source": [
    "Initially, this for loop wants to display all the elements of the sequence values from 1 to 4. But with the `break` instruction defined inside the if clause, the loop is stopped when i becomes greater than 2."
   ]
  },
  {
   "cell_type": "code",
   "execution_count": null,
   "metadata": {
    "id": "vwZWbw5Slc7e"
   },
   "outputs": [],
   "source": [
    "# Loop with the \"break\" instruction\n",
    "for i in range(5):\n",
    "    if i > 2:\n",
    "        break\n",
    "print (i)"
   ]
  },
  {
   "cell_type": "markdown",
   "metadata": {
    "id": "bTHtPym1lc7g"
   },
   "source": [
    "Initially, this for loop is conceived to display all the elements of the sequence values from 1 to 4. But with the `continue` instruction defined inside the if clause, the `print()` instruction is not executed when i takes the value 2. But it is executed for all others sequence values."
   ]
  },
  {
   "cell_type": "code",
   "execution_count": null,
   "metadata": {
    "id": "LCQZd3_Alc7g"
   },
   "outputs": [],
   "source": [
    "# Loop with the \"continue\" instruction\n",
    "for i in range(5):\n",
    "    if i == 2:\n",
    "        continue\n",
    "    print (i)"
   ]
  },
  {
   "cell_type": "markdown",
   "metadata": {
    "id": "-GooCPnmlc7g"
   },
   "source": [
    "The <b> <span style=\"color:pink;\"> break </span> </b> instruction\n",
    "\n",
    "The <b> <span style=\"color:pink;\"> break </span> </b> instruction allows to « break » the execution of a loop (while or for). It makes you exit the loop and move to the next instruction.\n",
    "\n",
    "Example"
   ]
  },
  {
   "cell_type": "code",
   "execution_count": 1,
   "metadata": {
    "colab": {
     "base_uri": "https://localhost:8080/"
    },
    "executionInfo": {
     "elapsed": 10,
     "status": "ok",
     "timestamp": 1713659537658,
     "user": {
      "displayName": "Kanigui Frejus Soro",
      "userId": "11393731695353443540"
     },
     "user_tz": -120
    },
    "id": "P_bdPTwYlc7h",
    "outputId": "67c5618d-6601-469e-c747-876749e1e78c"
   },
   "outputs": [
    {
     "name": "stdout",
     "output_type": "stream",
     "text": [
      "start iteration 0\n",
      "hello\n",
      "stop iteration 0\n",
      "start iteration 1\n",
      "hello\n",
      "stop iteration 1\n",
      "start iteration 2\n",
      "hello\n",
      "after the loop\n"
     ]
    }
   ],
   "source": [
    "for i in range(10):\n",
    "    print(\"start iteration\", i)\n",
    "    print(\"hello\")\n",
    "    if i == 2:\n",
    "        break\n",
    "    print(\"stop iteration\", i)\n",
    "print(\"after the loop\")"
   ]
  },
  {
   "cell_type": "markdown",
   "metadata": {
    "id": "FqzFLarNlc7i"
   },
   "source": [
    "<b> <span style=\"color:red;\"> Note: </span> </b>\n",
    "In the case of nested loops, the `break` instruction only makes you go out from the most internal loop.\n"
   ]
  },
  {
   "cell_type": "markdown",
   "metadata": {
    "id": "U-jX5fKYlc7i"
   },
   "source": [
    "\n",
    "Remark : equivalent of  <b> <span style=\"color:red;\"> do ... while </span> </b>\n",
    "\n",
    "In many programming languages, there exists a `do…while` instruction that allows to create a loop for which one doesn't already know the number of repetitions, but that must be executed at least once. That instruction does not exist in Python but we can easily reproduce his working in the following way:"
   ]
  },
  {
   "cell_type": "code",
   "execution_count": null,
   "metadata": {
    "id": "4SVXtrFtlc7i"
   },
   "outputs": [],
   "source": [
    "while True:\n",
    "    n = int(input(\"give an integer > 0 : \"))\n",
    "    print(\"you gave\", n)\n",
    "    if n > 0:\n",
    "        break\n",
    "print(\"correct answer\")"
   ]
  },
  {
   "cell_type": "markdown",
   "metadata": {
    "id": "SiRxEV1llc7j"
   },
   "source": [
    "The <b> <span style=\"color:pink;\"> continue </span> </b> instruction.\n",
    "\n",
    "The <b> <span style=\"color:pink;\"> continue </span> </b> instruction allows to prematurely pass to the next tour of the loop. It makes continue to the next iteration of the loop.\n",
    "\n",
    "Example"
   ]
  },
  {
   "cell_type": "code",
   "execution_count": null,
   "metadata": {
    "id": "LAQhJ_g0lc7j"
   },
   "outputs": [],
   "source": [
    "for i in range(4):\n",
    "    print(\"start iteration\", i)\n",
    "    print(\"hello\")\n",
    "    if i < 2:\n",
    "        continue\n",
    "    print(\"stop iteration\", i)\n",
    "print(\"after the loop\")"
   ]
  }
 ],
 "metadata": {
  "colab": {
   "provenance": []
  },
  "kernelspec": {
   "display_name": "Python 3",
   "language": "python",
   "name": "python3"
  },
  "language_info": {
   "codemirror_mode": {
    "name": "ipython",
    "version": 3
   },
   "file_extension": ".py",
   "mimetype": "text/x-python",
   "name": "python",
   "nbconvert_exporter": "python",
   "pygments_lexer": "ipython3",
   "version": "3.8.10"
  },
  "varInspector": {
   "cols": {
    "lenName": 16,
    "lenType": 16,
    "lenVar": 40
   },
   "kernels_config": {
    "python": {
     "delete_cmd_postfix": "",
     "delete_cmd_prefix": "del ",
     "library": "var_list.py",
     "varRefreshCmd": "print(var_dic_list())"
    },
    "r": {
     "delete_cmd_postfix": ") ",
     "delete_cmd_prefix": "rm(",
     "library": "var_list.r",
     "varRefreshCmd": "cat(var_dic_list()) "
    }
   },
   "types_to_exclude": [
    "module",
    "function",
    "builtin_function_or_method",
    "instance",
    "_Feature"
   ],
   "window_display": false
  }
 },
 "nbformat": 4,
 "nbformat_minor": 0
}